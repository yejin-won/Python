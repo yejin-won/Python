{
 "cells": [
  {
   "cell_type": "markdown",
   "metadata": {},
   "source": [
    "# SVM(Support Vector Machine)\n",
    "- 선형 SVM : 커널을 사용하지 않고 데이터를 분류, 비용(=오차)을 조절해서 마진의 크기를 조절\n",
    "- 커널 트릭 : 선형 분리가 주어진 차원에서 불가능할 경우 고차원을 데이터를 옮기는 효과를 찾음. <br>\n",
    "비용(C)과 gamma(RBF 커널)을 조절해서 마진의 크기를 조절 <br>\n",
    "- 함수의 표준편차를 조정함으로써 결정 경계의 곡률을 조정하여 이 표준편차의 조정변수를 감마라고 한다."
   ]
  },
  {
   "cell_type": "markdown",
   "metadata": {},
   "source": [
    "### 파라미터 튜닝\n",
    ": 정확도를 높히기 위해 비용(C)과 감마의 수치를 조정함으로써 정확도를 높일 수 있음.\n",
    "- 비용 : 마진 너비 조절 변수, 클수록 마진너비가 좁아지고 작을수록 마진너비가 넓어진다.\n",
    "- 감마 : 커널의 표준편차 조절변수, 작을수록 데이터 포인트의 영향이 커져서 경계가 완만해지고 <br>\n",
    "클수록 데이터포인터가 결정경계에 영향을 미쳐서 경계가 구부러진다."
   ]
  },
  {
   "cell_type": "code",
   "execution_count": 1,
   "metadata": {},
   "outputs": [],
   "source": [
    "import pandas as pd"
   ]
  },
  {
   "cell_type": "code",
   "execution_count": 2,
   "metadata": {},
   "outputs": [],
   "source": [
    "train = pd.read_csv(\"../Data/basketball_train.csv\")\n",
    "test = pd.read_csv(\"../Data/basketbal_test.csv\")"
   ]
  },
  {
   "cell_type": "markdown",
   "metadata": {},
   "source": [
    "### GridSearch를 이용하여 C와 gamma 구하기"
   ]
  },
  {
   "cell_type": "code",
   "execution_count": 3,
   "metadata": {},
   "outputs": [],
   "source": [
    "from sklearn.svm import SVC\n",
    "from sklearn.model_selection import GridSearchCV"
   ]
  },
  {
   "cell_type": "code",
   "execution_count": 4,
   "metadata": {},
   "outputs": [],
   "source": [
    "def svc_param_selection(X,y,nfolds):\n",
    "    svm_parameters = [\n",
    "        {\n",
    "            'kernel':['rbf'], # kernel이 linear이면 C Parameter만 사용\n",
    "            'gamma' :[0.00001,0.0001,0.001,0.01,0.1,1],\n",
    "            'C' :[0.01,0.1,1,10,100,1000]\n",
    "        }\n",
    "    ]\n",
    "    clf = GridSearchCV(SVC(),svm_parameters,cv=nfolds)\n",
    "    clf.fit(X,y)\n",
    "    print(clf.best_params_)\n",
    "    return clf"
   ]
  },
  {
   "cell_type": "code",
   "execution_count": 5,
   "metadata": {},
   "outputs": [
    {
     "name": "stdout",
     "output_type": "stream",
     "text": [
      "{'C': 1, 'gamma': 1, 'kernel': 'rbf'}\n"
     ]
    }
   ],
   "source": [
    "x_train = train[['3P','BLK']]\n",
    "y_train = train['Pos']\n",
    "clf = svc_param_selection(x_train,y_train,10)"
   ]
  },
  {
   "cell_type": "code",
   "execution_count": 6,
   "metadata": {},
   "outputs": [
    {
     "data": {
      "text/plain": [
       "0.85"
      ]
     },
     "execution_count": 6,
     "metadata": {},
     "output_type": "execute_result"
    }
   ],
   "source": [
    "x_test = test[['3P','BLK']]\n",
    "y_test = test['Pos']\n",
    "clf.score(x_test,y_test)"
   ]
  },
  {
   "cell_type": "code",
   "execution_count": null,
   "metadata": {},
   "outputs": [],
   "source": []
  }
 ],
 "metadata": {
  "kernelspec": {
   "display_name": "Python 3.9.7 ('base')",
   "language": "python",
   "name": "python3"
  },
  "language_info": {
   "codemirror_mode": {
    "name": "ipython",
    "version": 3
   },
   "file_extension": ".py",
   "mimetype": "text/x-python",
   "name": "python",
   "nbconvert_exporter": "python",
   "pygments_lexer": "ipython3",
   "version": "3.9.7"
  },
  "orig_nbformat": 4,
  "vscode": {
   "interpreter": {
    "hash": "c34e8390e776d2ee205b71ed5a6130fee3cef8da5e87e926ce18e14f4a070d72"
   }
  }
 },
 "nbformat": 4,
 "nbformat_minor": 2
}

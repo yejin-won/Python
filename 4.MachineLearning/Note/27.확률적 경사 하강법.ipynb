{
 "cells": [
  {
   "cell_type": "markdown",
   "metadata": {},
   "source": [
    "# 확률적 경사 하강법(SGD: Stochastic Gradient Descent)\n",
    "- 머신러닝에도 많이 사용하지만 실질적으로는 딥러닝에서 많이 사용한다.       \n",
    "- 데이터가 추가 되었을 경우 머신러닝 처리 방법     \n",
    "\n",
    "1. 새로운 데이터로 모델을 추가하여 새롭게 학습하여 처리한다.\n",
    "2. 추가된 갯수만큼 기존의 데이터를 버리고 사용한다. \n",
    "3. 기존 모델을 수정하면서 사용한다 (점진적 학습방법)\n",
    "\n",
    "\n",
    "- 데이터가 추가하였을 경우에도 새로운 모델을 만들지 않고 기존의 모델을 수정하면서 사용할 수 있는 방법     \n",
    "- 머신러닝 및 딥러닝 알고리즘을 훈련하는 방법 또는 최적화 하는 방법이지 머신러닝이나 딥러닝 모델은 아님.     \n",
    "- 확률족 : 랜덤, 경사 : 기울기를 의미     \n",
    "- 곡선의 최적점을 찾기 위해 기울기를 기준으로 조금씩 이동하면서 최적점을 찾는 방법     \n"
   ]
  },
  {
   "cell_type": "markdown",
   "metadata": {},
   "source": [
    "- Epoch : 훈련세트를 다 사용하였을 경우의 단계\n",
    "- 미니배치(mini batch)경사 하강법 중 미니배치의 갯수 : Hyper parameter, 보통은ㄴ 2의 배수\n",
    "- 배치 경사 하강법 : 샘플을 한번에 몽땅 꺼내면 컴퓨터 메모리나 CPU에 영향을 줄 수 있어서 거의 사용이 안 되고 주로 \n",
    "확률적 경사하강법이나 미니배치를 사용한다."
   ]
  },
  {
   "cell_type": "markdown",
   "metadata": {},
   "source": [
    "### 손실함수(비용함수)\n",
    "- 머신러닝 알고리즘이 에러율을 측정하는 함수  \n",
    "- 손실함수 값이 적은것이 정확도가 높은 것이다.    \n",
    "- 확률적 경사함수를 통해서 손실함수가 낮은 값을 찾는 것이다.      \n",
    "- 분류함수인 경우에는 정확도를 사용하는데 이 정확도의 값은 미분할수가 없어서(연속성이 없어) 손실함수로 사용할 수 없다.    \n",
    "- 분류함수인 경우에는 로지스틱 손실함수, 이진크로스엔트로피 손실함수를 사용한다\n"
   ]
  },
  {
   "cell_type": "code",
   "execution_count": 1,
   "metadata": {},
   "outputs": [],
   "source": [
    "import warnings\n",
    "warnings.filterwarnings('ignore')"
   ]
  },
  {
   "cell_type": "code",
   "execution_count": 2,
   "metadata": {},
   "outputs": [
    {
     "data": {
      "text/html": [
       "<div>\n",
       "<style scoped>\n",
       "    .dataframe tbody tr th:only-of-type {\n",
       "        vertical-align: middle;\n",
       "    }\n",
       "\n",
       "    .dataframe tbody tr th {\n",
       "        vertical-align: top;\n",
       "    }\n",
       "\n",
       "    .dataframe thead th {\n",
       "        text-align: right;\n",
       "    }\n",
       "</style>\n",
       "<table border=\"1\" class=\"dataframe\">\n",
       "  <thead>\n",
       "    <tr style=\"text-align: right;\">\n",
       "      <th></th>\n",
       "      <th>Species</th>\n",
       "      <th>Weight</th>\n",
       "      <th>Length</th>\n",
       "      <th>Diagonal</th>\n",
       "      <th>Height</th>\n",
       "      <th>Width</th>\n",
       "    </tr>\n",
       "  </thead>\n",
       "  <tbody>\n",
       "    <tr>\n",
       "      <th>0</th>\n",
       "      <td>Bream</td>\n",
       "      <td>242.0</td>\n",
       "      <td>25.4</td>\n",
       "      <td>30.0</td>\n",
       "      <td>11.5200</td>\n",
       "      <td>4.0200</td>\n",
       "    </tr>\n",
       "    <tr>\n",
       "      <th>1</th>\n",
       "      <td>Bream</td>\n",
       "      <td>290.0</td>\n",
       "      <td>26.3</td>\n",
       "      <td>31.2</td>\n",
       "      <td>12.4800</td>\n",
       "      <td>4.3056</td>\n",
       "    </tr>\n",
       "    <tr>\n",
       "      <th>2</th>\n",
       "      <td>Bream</td>\n",
       "      <td>340.0</td>\n",
       "      <td>26.5</td>\n",
       "      <td>31.1</td>\n",
       "      <td>12.3778</td>\n",
       "      <td>4.6961</td>\n",
       "    </tr>\n",
       "    <tr>\n",
       "      <th>3</th>\n",
       "      <td>Bream</td>\n",
       "      <td>363.0</td>\n",
       "      <td>29.0</td>\n",
       "      <td>33.5</td>\n",
       "      <td>12.7300</td>\n",
       "      <td>4.4555</td>\n",
       "    </tr>\n",
       "    <tr>\n",
       "      <th>4</th>\n",
       "      <td>Bream</td>\n",
       "      <td>430.0</td>\n",
       "      <td>29.0</td>\n",
       "      <td>34.0</td>\n",
       "      <td>12.4440</td>\n",
       "      <td>5.1340</td>\n",
       "    </tr>\n",
       "  </tbody>\n",
       "</table>\n",
       "</div>"
      ],
      "text/plain": [
       "  Species  Weight  Length  Diagonal   Height   Width\n",
       "0   Bream   242.0    25.4      30.0  11.5200  4.0200\n",
       "1   Bream   290.0    26.3      31.2  12.4800  4.3056\n",
       "2   Bream   340.0    26.5      31.1  12.3778  4.6961\n",
       "3   Bream   363.0    29.0      33.5  12.7300  4.4555\n",
       "4   Bream   430.0    29.0      34.0  12.4440  5.1340"
      ]
     },
     "execution_count": 2,
     "metadata": {},
     "output_type": "execute_result"
    }
   ],
   "source": [
    "import pandas as pd\n",
    "\n",
    "fish = pd.read_csv(\"../Data/fishes.csv\")\n",
    "fish.head()"
   ]
  },
  {
   "cell_type": "code",
   "execution_count": 6,
   "metadata": {},
   "outputs": [
    {
     "data": {
      "text/plain": [
       "array([[242.    ,  25.4   ,  30.    ,  11.52  ,   4.02  ],\n",
       "       [290.    ,  26.3   ,  31.2   ,  12.48  ,   4.3056],\n",
       "       [340.    ,  26.5   ,  31.1   ,  12.3778,   4.6961],\n",
       "       [363.    ,  29.    ,  33.5   ,  12.73  ,   4.4555],\n",
       "       [430.    ,  29.    ,  34.    ,  12.444 ,   5.134 ]])"
      ]
     },
     "execution_count": 6,
     "metadata": {},
     "output_type": "execute_result"
    }
   ],
   "source": [
    "# Feature\n",
    "fish_input = fish[['Weight','Length','Diagonal','Height','Width']].to_numpy()\n",
    "fish_input[:5]"
   ]
  },
  {
   "cell_type": "code",
   "execution_count": 7,
   "metadata": {},
   "outputs": [
    {
     "data": {
      "text/plain": [
       "array(['Bream', 'Bream', 'Bream', 'Bream', 'Bream'], dtype=object)"
      ]
     },
     "execution_count": 7,
     "metadata": {},
     "output_type": "execute_result"
    }
   ],
   "source": [
    "# Target\n",
    "fish_target = fish['Species'].to_numpy()\n",
    "fish_target[:5]"
   ]
  },
  {
   "cell_type": "code",
   "execution_count": 8,
   "metadata": {},
   "outputs": [],
   "source": [
    "# Train과 Test로 분리\n",
    "from sklearn.model_selection import train_test_split\n",
    "train_input,test_input,train_target,test_target =\\\n",
    "    train_test_split(fish_input,fish_target,random_state=42)"
   ]
  },
  {
   "cell_type": "code",
   "execution_count": 9,
   "metadata": {},
   "outputs": [],
   "source": [
    "# 표준화 시키기\n",
    "# : 경사하강법을 사용하는 경우에는 샘플의 크기때문에 경사의 각도가 바뀔수 있으므로 \n",
    "# 각 Feature의 Scale을 표준점수로 변경해야한다.\n",
    "from sklearn.preprocessing import StandardScaler\n",
    "ss = StandardScaler()\n",
    "train_scaled = ss.fit_transform(train_input)\n",
    "test_scaled = ss.transform(test_input)"
   ]
  },
  {
   "cell_type": "markdown",
   "metadata": {},
   "source": [
    "---\n",
    "### 확률적 경사하강법의 분류 알고리즘 적용"
   ]
  },
  {
   "cell_type": "code",
   "execution_count": 10,
   "metadata": {},
   "outputs": [],
   "source": [
    "from sklearn.linear_model import SGDClassifier"
   ]
  },
  {
   "cell_type": "code",
   "execution_count": 12,
   "metadata": {},
   "outputs": [],
   "source": [
    "sc = SGDClassifier(\n",
    "    loss= 'log',\n",
    "    max_iter=10,\n",
    "    random_state=42\n",
    ")\n",
    "# loss = 'log : 로지스틱 손실함수\n",
    "# max_iter :Epoch(반복함수)"
   ]
  },
  {
   "cell_type": "code",
   "execution_count": 13,
   "metadata": {},
   "outputs": [
    {
     "name": "stdout",
     "output_type": "stream",
     "text": [
      "train score : 0.773109243697479\n",
      "test  score : 0.775\n"
     ]
    }
   ],
   "source": [
    "sc.fit(train_scaled,train_target)\n",
    "print(\"train score :\",sc.score(train_scaled,train_target))\n",
    "print(\"test  score :\",sc.score(test_scaled,test_target))"
   ]
  },
  {
   "cell_type": "markdown",
   "metadata": {},
   "source": [
    "> score가 별로 안 좋고 과소적합 되어서    \n",
    "> partial_fit을 사용한다. 기존 w와 b의 계수값을 유지한채 Update하는 방법      \n",
    "> 만약에 다시 fit을 사용하면 기존에 학습했던 내용을 모두 버린다.    "
   ]
  },
  {
   "cell_type": "code",
   "execution_count": 18,
   "metadata": {},
   "outputs": [
    {
     "name": "stdout",
     "output_type": "stream",
     "text": [
      "train score : 0.8571428571428571\n",
      "test  score : 0.9\n"
     ]
    }
   ],
   "source": [
    "sc.partial_fit(train_scaled,train_target)\n",
    "print(\"train score :\",sc.score(train_scaled,train_target))\n",
    "print(\"test  score :\",sc.score(test_scaled,test_target))"
   ]
  },
  {
   "cell_type": "markdown",
   "metadata": {},
   "source": [
    "> 처음의 점수보다 기존에 학습했던 내용에 새로운 학습내용을 수정해서 사용하면 점수가 증가했다.          \n",
    "> 이와 같이 점진적으로 정확도를 높이는 방법이 확률적 경사 하강법이다.     \n",
    "> 처음보다는 점수가 증가했지만 아직 과소적합이다. 약간의 차이가 나는 과대적합이 제일 좋은방법이다    "
   ]
  },
  {
   "cell_type": "markdown",
   "metadata": {},
   "source": [
    "---\n",
    "### Epoch와 과대/과소적합\n",
    "- 규제값이 작아지면 과대적합이 된다. \n",
    "- 조기종료(Early Stopping) : 적합한 Epoch의 위치를 찾으면 종료한다. "
   ]
  },
  {
   "cell_type": "code",
   "execution_count": 19,
   "metadata": {},
   "outputs": [
    {
     "data": {
      "text/plain": [
       "array(['Bream', 'Parkki', 'Perch', 'Pike', 'Roach', 'Smelt', 'Whitefish'],\n",
       "      dtype=object)"
      ]
     },
     "execution_count": 19,
     "metadata": {},
     "output_type": "execute_result"
    }
   ],
   "source": [
    "import numpy as np\n",
    "sc = SGDClassifier(loss='log',random_state=42)\n",
    "train_score = []\n",
    "test_score = []\n",
    "classes = np.unique(train_target)\n",
    "classes"
   ]
  },
  {
   "cell_type": "code",
   "execution_count": 20,
   "metadata": {},
   "outputs": [],
   "source": [
    "for _ in range(0,300): # 의미없는 변수일 경우, _를 사용 \n",
    "    sc.partial_fit(train_scaled,train_target,classes=classes)\n",
    "    # partial_fit을 하기 전에 fit을 사용하지 않았으면, classes를 정의해 주어야 부분 수정이 아니라 \n",
    "    # 전체 classes에 대해 수정 작업이 일어난다.\n",
    "    train_score.append(sc.score(train_scaled,train_target))\n",
    "    test_score.append(sc.score(test_scaled,test_target))"
   ]
  },
  {
   "cell_type": "code",
   "execution_count": 21,
   "metadata": {},
   "outputs": [
    {
     "data": {
      "image/png": "[encoded data removed]",
      "text/plain": [
       "<Figure size 432x288 with 1 Axes>"
      ]
     },
     "metadata": {
      "needs_background": "light"
     },
     "output_type": "display_data"
    }
   ],
   "source": [
    "# 그래프로 그려보기\n",
    "import matplotlib.pyplot as plt\n",
    "\n",
    "plt.plot(train_score)\n",
    "plt.plot(test_score)\n",
    "plt.show()"
   ]
  },
  {
   "cell_type": "markdown",
   "metadata": {},
   "source": [
    "> 100정도의 Epoch가 좋은 것 같다. "
   ]
  },
  {
   "cell_type": "code",
   "execution_count": 22,
   "metadata": {},
   "outputs": [
    {
     "name": "stdout",
     "output_type": "stream",
     "text": [
      "train score : 0.957983193277311\n",
      "test  score : 0.925\n"
     ]
    }
   ],
   "source": [
    "# 새롭게 시작\n",
    "sc = SGDClassifier(loss='log',max_iter=100,tol=None,random_state=42) # None = -1\n",
    "# tol: 조기 종료 시점이나 현재는 정지기준이 없고 반복기간동안의 최적의 손실값보다 큰 경우 조기 종료된다.\n",
    "sc.fit(train_scaled,train_target) \n",
    "print(\"train score :\",sc.score(train_scaled,train_target))\n",
    "print(\"test  score :\",sc.score(test_scaled,test_target))\n",
    "  "
   ]
  },
  {
   "cell_type": "code",
   "execution_count": 39,
   "metadata": {},
   "outputs": [
    {
     "name": "stdout",
     "output_type": "stream",
     "text": [
      "train score : 0.7058823529411765\n",
      "test  score : 0.7\n"
     ]
    }
   ],
   "source": [
    "# 조기종료 시점 적용\n",
    "sc = SGDClassifier(loss='log',max_iter=100,tol=1.0e-1,random_state=42)\n",
    "sc.fit(train_scaled,train_target) \n",
    "print(\"train score :\",sc.score(train_scaled,train_target))\n",
    "print(\"test  score :\",sc.score(test_scaled,test_target))"
   ]
  },
  {
   "cell_type": "markdown",
   "metadata": {},
   "source": [
    "> 위의 그래프를 보면 주황색 부분이 치고올라오는 부분이 있으므로 tol을 바꾸어도 100 이전에서 조기종료가 됨    \n",
    "=> 즉, 해당 모양의 그래프 같은 경우에는 조기 종료를 사용하면 안됨"
   ]
  },
  {
   "cell_type": "markdown",
   "metadata": {},
   "source": [
    "---\n",
    "### SVM을 이용한 확률적 경사 하강법"
   ]
  },
  {
   "cell_type": "code",
   "execution_count": 40,
   "metadata": {},
   "outputs": [
    {
     "name": "stdout",
     "output_type": "stream",
     "text": [
      "train score : 0.9495798319327731\n",
      "test  score : 0.925\n"
     ]
    }
   ],
   "source": [
    "sc = SGDClassifier(loss='hinge',max_iter=100,tol=None,random_state=42) # hinge : SVM\n",
    "sc.fit(train_scaled,train_target) \n",
    "print(\"train score :\",sc.score(train_scaled,train_target))\n",
    "print(\"test  score :\",sc.score(test_scaled,test_target))"
   ]
  },
  {
   "cell_type": "code",
   "execution_count": null,
   "metadata": {},
   "outputs": [],
   "source": []
  }
 ],
 "metadata": {
  "kernelspec": {
   "display_name": "Python 3.9.7 ('base')",
   "language": "python",
   "name": "python3"
  },
  "language_info": {
   "codemirror_mode": {
    "name": "ipython",
    "version": 3
   },
   "file_extension": ".py",
   "mimetype": "text/x-python",
   "name": "python",
   "nbconvert_exporter": "python",
   "pygments_lexer": "ipython3",
   "version": "3.9.7"
  },
  "orig_nbformat": 4,
  "vscode": {
   "interpreter": {
    "hash": "c34e8390e776d2ee205b71ed5a6130fee3cef8da5e87e926ce18e14f4a070d72"
   }
  }
 },
 "nbformat": 4,
 "nbformat_minor": 2
}

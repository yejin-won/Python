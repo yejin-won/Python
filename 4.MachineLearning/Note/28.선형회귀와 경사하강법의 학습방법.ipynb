{
 "cells": [
  {
   "cell_type": "code",
   "execution_count": 82,
   "metadata": {},
   "outputs": [],
   "source": [
    "# 당뇨병 환자의 데이터\n",
    "from sklearn.datasets import load_diabetes\n",
    "diabetes = load_diabetes()\n",
    "# 일반적으로 datasets의 저장된 파일을 bunch class 부름"
   ]
  },
  {
   "cell_type": "code",
   "execution_count": 83,
   "metadata": {},
   "outputs": [
    {
     "name": "stdout",
     "output_type": "stream",
     "text": [
      "(442, 10)\n",
      "(442,)\n"
     ]
    }
   ],
   "source": [
    "# 데이터의 크기 확인하기\n",
    "print(diabetes.data.shape) # 문제(442개,10개 feature) \n",
    "print(diabetes.target.shape) # 정답(442개) "
   ]
  },
  {
   "cell_type": "markdown",
   "metadata": {},
   "source": [
    "> data는 442개의 행과 10개의 열로 구성된 2차원 배열입니다.    \n",
    "> target은 442개의 요소를 1차원 배열입니다.     \n",
    "> 여기서 442개를 Sample갯수라고 하며 10개를 특성(Feature)갯수라고 합니다"
   ]
  },
  {
   "cell_type": "code",
   "execution_count": 84,
   "metadata": {},
   "outputs": [
    {
     "data": {
      "text/plain": [
       "['age', 'sex', 'bmi', 'bp', 's1', 's2', 's3', 's4', 's5', 's6']"
      ]
     },
     "execution_count": 84,
     "metadata": {},
     "output_type": "execute_result"
    }
   ],
   "source": [
    "diabetes.feature_names"
   ]
  },
  {
   "cell_type": "code",
   "execution_count": 85,
   "metadata": {},
   "outputs": [
    {
     "data": {
      "text/plain": [
       "array([[ 0.03807591,  0.05068012,  0.06169621,  0.02187235, -0.0442235 ,\n",
       "        -0.03482076, -0.04340085, -0.00259226,  0.01990842, -0.01764613],\n",
       "       [-0.00188202, -0.04464164, -0.05147406, -0.02632783, -0.00844872,\n",
       "        -0.01916334,  0.07441156, -0.03949338, -0.06832974, -0.09220405],\n",
       "       [ 0.08529891,  0.05068012,  0.04445121, -0.00567061, -0.04559945,\n",
       "        -0.03419447, -0.03235593, -0.00259226,  0.00286377, -0.02593034]])"
      ]
     },
     "execution_count": 85,
     "metadata": {},
     "output_type": "execute_result"
    }
   ],
   "source": [
    "# data일부 보기(0~2번 Sample)\n",
    "diabetes.data[0:3]"
   ]
  },
  {
   "cell_type": "code",
   "execution_count": 86,
   "metadata": {},
   "outputs": [
    {
     "data": {
      "text/plain": [
       "array([151.,  75., 141.])"
      ]
     },
     "execution_count": 86,
     "metadata": {},
     "output_type": "execute_result"
    }
   ],
   "source": [
    "# target의 일부 보기\n",
    "diabetes.target[:3]"
   ]
  },
  {
   "cell_type": "code",
   "execution_count": 87,
   "metadata": {},
   "outputs": [
    {
     "data": {
      "image/png": "[encoded data removed]",
      "text/plain": [
       "<Figure size 432x288 with 1 Axes>"
      ]
     },
     "metadata": {
      "needs_background": "light"
     },
     "output_type": "display_data"
    }
   ],
   "source": [
    "# 당뇨병 환자 데이터 시각화 하기(data의 3번째 Feature와 Target)\n",
    "import matplotlib.pyplot as plt\n",
    "\n",
    "plt.scatter(diabetes.data[:,3],diabetes.target)\n",
    "plt.xlabel('x')\n",
    "plt.ylabel('y')\n",
    "plt.show()"
   ]
  },
  {
   "cell_type": "code",
   "execution_count": 88,
   "metadata": {},
   "outputs": [
    {
     "data": {
      "text/plain": [
       "array([[1.        , 0.58645013],\n",
       "       [0.58645013, 1.        ]])"
      ]
     },
     "execution_count": 88,
     "metadata": {},
     "output_type": "execute_result"
    }
   ],
   "source": [
    "# 상관계수 알아보기\n",
    "import numpy as np\n",
    "np.corrcoef(diabetes.data[:,2],diabetes.target)"
   ]
  },
  {
   "cell_type": "markdown",
   "metadata": {},
   "source": [
    "---\n",
    "# 경사 하강법\n",
    ": 경사하강법은 모델이 데이터를 잘 표현할 수 있도록 기울기(변화율)를 사용하여 모델을 조금씩 조정하는 최적화 알고리즘 "
   ]
  },
  {
   "cell_type": "markdown",
   "metadata": {},
   "source": [
    "# 예측값과 변화율 \n",
    "변화율 = 0 => 최적화된 모델, 이에 해당하는 가중치를 찾아야함     \n",
    "(y-y^의 오차율이 없다 = > 변화율(기울기) = 0)\n",
    "### 예측값(y^)\n",
    "예측값은 하나의 모델에서 수식의 결과로 나온 값을 의미 합니다.    \n",
    "(예측값이 정답값으로 수렴한다.)\n",
    "\n",
    "### 훈련데이터에서 잘 맞는 w와 b를 찾는 방법\n",
    "1. 무작위로 w와 b를 정합니다. \n",
    "2. x에서 샘플하나를 선택하여 y^을 계산 합니다.\n",
    "3. y^과 선택한 샘플의 진짜 y를 비교합니다. (예측한 값과 정답 비교하기 : 오차 구하기)\n",
    "4. y^이 y와 가까워지도록 w,b를 조정합니다. (모델 조정하기 : 학습하기)\n",
    "5. 모든 샘플을 처리할 때까지 2)~ 4)항목을 반복합니다. "
   ]
  },
  {
   "cell_type": "code",
   "execution_count": 89,
   "metadata": {},
   "outputs": [
    {
     "name": "stdout",
     "output_type": "stream",
     "text": [
      "[ 0.06169621 -0.05147406  0.04445121 -0.01159501 -0.03638469]\n",
      "[151.  75. 141. 206. 135.]\n"
     ]
    }
   ],
   "source": [
    "# 훈련데이터의 Feature과 Target 정하기\n",
    "x = diabetes.data[:,2]\n",
    "y = diabetes.target\n",
    "\n",
    "# 5개만 출력해보기\n",
    "print(x[:5])\n",
    "print(y[:5])"
   ]
  },
  {
   "cell_type": "code",
   "execution_count": 90,
   "metadata": {},
   "outputs": [],
   "source": [
    "# w와 b를 초기화 하기 : 무작위로 그냥 weight와 Bias를 1로 선택\n",
    "w= 1.0\n",
    "b =1.0"
   ]
  },
  {
   "cell_type": "code",
   "execution_count": 91,
   "metadata": {},
   "outputs": [
    {
     "data": {
      "text/plain": [
       "1.0616962065186886"
      ]
     },
     "execution_count": 91,
     "metadata": {},
     "output_type": "execute_result"
    }
   ],
   "source": [
    "# 훈련데이터의 첫번째 Sample 데이터로 y^ 계산하기\n",
    "y_hat = x[0] * w + b\n",
    "y_hat"
   ]
  },
  {
   "cell_type": "code",
   "execution_count": 92,
   "metadata": {},
   "outputs": [
    {
     "name": "stdout",
     "output_type": "stream",
     "text": [
      "1.0616962065186886\n",
      "151.0\n"
     ]
    }
   ],
   "source": [
    "# Target과 예측 데이터 비교하기 \n",
    "print(y_hat)\n",
    "print(y[0])"
   ]
  },
  {
   "cell_type": "markdown",
   "metadata": {},
   "source": [
    "> 당연한 결과지만 Target과 예측값이 너무 많은 차이가 발생"
   ]
  },
  {
   "cell_type": "markdown",
   "metadata": {},
   "source": [
    "### w값을 조절하기 \n",
    ": w와 b를 조금씩 변경해서 y_hat이 증가하는지 감소하는지 살펴보기"
   ]
  },
  {
   "cell_type": "code",
   "execution_count": 93,
   "metadata": {},
   "outputs": [
    {
     "data": {
      "text/plain": [
       "1.0678658271705574"
      ]
     },
     "execution_count": 93,
     "metadata": {},
     "output_type": "execute_result"
    }
   ],
   "source": [
    "# 기존 w에 0.1만 증가해 보기\n",
    "w_inc = w + 0.1\n",
    "y_hat_inc = w_inc * x[0] + b\n",
    "y_hat_inc"
   ]
  },
  {
   "cell_type": "markdown",
   "metadata": {},
   "source": [
    "> y_hat보다 y_hat_inc가 조금 더 Target에 근접해짐"
   ]
  },
  {
   "cell_type": "code",
   "execution_count": 94,
   "metadata": {},
   "outputs": [
    {
     "data": {
      "text/plain": [
       "0.061696206518688734"
      ]
     },
     "execution_count": 94,
     "metadata": {},
     "output_type": "execute_result"
    }
   ],
   "source": [
    "# w값 조정한 후 예측값 정도 확인하기\n",
    "# w가 0.1증가 했을 때 y_hat이 얼마나 증가했는지 계산해보기(변화율 확인하기)\n",
    "w_rate = (y_hat_inc-y_hat) / (w_inc - w)\n",
    "w_rate"
   ]
  },
  {
   "cell_type": "markdown",
   "metadata": {},
   "source": [
    "> w_rate(변화율)이 x[0]의 값과 동일하다****"
   ]
  },
  {
   "cell_type": "code",
   "execution_count": 95,
   "metadata": {},
   "outputs": [
    {
     "data": {
      "text/plain": [
       "0.06169620651868769"
      ]
     },
     "execution_count": 95,
     "metadata": {},
     "output_type": "execute_result"
    }
   ],
   "source": [
    "# 0.1로 하여서 그런가? 0.2로 바꿔서 계산해보자\n",
    "\n",
    "w_inc = w + 0.2\n",
    "y_hat_inc = w_inc * x[0] + b\n",
    "w_rate = (y_hat_inc-y_hat) / (w_inc - w)\n",
    "w_rate\n"
   ]
  },
  {
   "cell_type": "code",
   "execution_count": 96,
   "metadata": {},
   "outputs": [
    {
     "data": {
      "text/plain": [
       "-0.05147406123880644"
      ]
     },
     "execution_count": 96,
     "metadata": {},
     "output_type": "execute_result"
    }
   ],
   "source": [
    "# 훈련데이터의 2번째 값(음수)로 테스트 해보자\n",
    "\n",
    "w_inc = w + 0.1\n",
    "y_hat = x[1] * w + b\n",
    "y_hat_inc = w_inc * x[1] + b\n",
    "w_rate = (y_hat_inc-y_hat) / (w_inc - w)\n",
    "w_rate"
   ]
  },
  {
   "cell_type": "raw",
   "metadata": {},
   "source": [
    "변화율(w_rate) = (y_hat_inc - y_hat) / (w_inc - w)       \n",
    "             = ((x[0] *w_inc +b ) - (x[0]*w + b)) / (w+ 0.1 -w)   \n",
    "             = x[0](w+0.1-w) / (w + 0.1 -w)    \n",
    "             = x[0]\n",
    "변화율 => Gradiant(경사)"
   ]
  },
  {
   "cell_type": "code",
   "execution_count": 97,
   "metadata": {},
   "outputs": [
    {
     "data": {
      "text/plain": [
       "0.061696206518688734"
      ]
     },
     "execution_count": 97,
     "metadata": {},
     "output_type": "execute_result"
    }
   ],
   "source": [
    "# 변화율에 대한 증명이 끝났으니 다시 훈련데이터의 1번째 값으로 변화율을 구해보자\n",
    "\n",
    "w = b = 1\n",
    "y_hat = x[0] * w + b\n",
    "w_inc = w + 0.1\n",
    "y_hat_inc = w_inc * x[0] +b\n",
    "w_rate = (y_hat_inc - y_hat) / (w_inc-w)\n",
    "w_rate"
   ]
  },
  {
   "cell_type": "code",
   "execution_count": 98,
   "metadata": {},
   "outputs": [
    {
     "data": {
      "text/plain": [
       "1.0616962065186888"
      ]
     },
     "execution_count": 98,
     "metadata": {},
     "output_type": "execute_result"
    }
   ],
   "source": [
    "# 변화율로 가중치를 업데이트 하기 <- 학습하기\n",
    "w_new = w + w_rate\n",
    "w_new"
   ]
  },
  {
   "cell_type": "code",
   "execution_count": 99,
   "metadata": {},
   "outputs": [
    {
     "name": "stdout",
     "output_type": "stream",
     "text": [
      "1.1616962065186887\n",
      "1.0\n"
     ]
    }
   ],
   "source": [
    "# 변화율로 절편 업데이트 하기 <- 학습하기\n",
    "b_inc = b + 0.1\n",
    "y_hat_inc =  w * x[0] +b_inc\n",
    "print(y_hat_inc)\n",
    "\n",
    "b_rate = (y_hat_inc - y_hat) / (b_inc -b)\n",
    "print(b_rate)\n"
   ]
  },
  {
   "cell_type": "code",
   "execution_count": 100,
   "metadata": {},
   "outputs": [
    {
     "data": {
      "text/plain": [
       "2"
      ]
     },
     "execution_count": 100,
     "metadata": {},
     "output_type": "execute_result"
    }
   ],
   "source": [
    "b_new = b + 1\n",
    "b_new"
   ]
  },
  {
   "cell_type": "code",
   "execution_count": 101,
   "metadata": {},
   "outputs": [
    {
     "name": "stdout",
     "output_type": "stream",
     "text": [
      "10.250624555904514 150.9383037934813\n"
     ]
    }
   ],
   "source": [
    "# 오차 역전파로 가중치와 절편을 업데이트 합니다. -> 손실함수(비용함수)를 구성합니다.\n",
    "# 오차 역전파(backpropagation)는 y^과 y의 차이를 이용하여 w와 b를 업데이트 합니다. \n",
    "# 오차와 변화율을 곱하여 가중치 업데이트 하기\n",
    "\n",
    "err = y[0] - y_hat\n",
    "w_new = w + w_rate * err\n",
    "b_new = b + b_rate * err\n",
    "print(w_new,b_new)"
   ]
  },
  {
   "cell_type": "code",
   "execution_count": 102,
   "metadata": {},
   "outputs": [
    {
     "name": "stdout",
     "output_type": "stream",
     "text": [
      "14.132317616381767 75.52764127612664\n"
     ]
    }
   ],
   "source": [
    "# 2번째 샘플 x[1]을 사용하여 오차를 구하고 새로운 w와 b를 구하기\n",
    "y_hat = w_new * x[1] + b_new\n",
    "err = y[1] - y_hat\n",
    "w_rate = x[1]\n",
    "w_new = w_new + w_rate * err\n",
    "b_new = b_new + 1 * err\n",
    "print(w_new, b_new)"
   ]
  },
  {
   "cell_type": "code",
   "execution_count": 103,
   "metadata": {},
   "outputs": [
    {
     "name": "stdout",
     "output_type": "stream",
     "text": [
      "587.8654539985689 99.40935564531424\n"
     ]
    }
   ],
   "source": [
    "# 반복문을 통한 전체 샘플을 반복하기 \n",
    "\n",
    "w= b= 1\n",
    "for x_i,y_i in zip(x,y):\n",
    "    y_hat = x_i * w + b\n",
    "    err = y_i - y_hat\n",
    "    w_rate = x_i\n",
    "    w = w + w_rate * err\n",
    "    b = b + 1 * err\n",
    "print(w, b) "
   ]
  },
  {
   "cell_type": "code",
   "execution_count": 104,
   "metadata": {},
   "outputs": [
    {
     "data": {
      "image/png": "[encoded data removed]",
      "text/plain": [
       "<Figure size 432x288 with 1 Axes>"
      ]
     },
     "metadata": {
      "needs_background": "light"
     },
     "output_type": "display_data"
    }
   ],
   "source": [
    "# 그래프로 확인해 보자\n",
    "\n",
    "plt.scatter(x, y)\n",
    "# 산포도에서 x축 범위를 보면 -0.1 ~ 0.15의 범위 \n",
    "pt1 = (-0.1, -0.1 * w + b)\n",
    "pt2 = (0.15,0.15 * w + b)\n",
    "plt.plot([pt1[0],pt2[0]],[pt1[1],pt2[1]],'r')\n",
    "plt.xlabel('x')\n",
    "plt.ylabel('y')\n",
    "\n",
    "plt.show()"
   ]
  },
  {
   "cell_type": "code",
   "execution_count": 105,
   "metadata": {},
   "outputs": [
    {
     "name": "stdout",
     "output_type": "stream",
     "text": [
      "913.5973364345905 123.39414383177204\n"
     ]
    }
   ],
   "source": [
    "# Epoch로 반복하기 : w와 b를 반복적으로 계산해보기\n",
    "\n",
    "w=b=1\n",
    "for _ in range(100):\n",
    "    for x_i,y_i in zip(x,y):\n",
    "        y_hat = x_i * w + b\n",
    "        err = y_i - y_hat\n",
    "        w_rate = x_i\n",
    "        w = w + w_rate * err\n",
    "        b = b + 1 * err\n",
    "print(w, b) "
   ]
  },
  {
   "cell_type": "code",
   "execution_count": 106,
   "metadata": {},
   "outputs": [
    {
     "data": {
      "image/png": "[encoded data removed]",
      "text/plain": [
       "<Figure size 432x288 with 1 Axes>"
      ]
     },
     "metadata": {
      "needs_background": "light"
     },
     "output_type": "display_data"
    }
   ],
   "source": [
    "# 그래프로 확인해 보자\n",
    "\n",
    "plt.scatter(x, y)\n",
    "# 산포도에서 x축 범위를 보면 -0.1 ~ 0.15의 범위 \n",
    "pt1 = (-0.1, -0.1 * w + b)\n",
    "pt2 = (0.15,0.15 * w + b)\n",
    "plt.plot([pt1[0],pt2[0]],[pt1[1],pt2[1]],'r')\n",
    "plt.xlabel('x')\n",
    "plt.ylabel('y')\n",
    "\n",
    "plt.show()"
   ]
  },
  {
   "cell_type": "markdown",
   "metadata": {},
   "source": [
    "> y_ = 913.6X + 123.4"
   ]
  },
  {
   "cell_type": "code",
   "execution_count": 107,
   "metadata": {},
   "outputs": [
    {
     "data": {
      "text/plain": [
       "287.8416643899983"
      ]
     },
     "execution_count": 107,
     "metadata": {},
     "output_type": "execute_result"
    }
   ],
   "source": [
    "# 모델로 예측해 보기\n",
    "x_new = 0.18\n",
    "y_pred = x_new * w + b\n",
    "y_pred"
   ]
  },
  {
   "cell_type": "code",
   "execution_count": 108,
   "metadata": {},
   "outputs": [
    {
     "data": {
      "image/png": "[encoded data removed]",
      "text/plain": [
       "<Figure size 432x288 with 1 Axes>"
      ]
     },
     "metadata": {
      "needs_background": "light"
     },
     "output_type": "display_data"
    }
   ],
   "source": [
    "plt.scatter(x,y)\n",
    "plt.scatter(x_new,y_pred)\n",
    "plt.show()"
   ]
  },
  {
   "cell_type": "markdown",
   "metadata": {},
   "source": [
    "---\n",
    "# 모델 만들기 정리\n",
    "1. w와 b를 임의의 값(1,1)로 초기화 하고 훈련데이터의 샘플을 하나씩 대입하여 y와 y^의 오차를 구한다.\n",
    "2. 1.에서 구한 오차를 w와 b의 변화율에 곱하고 이 값을 이용하여 w와 b를 업데이트 한다.(학습한다.)\n",
    "3. 만약 y^이 y보다 커지는 오차는 음수가 되어 자동으로 w와 b가 줄어드는 방향으로 업데이트가 된다.\n",
    "4. 반대로 y^이 y보다 작으면 오차는 양수가 되어 w와 b는 더 커지도록 업데이트가 된다."
   ]
  },
  {
   "cell_type": "markdown",
   "metadata": {},
   "source": [
    "# 선형 회귀를 위한 Class 만들기\n"
   ]
  },
  {
   "cell_type": "code",
   "execution_count": 109,
   "metadata": {},
   "outputs": [],
   "source": [
    "class LRModel: \n",
    "    # 초기화 작업\n",
    "    def __init__(self):\n",
    "        self.w = 1.0 # 가중치를 초기화\n",
    "        self.b = 1.0 # 절편을 초기화\n",
    "    # 정방형 계산\n",
    "    def forpass(self,x):\n",
    "        y_hat = x *self.w + self.b # 직선 방정식을 계산\n",
    "        return y_hat\n",
    "    # 역방향 계산 (오차율이 들어감)\n",
    "    def backprop(self,x,err):\n",
    "        w_grad = x * err # 가중치에 대한 그래디언트를 계산\n",
    "        b_grad = 1 * err # 절편에 대한 그래디언트를 계산\n",
    "        return w_grad, b_grad\n",
    "    # 훈련\n",
    "    def fit(self,x,y,epoch):   # w,b는 처음에만 1로 초기화 되고 epoch의 크기에 따라 계속 바뀜\n",
    "        for _ in range(epoch):\n",
    "            for x_i,y_i in zip(x,y):\n",
    "                y_hat = self.forpass(x_i)\n",
    "                err = (y_i - y_hat)\n",
    "                w_grad, b_grad = self.backprop(x_i,err)\n",
    "                self.w += w_grad\n",
    "                self.b += b_grad\n",
    "        return self.w, self.b "
   ]
  },
  {
   "cell_type": "code",
   "execution_count": 110,
   "metadata": {},
   "outputs": [
    {
     "name": "stdout",
     "output_type": "stream",
     "text": [
      "913.5973364345905 123.39414383177204\n"
     ]
    }
   ],
   "source": [
    "lrmodel = LRModel()\n",
    "w,b = lrmodel.fit(x,y,100)\n",
    "print(w,b)"
   ]
  },
  {
   "cell_type": "code",
   "execution_count": 111,
   "metadata": {},
   "outputs": [
    {
     "data": {
      "image/png": "[encoded data removed]",
      "text/plain": [
       "<Figure size 432x288 with 1 Axes>"
      ]
     },
     "metadata": {
      "needs_background": "light"
     },
     "output_type": "display_data"
    }
   ],
   "source": [
    "# 그래프로 확인해 보자\n",
    "\n",
    "plt.scatter(x, y)\n",
    "# 산포도에서 x축 범위를 보면 -0.1 ~ 0.15의 범위 \n",
    "pt1 = (-0.1, -0.1 * w + b)\n",
    "pt2 = (0.15,0.15 * w + b)\n",
    "plt.plot([pt1[0],pt2[0]],[pt1[1],pt2[1]],'r')\n",
    "plt.xlabel('x')\n",
    "plt.ylabel('y')\n",
    "\n",
    "plt.show()"
   ]
  },
  {
   "cell_type": "markdown",
   "metadata": {},
   "source": [
    "---\n",
    "# 용어 정리\n",
    "### 선형 회귀\n",
    "선형방정식을 사용하여 연속적인 값을 예측하는 알고리즘으로 데이터를 가장 잘 표현하는 방정식의 계수를 구할 수 있습니다.   \n",
    "머신러닝 알고리즘이지만 딥러닝에서 사용하는 인공신경망 알고리즘의 기초가 됩니다.    \n",
    "\n",
    "### 경사 하강법\n",
    "최적화 알고리즘 중의 하나로 핵심 훈련 알고리즘 입니다. \n",
    "이 방법은 최적의 모델을 만드는 가중치를 한번에 찾지 않습니다.   \n",
    "먼저 임의로 정한 가중치에서 출력을 만든 후 타깃과 비교하여 오차를 줄이는 방향으로 가중치를 조정합니다.   \n",
    "이런 과정의 모든 훈련샘플에 대해서 반복하면서 최적의 가중치를 찾습니다.   \n",
    "\n",
    "### 손실함수\n",
    "모델이 얼마만큼의 오류가 있는지 측정하는 기준입니다.    \n",
    "함수의 값을 최소로 만드는 것이 이 모델 훈련의 목적입니다.    \n",
    "다른 말로는 비용함수(cost function) 또는 목적함수(objective function)라고도 부릅니다. \n",
    "\n",
    "\n",
    "선형회귀 -> Log -> Regr -> 인공신경망(Activate function(softmax, sigmoid) in hidden layer) -> DL(은닉층이 여러개 있는 것)"
   ]
  }
 ],
 "metadata": {
  "kernelspec": {
   "display_name": "Python 3.9.7 ('base')",
   "language": "python",
   "name": "python3"
  },
  "language_info": {
   "codemirror_mode": {
    "name": "ipython",
    "version": 3
   },
   "file_extension": ".py",
   "mimetype": "text/x-python",
   "name": "python",
   "nbconvert_exporter": "python",
   "pygments_lexer": "ipython3",
   "version": "3.9.7"
  },
  "orig_nbformat": 4,
  "vscode": {
   "interpreter": {
    "hash": "c34e8390e776d2ee205b71ed5a6130fee3cef8da5e87e926ce18e14f4a070d72"
   }
  }
 },
 "nbformat": 4,
 "nbformat_minor": 2
}

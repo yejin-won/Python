{
 "cells": [
  {
   "cell_type": "code",
   "execution_count": 1,
   "metadata": {},
   "outputs": [],
   "source": [
    "import warnings\n",
    "warnings.filterwarnings('ignore')"
   ]
  },
  {
   "cell_type": "markdown",
   "metadata": {},
   "source": [
    "# 앙상블(Ensenble)\n",
    "- 여러개의 분류 모델을 조합해서 더 나은 성능을 내는 방법\n",
    "- Decision Tree 모델을 증가시켜 나온 랜덤포레스트가 대표적임"
   ]
  },
  {
   "cell_type": "markdown",
   "metadata": {},
   "source": [
    "---\n",
    "# 랜덤포레스트(Random Forest)\n",
    "- 부트스트랩 샘플을 사용합니다. 부트스트램 샘플링은 중복을 허용하는 샘플링 방법입니다.     \n",
    "개수 = 100라면 부트스트랩 샘플은 sqrt(개수)로 train의 예측률을 떨어뜨리는 방법 => 과대적합 방지"
   ]
  },
  {
   "cell_type": "code",
   "execution_count": 2,
   "metadata": {},
   "outputs": [
    {
     "data": {
      "text/html": [
       "<div>\n",
       "<style scoped>\n",
       "    .dataframe tbody tr th:only-of-type {\n",
       "        vertical-align: middle;\n",
       "    }\n",
       "\n",
       "    .dataframe tbody tr th {\n",
       "        vertical-align: top;\n",
       "    }\n",
       "\n",
       "    .dataframe thead th {\n",
       "        text-align: right;\n",
       "    }\n",
       "</style>\n",
       "<table border=\"1\" class=\"dataframe\">\n",
       "  <thead>\n",
       "    <tr style=\"text-align: right;\">\n",
       "      <th></th>\n",
       "      <th>alcohol</th>\n",
       "      <th>sugar</th>\n",
       "      <th>pH</th>\n",
       "      <th>class</th>\n",
       "    </tr>\n",
       "  </thead>\n",
       "  <tbody>\n",
       "    <tr>\n",
       "      <th>0</th>\n",
       "      <td>9.4</td>\n",
       "      <td>1.9</td>\n",
       "      <td>3.51</td>\n",
       "      <td>0.0</td>\n",
       "    </tr>\n",
       "    <tr>\n",
       "      <th>1</th>\n",
       "      <td>9.8</td>\n",
       "      <td>2.6</td>\n",
       "      <td>3.20</td>\n",
       "      <td>0.0</td>\n",
       "    </tr>\n",
       "    <tr>\n",
       "      <th>2</th>\n",
       "      <td>9.8</td>\n",
       "      <td>2.3</td>\n",
       "      <td>3.26</td>\n",
       "      <td>0.0</td>\n",
       "    </tr>\n",
       "    <tr>\n",
       "      <th>3</th>\n",
       "      <td>9.8</td>\n",
       "      <td>1.9</td>\n",
       "      <td>3.16</td>\n",
       "      <td>0.0</td>\n",
       "    </tr>\n",
       "    <tr>\n",
       "      <th>4</th>\n",
       "      <td>9.4</td>\n",
       "      <td>1.9</td>\n",
       "      <td>3.51</td>\n",
       "      <td>0.0</td>\n",
       "    </tr>\n",
       "  </tbody>\n",
       "</table>\n",
       "</div>"
      ],
      "text/plain": [
       "   alcohol  sugar    pH  class\n",
       "0      9.4    1.9  3.51    0.0\n",
       "1      9.8    2.6  3.20    0.0\n",
       "2      9.8    2.3  3.26    0.0\n",
       "3      9.8    1.9  3.16    0.0\n",
       "4      9.4    1.9  3.51    0.0"
      ]
     },
     "execution_count": 2,
     "metadata": {},
     "output_type": "execute_result"
    }
   ],
   "source": [
    "import pandas as pd\n",
    "wine = pd.read_csv(\"../Data/wine.csv\")\n",
    "wine.head()"
   ]
  },
  {
   "cell_type": "code",
   "execution_count": 4,
   "metadata": {},
   "outputs": [],
   "source": [
    "# Feature, Target\n",
    "data = wine[['alcohol','sugar','pH']].to_numpy()\n",
    "target = wine['class'].to_numpy()"
   ]
  },
  {
   "cell_type": "code",
   "execution_count": 5,
   "metadata": {},
   "outputs": [],
   "source": [
    "# 전체 세트 중 훈련세트와 테스트 세트를 8:2의 기준으로 분리한다.\n",
    "from sklearn.model_selection import train_test_split\n",
    "\n",
    "train_input, test_input,train_target,test_target = train_test_split(\n",
    "    data,target,test_size=0.2,random_state=42\n",
    ")"
   ]
  },
  {
   "cell_type": "code",
   "execution_count": 8,
   "metadata": {},
   "outputs": [
    {
     "name": "stdout",
     "output_type": "stream",
     "text": [
      "0.9973541965122431 0.8905151032797809\n"
     ]
    }
   ],
   "source": [
    "# 랜덤포레스트 모델 구현\n",
    "import numpy as np\n",
    "\n",
    "from sklearn.model_selection import cross_validate\n",
    "from sklearn.ensemble import RandomForestClassifier\n",
    "\n",
    "rf = RandomForestClassifier(n_jobs=-1,random_state=42) # n_jobs=-1 pc의 cpu를 다 사용함\n",
    "scores = cross_validate(rf,train_input,train_target,return_train_score=True,n_jobs=-1)\n",
    "# scores\n",
    "print(np.mean(scores['train_score']),np.mean(scores['test_score']))"
   ]
  },
  {
   "cell_type": "code",
   "execution_count": 9,
   "metadata": {},
   "outputs": [
    {
     "name": "stdout",
     "output_type": "stream",
     "text": [
      "[0.23167441 0.50039841 0.26792718]\n"
     ]
    }
   ],
   "source": [
    "# 주요 Feature\n",
    "rf.fit(train_input,train_target)\n",
    "print(rf.feature_importances_)"
   ]
  },
  {
   "cell_type": "code",
   "execution_count": 10,
   "metadata": {},
   "outputs": [
    {
     "name": "stdout",
     "output_type": "stream",
     "text": [
      "0.8934000384837406\n"
     ]
    }
   ],
   "source": [
    "# 부트스트랩 결정시 남은 샘플(oob: out of back)로도 특성을 구분 할 수 있다.\n",
    "rf = RandomForestClassifier(oob_score=True,n_jobs=-1,random_state=42)\n",
    "rf.fit(train_input,train_target)\n",
    "\n",
    "print(rf.oob_score_)"
   ]
  },
  {
   "cell_type": "markdown",
   "metadata": {},
   "source": [
    "---\n",
    "# Extra Tree\n",
    "- 기본적으로 100개의 트리를 사용\n",
    "- 노드 분할시 특성의 제곱근의 갯수를 사용\n",
    "- 특성의 선택을 랜덤하게 선택한다.   \n",
    "- 특성의 선택을 랜덤하게 하므로 속도는 랜덤포레스트보다 빠르다\n"
   ]
  },
  {
   "cell_type": "code",
   "execution_count": 11,
   "metadata": {},
   "outputs": [
    {
     "name": "stdout",
     "output_type": "stream",
     "text": [
      "0.9974503966084433 0.8887848893166506\n"
     ]
    }
   ],
   "source": [
    "from sklearn.ensemble import ExtraTreesClassifier\n",
    "\n",
    "et = ExtraTreesClassifier(n_jobs=-1, random_state=42)\n",
    "scores = cross_validate(et,train_input,train_target,return_train_score=True,n_jobs=-1)\n",
    "# scores\n",
    "print(np.mean(scores['train_score']),np.mean(scores['test_score']))"
   ]
  },
  {
   "cell_type": "code",
   "execution_count": 12,
   "metadata": {},
   "outputs": [
    {
     "name": "stdout",
     "output_type": "stream",
     "text": [
      "[0.20183568 0.52242907 0.27573525]\n"
     ]
    }
   ],
   "source": [
    "# 주요 Feature\n",
    "et.fit(train_input,train_target)\n",
    "print(et.feature_importances_)"
   ]
  },
  {
   "cell_type": "markdown",
   "metadata": {},
   "source": [
    "---\n",
    "# Gradient Boosting(그레디언트 부스팅)\n",
    "- 가장 유명한 알고리즘 중 하나이다.\n",
    "- 경사하강법처럼 손실함수를 사용.\n",
    "- 손실함수를 보고 트리를 추가하여 최적의 값 도출하는 방법\n",
    "- Decision Tree Regressor를 사용하여 손실함수를 계산하고 이를 계속 낮추기 위해 트리를 추가하는 구조      \n",
    "  트리를 추가한다 => max_depth를 추가한다 \n",
    "- 경사를 이동하면서 경사의 이동거리를 제어하는 learning-rate(기본:0.1)를 사용한다.   \n",
    "- max_depth를 3으로 제어하여 깊이가 낮으므로 과대적합 방지    \n",
    "- 단점을 손실함수를 보고 트리를 추가하면서 진행하는 모델이므로 병렬처리(n_jobs)를 할 수 없다."
   ]
  },
  {
   "cell_type": "code",
   "execution_count": 13,
   "metadata": {},
   "outputs": [
    {
     "name": "stdout",
     "output_type": "stream",
     "text": [
      "0.8881086892152563 0.8720430147331015\n"
     ]
    }
   ],
   "source": [
    "from sklearn.ensemble import GradientBoostingClassifier\n",
    "gb = GradientBoostingClassifier(random_state=42)\n",
    "scores = cross_validate(gb,train_input,train_target,return_train_score=True,n_jobs=-1)\n",
    "# scores\n",
    "print(np.mean(scores['train_score']),np.mean(scores['test_score']))"
   ]
  },
  {
   "cell_type": "code",
   "execution_count": 14,
   "metadata": {},
   "outputs": [
    {
     "name": "stdout",
     "output_type": "stream",
     "text": [
      "0.9464595437171814 0.8780082549788999\n"
     ]
    }
   ],
   "source": [
    "# 기본값을 변경 : tree를 500개 ,learning rate를 0.2로\n",
    "gb = GradientBoostingClassifier(n_estimators=500,learning_rate=0.2,random_state=42)\n",
    "scores = cross_validate(gb,train_input,train_target,return_train_score=True,n_jobs=-1)\n",
    "# scores\n",
    "print(np.mean(scores['train_score']),np.mean(scores['test_score']))"
   ]
  },
  {
   "cell_type": "code",
   "execution_count": 15,
   "metadata": {},
   "outputs": [
    {
     "name": "stdout",
     "output_type": "stream",
     "text": [
      "[0.15872278 0.68010884 0.16116839]\n"
     ]
    }
   ],
   "source": [
    "# 주요 Feature\n",
    "gb.fit(train_input,train_target)\n",
    "print(gb.feature_importances_)"
   ]
  },
  {
   "cell_type": "markdown",
   "metadata": {},
   "source": [
    "---\n",
    "# 히스토그램 기반 그래디언트 부스팅(Histogram gradient boosting)\n",
    "- 훈련데이터를 256개의 구간으로 나누어서 훈련시키는 방법\n",
    "- 특성의 범위가 제한되어 빠른 속도를 제공한다\n",
    "- 제한된 구간이므로 과대적합을 방지한다\n",
    "- 아직은 실험단계인 모델"
   ]
  },
  {
   "cell_type": "code",
   "execution_count": 17,
   "metadata": {},
   "outputs": [
    {
     "name": "stdout",
     "output_type": "stream",
     "text": [
      "0.9321723946453317 0.8801241948619236\n"
     ]
    }
   ],
   "source": [
    "from sklearn.experimental import enable_hist_gradient_boosting\n",
    "from sklearn.ensemble import HistGradientBoostingClassifier\n",
    "hgb = HistGradientBoostingClassifier(random_state=42)\n",
    "scores = cross_validate(hgb,train_input,train_target,return_train_score=True,n_jobs=-1)\n",
    "# scores\n",
    "print(np.mean(scores['train_score']),np.mean(scores['test_score']))"
   ]
  },
  {
   "cell_type": "markdown",
   "metadata": {},
   "source": [
    "# *번외 기능*\n",
    "### Permutation Importance(치환 중요도)\n",
    "- 각 특성(Feature)별 샘플을 섞어서 계산을 한후에 원래 sample들과의 차이를 계산해서 차이가 많이 나는 Feature가 중요하다는 판단."
   ]
  },
  {
   "cell_type": "code",
   "execution_count": 28,
   "metadata": {},
   "outputs": [
    {
     "name": "stdout",
     "output_type": "stream",
     "text": [
      "[0.08876275 0.23438522 0.08027708]\n"
     ]
    }
   ],
   "source": [
    "# Train 경우 확인\n",
    "from sklearn.inspection import permutation_importance\n",
    "hgb.fit(train_input,train_target)\n",
    "result = permutation_importance(hgb,train_input,train_target,n_repeats=10,random_state=42,n_jobs=-1)\n",
    "print(result.importances_mean)"
   ]
  },
  {
   "cell_type": "markdown",
   "metadata": {},
   "source": [
    "> Sugar인 경우 Sample을 무작위로 섞으면 23%만큼 정확도가 떨어진다.     \n",
    "> 다른 특성은 Sample을 무작위로 섞어도 별 차이가 없다. 따로 주요 특성이 아니다. "
   ]
  },
  {
   "cell_type": "code",
   "execution_count": 29,
   "metadata": {},
   "outputs": [
    {
     "name": "stdout",
     "output_type": "stream",
     "text": [
      "[0.05969231 0.20238462 0.049     ]\n"
     ]
    }
   ],
   "source": [
    "# Test인 경우 (실전 투입시의 예상)\n",
    "result = permutation_importance(hgb,test_input,test_target,n_repeats=10,random_state=42,n_jobs=-1)\n",
    "print(result.importances_mean)"
   ]
  },
  {
   "cell_type": "markdown",
   "metadata": {},
   "source": [
    "---\n",
    "# XGBoost\n",
    "- kaggle에서 많이 사용"
   ]
  },
  {
   "cell_type": "code",
   "execution_count": 31,
   "metadata": {},
   "outputs": [
    {
     "name": "stdout",
     "output_type": "stream",
     "text": [
      "Collecting xgboost\n",
      "  Downloading xgboost-1.6.1-py3-none-macosx_10_15_x86_64.macosx_11_0_x86_64.macosx_12_0_x86_64.whl (1.7 MB)\n",
      "\u001b[K     |████████████████████████████████| 1.7 MB 10.6 MB/s eta 0:00:01\n",
      "\u001b[?25hRequirement already satisfied: scipy in /Users/tj/opt/anaconda3/lib/python3.9/site-packages (from xgboost) (1.7.1)\n",
      "Requirement already satisfied: numpy in /Users/tj/opt/anaconda3/lib/python3.9/site-packages (from xgboost) (1.20.3)\n",
      "Installing collected packages: xgboost\n",
      "Successfully installed xgboost-1.6.1\n"
     ]
    }
   ],
   "source": [
    "#!pip install xgboost"
   ]
  },
  {
   "cell_type": "code",
   "execution_count": 32,
   "metadata": {},
   "outputs": [],
   "source": [
    "from xgboost import XGBClassifier"
   ]
  },
  {
   "cell_type": "code",
   "execution_count": 34,
   "metadata": {},
   "outputs": [
    {
     "name": "stdout",
     "output_type": "stream",
     "text": [
      "0.9555033709953124 0.8799326275264677\n"
     ]
    }
   ],
   "source": [
    "xgb = XGBClassifier(\n",
    "    tree_method = 'hist', # 히스토그램 그레디언트 부스팅\n",
    "    random_state = 42,\n",
    "    use_label_encoder = False,\n",
    "    eval_metric = 'logloss' # 로지스틱 손실함수\n",
    ")\n",
    "scores = cross_validate(xgb,train_input,train_target,return_train_score=True,n_jobs=-1)\n",
    "# scores\n",
    "print(np.mean(scores['train_score']),np.mean(scores['test_score']))"
   ]
  },
  {
   "cell_type": "markdown",
   "metadata": {},
   "source": [
    "---\n",
    "# LightGBM"
   ]
  },
  {
   "cell_type": "code",
   "execution_count": 39,
   "metadata": {},
   "outputs": [
    {
     "name": "stdout",
     "output_type": "stream",
     "text": [
      "Requirement already satisfied: lightgbm in /Users/tj/opt/anaconda3/lib/python3.9/site-packages (3.3.2)\n",
      "Requirement already satisfied: scikit-learn!=0.22.0 in /Users/tj/opt/anaconda3/lib/python3.9/site-packages (from lightgbm) (0.24.2)\n",
      "Requirement already satisfied: wheel in /Users/tj/opt/anaconda3/lib/python3.9/site-packages (from lightgbm) (0.37.0)\n",
      "Requirement already satisfied: numpy in /Users/tj/opt/anaconda3/lib/python3.9/site-packages (from lightgbm) (1.20.3)\n",
      "Requirement already satisfied: scipy in /Users/tj/opt/anaconda3/lib/python3.9/site-packages (from lightgbm) (1.7.1)\n",
      "Requirement already satisfied: joblib>=0.11 in /Users/tj/opt/anaconda3/lib/python3.9/site-packages (from scikit-learn!=0.22.0->lightgbm) (1.1.0)\n",
      "Requirement already satisfied: threadpoolctl>=2.0.0 in /Users/tj/opt/anaconda3/lib/python3.9/site-packages (from scikit-learn!=0.22.0->lightgbm) (2.2.0)\n"
     ]
    }
   ],
   "source": [
    "#!pip install lightgbm"
   ]
  },
  {
   "cell_type": "code",
   "execution_count": 42,
   "metadata": {},
   "outputs": [],
   "source": [
    "from lightgbm import LGBMClassifier"
   ]
  },
  {
   "cell_type": "code",
   "execution_count": 43,
   "metadata": {},
   "outputs": [
    {
     "name": "stdout",
     "output_type": "stream",
     "text": [
      "0.935828414851749 0.8801251203079884\n"
     ]
    }
   ],
   "source": [
    "lgb = LGBMClassifier(random_state=42)\n",
    "scores = cross_validate(lgb,train_input,train_target,return_train_score=True,n_jobs=-1)\n",
    "# scores\n",
    "print(np.mean(scores['train_score']),np.mean(scores['test_score']))"
   ]
  },
  {
   "cell_type": "markdown",
   "metadata": {},
   "source": [
    "---\n",
    "# 앙상블 정리\n",
    "- 앙상블 학습은 정형데이터에서 가장 뛰어난 성능을 내는 머신러닝 알고리즘 중의 하나입니다.  \n",
    "\n",
    "### 랜덤포레스트   \n",
    ": 부트스트랩 사용, 대표 앙상블 학습 알고리즘  \n",
    "### 엑스트라 트리\n",
    ":결정트리의 노드를 랜덤하게 분할함  \n",
    "### 그레디언트 부스팅\n",
    ":결정트리의 손실을 보완하는 식으로 얕은 결정트리를 연속하여 추가함.    \n",
    "### 히스토그램기반 그레디언트 부스팅\n",
    ": 훈련데이터를 256개의 정수 구간으로 나누어 빠르고 높은 성능을 냄.   \n",
    "\n",
    "### 기타\n",
    "- XGBoost\n",
    "- LightGBM"
   ]
  }
 ],
 "metadata": {
  "kernelspec": {
   "display_name": "Python 3.9.7 ('base')",
   "language": "python",
   "name": "python3"
  },
  "language_info": {
   "codemirror_mode": {
    "name": "ipython",
    "version": 3
   },
   "file_extension": ".py",
   "mimetype": "text/x-python",
   "name": "python",
   "nbconvert_exporter": "python",
   "pygments_lexer": "ipython3",
   "version": "3.9.7"
  },
  "orig_nbformat": 4,
  "vscode": {
   "interpreter": {
    "hash": "c34e8390e776d2ee205b71ed5a6130fee3cef8da5e87e926ce18e14f4a070d72"
   }
  }
 },
 "nbformat": 4,
 "nbformat_minor": 2
}

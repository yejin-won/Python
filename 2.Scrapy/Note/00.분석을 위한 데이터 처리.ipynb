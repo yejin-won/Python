{
 "cells": [
  {
   "cell_type": "markdown",
   "metadata": {},
   "source": [
    "# 인터넷의 빅데이터\n",
    "- 빅데이터는 이름 그래돌 대규모의 데이터 집합을 의미.             \n",
    "- 데이터를 수집하는 것만으로는 어떤 의미도 없음.      \n",
    "- 수집한 데이터를 활용해야 가치가 생성.         \n",
    "### <i>빅데이터라는 용어는 수집한 데이터를 분석해서 비즈니스에 활용하는 것까지를 의미함.</i> "
   ]
  },
  {
   "cell_type": "markdown",
   "metadata": {},
   "source": [
    "- 빅데이터를 분석하다는 것은 수많은 데이터에서 규칙성을 찾는 것을 말함.\n",
    "- 데이터에 포함되어 있는 요소 중에서 중요한 것들을 추출하고 이를 분류해서 규칙성을 찾는 것이 일반적임."
   ]
  },
  {
   "cell_type": "markdown",
   "metadata": {},
   "source": [
    "### 블로그와 SNS\n",
    "- 트렌드 분석"
   ]
  },
  {
   "cell_type": "markdown",
   "metadata": {},
   "source": [
    "### 인터넷 전자 상거래\n",
    "- 상품 데이터 베이스     \n",
    "- 네이버와 다음 같은 사이트에서 다양한 곳의 상품 데이터를 모아 웹API로 제공"
   ]
  },
  {
   "cell_type": "markdown",
   "metadata": {},
   "source": [
    "### 금융정보\n",
    "- 환율, 주식 등의 다양한 금융정보    \n",
    "- 각 국가의 환율, 주식, 금값 등을 실시간으로 추출 가능     \n",
    "- 이러한 정보를 정기적으로 추출해서 저장해 두고 활용하면 예측 등에 활용할 수 있음."
   ]
  },
  {
   "cell_type": "markdown",
   "metadata": {},
   "source": [
    "### 이미지 데이터\n",
    "- 플리커, 인스타그램 같은 사이트에서 이미지 서비스를 활용하여 이미지를 획득 가능\n",
    "- 이미지와 함께 제공되는 태그 정보 등을 활용"
   ]
  },
  {
   "cell_type": "markdown",
   "metadata": {},
   "source": [
    "### 행정기관 정보\n",
    "- 공개 데이터(서울 열린 데이터 광장)"
   ]
  },
  {
   "cell_type": "markdown",
   "metadata": {},
   "source": [
    "### 위키"
   ]
  },
  {
   "cell_type": "markdown",
   "metadata": {},
   "source": [
    "### 저작권이 없어진 작품\n",
    "- 고전소설 및 고전 그림\n"
   ]
  },
  {
   "cell_type": "markdown",
   "metadata": {},
   "source": [
    "### 머신러닝 데이터\n",
    "- 공개 데이터 (손글씨 이미지, 사람 얼굴 데이터, 동물 데이터 등)"
   ]
  },
  {
   "cell_type": "markdown",
   "metadata": {},
   "source": [
    "---\n",
    "# 스크레이핑,크롤링,데이터 가공"
   ]
  },
  {
   "cell_type": "markdown",
   "metadata": {},
   "source": [
    "### 스크레이핑(Scraping)\n",
    "- 웹사이트에 있는 특종 정보를 추출하는 기술\n",
    "- 웹에 공개된 정보는 HTML형식\n",
    "- HTML 데이터를 획득하여 데이터베이스에 저장하려면 가공 기술이 필요 \n",
    "- 광고 등의 불필요한 정보를 제거하고 필요한 정보를 가져오려면 사이트의 구조를 분석 가능 해야함."
   ]
  },
  {
   "cell_type": "markdown",
   "metadata": {},
   "source": [
    "### 크롤링(Crawling)\n",
    "- 프로그램이 웹사이트를 정기적으로 정보를 추출하는 기술"
   ]
  },
  {
   "cell_type": "markdown",
   "metadata": {},
   "source": [
    " ### 머신러닝이 사용할 수 있는 데이터의 구조\n",
    " - 수집한 데이터는 머신러닝을 사용해 다양하게 활용 가능함.\n",
    " - 웹에서 내려받은 HTML데이터는 머신러닝에 바로 사용 불가.\n",
    " - 이름 해결하기 위해 데이터의 구조를 분석하고 필요한 부분만 추출하는 과정이 필요.\n",
    " - 텍스트와 이미지 파일을 아무런 처리없이 학습용 데이터로 사용할 수 없다.\n",
    " - 데이터에 어떤 특징이 있는지 분석가가 직접 확인하고 가공해야 학습을 시킬 수 있다."
   ]
  },
  {
   "cell_type": "markdown",
   "metadata": {},
   "source": []
  }
 ],
 "metadata": {
  "kernelspec": {
   "display_name": "Python 3.9.7 ('base')",
   "language": "python",
   "name": "python3"
  },
  "language_info": {
   "codemirror_mode": {
    "name": "ipython",
    "version": 3
   },
   "file_extension": ".py",
   "mimetype": "text/x-python",
   "name": "python",
   "nbconvert_exporter": "python",
   "pygments_lexer": "ipython3",
   "version": "3.9.7"
  },
  "orig_nbformat": 4,
  "vscode": {
   "interpreter": {
    "hash": "c34e8390e776d2ee205b71ed5a6130fee3cef8da5e87e926ce18e14f4a070d72"
   }
  }
 },
 "nbformat": 4,
 "nbformat_minor": 2
}

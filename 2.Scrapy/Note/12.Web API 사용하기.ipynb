{
 "cells": [
  {
   "cell_type": "markdown",
   "metadata": {},
   "source": [
    "---"
   ]
  },
  {
   "cell_type": "code",
   "execution_count": 1,
   "metadata": {},
   "outputs": [
    {
     "name": "stdout",
     "output_type": "stream",
     "text": [
      "{'status': 'OK', 'meta': {'totalCount': 1, 'page': 1, 'count': 1}, 'addresses': [{'roadAddress': '서울특별시 영등포구 국회대로 608 영등포경찰서', 'jibunAddress': '서울특별시 영등포구 당산동3가 2-11 영등포경찰서', 'englishAddress': '608, Gukhoe-daero, Yeongdeungpo-gu, Seoul, Republic of Korea', 'addressElements': [{'types': ['SIDO'], 'longName': '서울특별시', 'shortName': '서울특별시', 'code': ''}, {'types': ['SIGUGUN'], 'longName': '영등포구', 'shortName': '영등포구', 'code': ''}, {'types': ['DONGMYUN'], 'longName': '당산동3가', 'shortName': '당산동3가', 'code': ''}, {'types': ['RI'], 'longName': '', 'shortName': '', 'code': ''}, {'types': ['ROAD_NAME'], 'longName': '국회대로', 'shortName': '국회대로', 'code': ''}, {'types': ['BUILDING_NUMBER'], 'longName': '608', 'shortName': '608', 'code': ''}, {'types': ['BUILDING_NAME'], 'longName': '영등포경찰서', 'shortName': '영등포경찰서', 'code': ''}, {'types': ['LAND_NUMBER'], 'longName': '2-11', 'shortName': '2-11', 'code': ''}, {'types': ['POSTAL_CODE'], 'longName': '07258', 'shortName': '07258', 'code': ''}], 'x': '126.9009426', 'y': '37.5258476', 'distance': 0.0}], 'errorMessage': ''}\n"
     ]
    }
   ],
   "source": [
    "import urllib.request\n",
    "\n",
    "client_id = \"h2tcgb9fgs\"\n",
    "client_secret = \"NPS3aLITU1cb1QcTUXuMTDrblGi9OAgoLSJS7dZD\"\n",
    "\n",
    "encText = urllib.parse.quote(\"서울시 영등포구 국회대로 608\")\n",
    "url = \"https://naveropenapi.apigw.ntruss.com/map-geocode/v2/geocode?query=\" + encText #JSON\n",
    "request = urllib.request.Request(url)\n",
    "request.add_header(\"X-NCP-APIGW-API-KEY-ID\",client_id)\n",
    "request.add_header(\"X-NCP-APIGW-API-KEY\",client_secret)\n",
    "\n",
    "response = urllib.request.urlopen(request)\n",
    "rescode = response.getcode()\n",
    "\n",
    "if rescode == 200:\n",
    "    response_body = response.read()\n",
    "    enText = response_body.decode('utf-8')\n",
    "else:\n",
    "    print(\"Error Code:\"+ rescode)\n",
    "\n",
    "import json\n",
    "data1 = json.loads(enText)\n",
    "print(data1)"
   ]
  },
  {
   "cell_type": "code",
   "execution_count": 4,
   "metadata": {},
   "outputs": [
    {
     "data": {
      "text/plain": [
       "{'status': 'OK',\n",
       " 'meta': {'totalCount': 1, 'page': 1, 'count': 1},\n",
       " 'addresses': [{'roadAddress': '서울특별시 영등포구 국회대로 608 영등포경찰서',\n",
       "   'jibunAddress': '서울특별시 영등포구 당산동3가 2-11 영등포경찰서',\n",
       "   'englishAddress': '608, Gukhoe-daero, Yeongdeungpo-gu, Seoul, Republic of Korea',\n",
       "   'addressElements': [{'types': ['SIDO'],\n",
       "     'longName': '서울특별시',\n",
       "     'shortName': '서울특별시',\n",
       "     'code': ''},\n",
       "    {'types': ['SIGUGUN'],\n",
       "     'longName': '영등포구',\n",
       "     'shortName': '영등포구',\n",
       "     'code': ''},\n",
       "    {'types': ['DONGMYUN'],\n",
       "     'longName': '당산동3가',\n",
       "     'shortName': '당산동3가',\n",
       "     'code': ''},\n",
       "    {'types': ['RI'], 'longName': '', 'shortName': '', 'code': ''},\n",
       "    {'types': ['ROAD_NAME'],\n",
       "     'longName': '국회대로',\n",
       "     'shortName': '국회대로',\n",
       "     'code': ''},\n",
       "    {'types': ['BUILDING_NUMBER'],\n",
       "     'longName': '608',\n",
       "     'shortName': '608',\n",
       "     'code': ''},\n",
       "    {'types': ['BUILDING_NAME'],\n",
       "     'longName': '영등포경찰서',\n",
       "     'shortName': '영등포경찰서',\n",
       "     'code': ''},\n",
       "    {'types': ['LAND_NUMBER'],\n",
       "     'longName': '2-11',\n",
       "     'shortName': '2-11',\n",
       "     'code': ''},\n",
       "    {'types': ['POSTAL_CODE'],\n",
       "     'longName': '07258',\n",
       "     'shortName': '07258',\n",
       "     'code': ''}],\n",
       "   'x': '126.9009426',\n",
       "   'y': '37.5258476',\n",
       "   'distance': 0.0}],\n",
       " 'errorMessage': ''}"
      ]
     },
     "execution_count": 4,
     "metadata": {},
     "output_type": "execute_result"
    }
   ],
   "source": [
    "data1"
   ]
  },
  {
   "cell_type": "code",
   "execution_count": 6,
   "metadata": {},
   "outputs": [
    {
     "data": {
      "text/plain": [
       "'126.9009426'"
      ]
     },
     "execution_count": 6,
     "metadata": {},
     "output_type": "execute_result"
    }
   ],
   "source": [
    "# 경도 확인\n",
    "\n",
    "lng = data1['addresses'][0]['x']\n",
    "lng"
   ]
  },
  {
   "cell_type": "code",
   "execution_count": 7,
   "metadata": {},
   "outputs": [
    {
     "data": {
      "text/plain": [
       "'37.5258476'"
      ]
     },
     "execution_count": 7,
     "metadata": {},
     "output_type": "execute_result"
    }
   ],
   "source": [
    "# 위도 확인 \n",
    "\n",
    "lat = data1['addresses'][0]['y']\n",
    "lat"
   ]
  },
  {
   "cell_type": "markdown",
   "metadata": {},
   "source": [
    "---\n",
    "# OpenWeatherMap\n",
    "- http://openweathermap.org       \n",
    ": 기본적으로 유료이지만, 현재 날씨와 5월까지의 날씨는 무료로 사용가능"
   ]
  },
  {
   "cell_type": "markdown",
   "metadata": {},
   "source": [
    "---\n",
    "# 서울,도쿄,북경,뉴욕의 날씨 출력하기"
   ]
  },
  {
   "cell_type": "code",
   "execution_count": 46,
   "metadata": {},
   "outputs": [],
   "source": [
    "import requests\n",
    "import json"
   ]
  },
  {
   "cell_type": "code",
   "execution_count": 47,
   "metadata": {},
   "outputs": [],
   "source": [
    "apikey =\"e189d1a5c835b3c8157653940bdeff2f\""
   ]
  },
  {
   "cell_type": "code",
   "execution_count": 55,
   "metadata": {},
   "outputs": [],
   "source": [
    "# 날씨를 확인할 도시 지정하기\n",
    "cities = [\"Seoul,KR\",\"Tokyo,JP\",\"New York,US\",\"Beijing,CN\"]"
   ]
  },
  {
   "cell_type": "code",
   "execution_count": 56,
   "metadata": {},
   "outputs": [],
   "source": [
    "api = \"http://api.openweathermap.org/data/2.5/weather?q={city}&APPID={key}\""
   ]
  },
  {
   "cell_type": "code",
   "execution_count": 57,
   "metadata": {},
   "outputs": [],
   "source": [
    "# 켈빈 온도를 섭씨 온도로 변환\n",
    "\n",
    "k2c = lambda k: k - 273.15"
   ]
  },
  {
   "cell_type": "code",
   "execution_count": 60,
   "metadata": {},
   "outputs": [
    {
     "name": "stdout",
     "output_type": "stream",
     "text": [
      "+ 도시 =  Seoul\n",
      "| 날씨 =  moderate rain\n",
      "| 최저 기온 =  24.689999999999998\n",
      "| 최고 기온 =  28.660000000000025\n",
      "| 습도 =  -181.14999999999998\n",
      "| 기압 =  729.85\n",
      "| 풍향 =  -60.14999999999998\n",
      "| 풍속 =  -266.78\n",
      "\n",
      "+ 도시 =  Tokyo\n",
      "| 날씨 =  scattered clouds\n",
      "| 최저 기온 =  27.590000000000032\n",
      "| 최고 기온 =  34.879999999999995\n",
      "| 습도 =  -210.14999999999998\n",
      "| 기압 =  734.85\n",
      "| 풍향 =  -93.14999999999998\n",
      "| 풍속 =  -265.42999999999995\n",
      "\n",
      "+ 도시 =  New York\n",
      "| 날씨 =  broken clouds\n",
      "| 최저 기온 =  15.050000000000011\n",
      "| 최고 기온 =  20.980000000000018\n",
      "| 습도 =  -214.14999999999998\n",
      "| 기압 =  744.85\n",
      "| 풍향 =  76.85000000000002\n",
      "| 풍속 =  -268.01\n",
      "\n",
      "+ 도시 =  Beijing\n",
      "| 날씨 =  overcast clouds\n",
      "| 최저 기온 =  25.939999999999998\n",
      "| 최고 기온 =  25.939999999999998\n",
      "| 습도 =  -229.14999999999998\n",
      "| 기압 =  722.85\n",
      "| 풍향 =  56.85000000000002\n",
      "| 풍속 =  -271.51\n",
      "\n"
     ]
    }
   ],
   "source": [
    "# 각 도시의 정보 추출하기\n",
    "for name in cities:\n",
    "    # API의 URL 구성하기\n",
    "    url = api.format(city=name, key=apikey)\n",
    "    # API에 요청을 보내 데이터 추출하기\n",
    "    r = requests.get(url)\n",
    "    # 결과를 Json형식으로 변환\n",
    "    data = json.loads(r.text)\n",
    "    # 결과 출력하기\n",
    "    print(\"+ 도시 = \",data['name'])\n",
    "    print(\"| 날씨 = \",data['weather'][0]['description'])\n",
    "    print(\"| 최저 기온 = \", k2c(data['main']['temp_min']))\n",
    "    print(\"| 최고 기온 = \", k2c(data['main']['temp_max']))\n",
    "    print(\"| 습도 = \", k2c(data['main']['humidity']))\n",
    "    print(\"| 기압 = \", k2c(data['main']['pressure']))\n",
    "    print(\"| 풍향 = \", k2c(data['wind']['deg']))\n",
    "    print(\"| 풍속 = \", k2c(data['wind']['speed']))\n",
    "    print(\"\")"
   ]
  },
  {
   "cell_type": "code",
   "execution_count": 59,
   "metadata": {},
   "outputs": [
    {
     "data": {
      "text/plain": [
       "{'coord': {'lon': 116.3972, 'lat': 39.9075},\n",
       " 'weather': [{'id': 804,\n",
       "   'main': 'Clouds',\n",
       "   'description': 'overcast clouds',\n",
       "   'icon': '04d'}],\n",
       " 'base': 'stations',\n",
       " 'main': {'temp': 299.09,\n",
       "  'feels_like': 298.89,\n",
       "  'temp_min': 299.09,\n",
       "  'temp_max': 299.09,\n",
       "  'pressure': 996,\n",
       "  'humidity': 44,\n",
       "  'sea_level': 996,\n",
       "  'grnd_level': 991},\n",
       " 'visibility': 10000,\n",
       " 'wind': {'speed': 1.64, 'deg': 330, 'gust': 2.12},\n",
       " 'clouds': {'all': 98},\n",
       " 'dt': 1656407095,\n",
       " 'sys': {'type': 1,\n",
       "  'id': 9609,\n",
       "  'country': 'CN',\n",
       "  'sunrise': 1656362877,\n",
       "  'sunset': 1656416818},\n",
       " 'timezone': 28800,\n",
       " 'id': 1816670,\n",
       " 'name': 'Beijing',\n",
       " 'cod': 200}"
      ]
     },
     "execution_count": 59,
     "metadata": {},
     "output_type": "execute_result"
    }
   ],
   "source": [
    "data"
   ]
  },
  {
   "cell_type": "code",
   "execution_count": null,
   "metadata": {},
   "outputs": [],
   "source": []
  }
 ],
 "metadata": {
  "kernelspec": {
   "display_name": "Python 3.9.7 ('base')",
   "language": "python",
   "name": "python3"
  },
  "language_info": {
   "codemirror_mode": {
    "name": "ipython",
    "version": 3
   },
   "file_extension": ".py",
   "mimetype": "text/x-python",
   "name": "python",
   "nbconvert_exporter": "python",
   "pygments_lexer": "ipython3",
   "version": "3.9.7"
  },
  "orig_nbformat": 4,
  "vscode": {
   "interpreter": {
    "hash": "c34e8390e776d2ee205b71ed5a6130fee3cef8da5e87e926ce18e14f4a070d72"
   }
  }
 },
 "nbformat": 4,
 "nbformat_minor": 2
}

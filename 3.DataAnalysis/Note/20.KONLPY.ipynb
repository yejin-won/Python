{
 "cells": [
  {
   "cell_type": "code",
   "execution_count": 3,
   "metadata": {},
   "outputs": [
    {
     "name": "stdout",
     "output_type": "stream",
     "text": [
      "Collecting tweepy==3.10.0\n",
      "  Downloading tweepy-3.10.0-py2.py3-none-any.whl (30 kB)\n",
      "Requirement already satisfied: requests[socks]>=2.11.1 in c:\\users\\yejin\\anaconda3\\lib\\site-packages (from tweepy==3.10.0) (2.26.0)\n",
      "Collecting requests-oauthlib>=0.7.0\n",
      "  Downloading requests_oauthlib-1.3.1-py2.py3-none-any.whl (23 kB)\n",
      "Requirement already satisfied: six>=1.10.0 in c:\\users\\yejin\\anaconda3\\lib\\site-packages (from tweepy==3.10.0) (1.16.0)\n",
      "Collecting oauthlib>=3.0.0\n",
      "  Downloading oauthlib-3.2.0-py3-none-any.whl (151 kB)\n",
      "Requirement already satisfied: certifi>=2017.4.17 in c:\\users\\yejin\\anaconda3\\lib\\site-packages (from requests[socks]>=2.11.1->tweepy==3.10.0) (2021.10.8)\n",
      "Requirement already satisfied: idna<4,>=2.5 in c:\\users\\yejin\\anaconda3\\lib\\site-packages (from requests[socks]>=2.11.1->tweepy==3.10.0) (3.2)\n",
      "Requirement already satisfied: charset-normalizer~=2.0.0 in c:\\users\\yejin\\anaconda3\\lib\\site-packages (from requests[socks]>=2.11.1->tweepy==3.10.0) (2.0.4)\n",
      "Requirement already satisfied: urllib3<1.27,>=1.21.1 in c:\\users\\yejin\\anaconda3\\lib\\site-packages (from requests[socks]>=2.11.1->tweepy==3.10.0) (1.26.7)\n",
      "Requirement already satisfied: PySocks!=1.5.7,>=1.5.6 in c:\\users\\yejin\\anaconda3\\lib\\site-packages (from requests[socks]>=2.11.1->tweepy==3.10.0) (1.7.1)\n",
      "Installing collected packages: oauthlib, requests-oauthlib, tweepy\n",
      "Successfully installed oauthlib-3.2.0 requests-oauthlib-1.3.1 tweepy-3.10.0\n"
     ]
    }
   ],
   "source": [
    "!pip install tweepy==3.10.0"
   ]
  },
  {
   "cell_type": "code",
   "execution_count": 4,
   "metadata": {},
   "outputs": [
    {
     "name": "stdout",
     "output_type": "stream",
     "text": [
      "Collecting konlpy\n",
      "  Downloading konlpy-0.6.0-py2.py3-none-any.whl (19.4 MB)\n",
      "Collecting JPype1>=0.7.0\n",
      "  Downloading JPype1-1.4.0-cp39-cp39-win_amd64.whl (344 kB)\n",
      "Requirement already satisfied: lxml>=4.1.0 in c:\\users\\yejin\\anaconda3\\lib\\site-packages (from konlpy) (4.6.3)\n",
      "Requirement already satisfied: numpy>=1.6 in c:\\users\\yejin\\anaconda3\\lib\\site-packages (from konlpy) (1.20.3)\n",
      "Installing collected packages: JPype1, konlpy\n",
      "Successfully installed JPype1-1.4.0 konlpy-0.6.0\n"
     ]
    }
   ],
   "source": [
    "!pip install konlpy"
   ]
  },
  {
   "cell_type": "code",
   "execution_count": 5,
   "metadata": {},
   "outputs": [],
   "source": [
    "from konlpy.tag import Kkma\n",
    "kkma = Kkma()"
   ]
  },
  {
   "cell_type": "code",
   "execution_count": 6,
   "metadata": {},
   "outputs": [
    {
     "data": {
      "text/plain": [
       "['나는 자랑스러운 태극기 앞에 자유롭고 정의로운 대한민국의 무궁한 영광을 위하여 충성을 다 할 것을 굳게 다짐 합니다.']"
      ]
     },
     "execution_count": 6,
     "metadata": {},
     "output_type": "execute_result"
    }
   ],
   "source": [
    "kkma.sentences('나는 자랑스러운 태극기 앞에 자유롭고 정의로운 대한민국의 무궁한 영광을 위하여 충성을 다 할 것을 굳게 다짐 합니다.')"
   ]
  },
  {
   "cell_type": "code",
   "execution_count": 7,
   "metadata": {},
   "outputs": [
    {
     "data": {
      "text/plain": [
       "['나', '자랑', '태극기', '앞', '자유', '정의', '대한', '대한민국', '민국', '무궁', '영광', '충성', '다짐']"
      ]
     },
     "execution_count": 7,
     "metadata": {},
     "output_type": "execute_result"
    }
   ],
   "source": [
    "kkma.nouns('나는 자랑스러운 태극기 앞에 자유롭고 정의로운 대한민국의 무궁한 영광을 위하여 충성을 다 할 것을 굳게 다짐 합니다.')"
   ]
  },
  {
   "cell_type": "code",
   "execution_count": 8,
   "metadata": {},
   "outputs": [
    {
     "data": {
      "text/plain": [
       "[('나', 'NP'),\n",
       " ('는', 'JX'),\n",
       " ('자랑', 'NNG'),\n",
       " ('스럽', 'XSA'),\n",
       " ('ㄴ', 'ETD'),\n",
       " ('태극기', 'NNG'),\n",
       " ('앞', 'NNG'),\n",
       " ('에', 'JKM'),\n",
       " ('자유', 'NNG'),\n",
       " ('롭', 'XSA'),\n",
       " ('고', 'ECE'),\n",
       " ('정의', 'NNG'),\n",
       " ('롭', 'XSA'),\n",
       " ('ㄴ', 'ETD'),\n",
       " ('대한민국', 'NNG'),\n",
       " ('의', 'JKG'),\n",
       " ('무궁', 'NNG'),\n",
       " ('하', 'XSV'),\n",
       " ('ㄴ', 'ETD'),\n",
       " ('영광', 'NNG'),\n",
       " ('을', 'JKO'),\n",
       " ('위하', 'VV'),\n",
       " ('여', 'ECS'),\n",
       " ('충성', 'NNG'),\n",
       " ('을', 'JKO'),\n",
       " ('다', 'MAG'),\n",
       " ('하', 'VV'),\n",
       " ('ㄹ', 'ETD'),\n",
       " ('것', 'NNB'),\n",
       " ('을', 'JKO'),\n",
       " ('굳', 'VA'),\n",
       " ('게', 'ECD'),\n",
       " ('다짐', 'NNG'),\n",
       " ('하', 'VV'),\n",
       " ('ㅂ니다', 'EFN'),\n",
       " ('.', 'SF')]"
      ]
     },
     "execution_count": 8,
     "metadata": {},
     "output_type": "execute_result"
    }
   ],
   "source": [
    "kkma.pos('나는 자랑스러운 태극기 앞에 자유롭고 정의로운 대한민국의 무궁한 영광을 위하여 충성을 다 할 것을 굳게 다짐 합니다.')"
   ]
  },
  {
   "cell_type": "code",
   "execution_count": 9,
   "metadata": {},
   "outputs": [],
   "source": [
    "from konlpy.tag import Hannanum\n",
    "hannanum = Hannanum()"
   ]
  },
  {
   "cell_type": "code",
   "execution_count": 10,
   "metadata": {},
   "outputs": [
    {
     "data": {
      "text/plain": [
       "['나', '자랑', '태극기', '앞', '자유', '정의로운', '대한민국', '무궁한', '영광', '충성', '것', '다짐']"
      ]
     },
     "execution_count": 10,
     "metadata": {},
     "output_type": "execute_result"
    }
   ],
   "source": [
    "hannanum.nouns('나는 자랑스러운 태극기 앞에 자유롭고 정의로운 대한민국의 무궁한 영광을 위하여 충성을 다 할 것을 굳게 다짐 합니다.')"
   ]
  },
  {
   "cell_type": "code",
   "execution_count": 11,
   "metadata": {},
   "outputs": [
    {
     "data": {
      "text/plain": [
       "['나',\n",
       " '는',\n",
       " '자랑',\n",
       " '스럽',\n",
       " '은',\n",
       " '태극기',\n",
       " '앞',\n",
       " '에',\n",
       " '자유',\n",
       " '롭',\n",
       " '고',\n",
       " '정의로운',\n",
       " '대한민국',\n",
       " '의',\n",
       " '무궁한',\n",
       " '영광',\n",
       " '을',\n",
       " '위하',\n",
       " '어',\n",
       " '충성',\n",
       " '을',\n",
       " '다',\n",
       " '하',\n",
       " 'ㄹ',\n",
       " '것',\n",
       " '을',\n",
       " '굳',\n",
       " '게',\n",
       " '다짐',\n",
       " '하',\n",
       " 'ㅂ니다',\n",
       " '.']"
      ]
     },
     "execution_count": 11,
     "metadata": {},
     "output_type": "execute_result"
    }
   ],
   "source": [
    "# 형태소 분류\n",
    "hannanum.morphs('나는 자랑스러운 태극기 앞에 자유롭고 정의로운 대한민국의 무궁한 영광을 위하여 충성을 다 할 것을 굳게 다짐 합니다.')"
   ]
  },
  {
   "cell_type": "code",
   "execution_count": 12,
   "metadata": {},
   "outputs": [
    {
     "data": {
      "text/plain": [
       "[('나', 'N'),\n",
       " ('는', 'J'),\n",
       " ('자랑', 'N'),\n",
       " ('스럽', 'X'),\n",
       " ('은', 'E'),\n",
       " ('태극기', 'N'),\n",
       " ('앞', 'N'),\n",
       " ('에', 'J'),\n",
       " ('자유', 'N'),\n",
       " ('롭', 'X'),\n",
       " ('고', 'E'),\n",
       " ('정의로운', 'N'),\n",
       " ('대한민국', 'N'),\n",
       " ('의', 'J'),\n",
       " ('무궁한', 'N'),\n",
       " ('영광', 'N'),\n",
       " ('을', 'J'),\n",
       " ('위하', 'P'),\n",
       " ('어', 'E'),\n",
       " ('충성', 'N'),\n",
       " ('을', 'J'),\n",
       " ('다', 'M'),\n",
       " ('하', 'P'),\n",
       " ('ㄹ', 'E'),\n",
       " ('것', 'N'),\n",
       " ('을', 'J'),\n",
       " ('굳', 'P'),\n",
       " ('게', 'E'),\n",
       " ('다짐', 'N'),\n",
       " ('하', 'P'),\n",
       " ('ㅂ니다', 'E'),\n",
       " ('.', 'S')]"
      ]
     },
     "execution_count": 12,
     "metadata": {},
     "output_type": "execute_result"
    }
   ],
   "source": [
    "hannanum.pos('나는 자랑스러운 태극기 앞에 자유롭고 정의로운 대한민국의 무궁한 영광을 위하여 충성을 다 할 것을 굳게 다짐 합니다.')"
   ]
  },
  {
   "cell_type": "code",
   "execution_count": 13,
   "metadata": {},
   "outputs": [],
   "source": [
    "from konlpy.tag import Okt\n",
    "t = Okt()"
   ]
  },
  {
   "cell_type": "code",
   "execution_count": 14,
   "metadata": {},
   "outputs": [
    {
     "data": {
      "text/plain": [
       "['나', '태극기', '앞', '자유', '정의', '대한민국', '무궁', '영광', '위', '충성', '것', '다짐']"
      ]
     },
     "execution_count": 14,
     "metadata": {},
     "output_type": "execute_result"
    }
   ],
   "source": [
    "t.nouns('나는 자랑스러운 태극기 앞에 자유롭고 정의로운 대한민국의 무궁한 영광을 위하여 충성을 다 할 것을 굳게 다짐 합니다.')"
   ]
  },
  {
   "cell_type": "code",
   "execution_count": 15,
   "metadata": {},
   "outputs": [
    {
     "data": {
      "text/plain": [
       "[('나', 'Noun'),\n",
       " ('는', 'Josa'),\n",
       " ('자랑스러운', 'Adjective'),\n",
       " ('태극기', 'Noun'),\n",
       " ('앞', 'Noun'),\n",
       " ('에', 'Josa'),\n",
       " ('자유', 'Noun'),\n",
       " ('롭고', 'Josa'),\n",
       " ('정의', 'Noun'),\n",
       " ('로운', 'Josa'),\n",
       " ('대한민국', 'Noun'),\n",
       " ('의', 'Josa'),\n",
       " ('무궁', 'Noun'),\n",
       " ('한', 'Josa'),\n",
       " ('영광', 'Noun'),\n",
       " ('을', 'Josa'),\n",
       " ('위', 'Noun'),\n",
       " ('하여', 'Verb'),\n",
       " ('충성', 'Noun'),\n",
       " ('을', 'Josa'),\n",
       " ('다', 'Adverb'),\n",
       " ('할', 'Verb'),\n",
       " ('것', 'Noun'),\n",
       " ('을', 'Josa'),\n",
       " ('굳게', 'Adjective'),\n",
       " ('다짐', 'Noun'),\n",
       " ('합니다', 'Verb'),\n",
       " ('.', 'Punctuation')]"
      ]
     },
     "execution_count": 15,
     "metadata": {},
     "output_type": "execute_result"
    }
   ],
   "source": [
    "t.pos('나는 자랑스러운 태극기 앞에 자유롭고 정의로운 대한민국의 무궁한 영광을 위하여 충성을 다 할 것을 굳게 다짐 합니다.')"
   ]
  },
  {
   "cell_type": "code",
   "execution_count": null,
   "metadata": {},
   "outputs": [],
   "source": []
  }
 ],
 "metadata": {
  "kernelspec": {
   "display_name": "Python 3.9.7 ('base')",
   "language": "python",
   "name": "python3"
  },
  "language_info": {
   "codemirror_mode": {
    "name": "ipython",
    "version": 3
   },
   "file_extension": ".py",
   "mimetype": "text/x-python",
   "name": "python",
   "nbconvert_exporter": "python",
   "pygments_lexer": "ipython3",
   "version": "3.9.7"
  },
  "orig_nbformat": 4,
  "vscode": {
   "interpreter": {
    "hash": "73feb3586288eb5455ae3e6408eb3d57be2e76ca00bb7aa4fcdc13325a09e980"
   }
  }
 },
 "nbformat": 4,
 "nbformat_minor": 2
}

{
 "cells": [
  {
   "cell_type": "markdown",
   "metadata": {},
   "source": [
    "### 순차데이터\n",
    "- 텍스트 데이터 (ex: I am a boy) : 순서가 의미가 있다.   \n",
    "- 시계열 데이터(ex: 1일 10도, 2일 8도)    "
   ]
  },
  {
   "cell_type": "markdown",
   "metadata": {},
   "source": [
    "---\n",
    "### 순환신경망(RNN: Recurrent Neuarl Network)"
   ]
  },
  {
   "cell_type": "markdown",
   "metadata": {},
   "source": [
    "- IMDB(Internaet Movie Data Base)\n",
    "- IMDB 구성 : Train Data(25000개중 긍정 12500개,부정 12500),Test Data(25000개중 긍정 12500,부정 12500)\n",
    "- NLP : Natural Language Processing(자연어 처리)\n",
    "- 말뭉치 : 하나의 데이터셋을 말뭉치라고 표현\n",
    "- 토큰 : 하나의 단어를 토큰이라고 표현\n",
    "- 어휘사전 : 번호로 구분된 유일한 단어들의 집단\n",
    "- 머신러닝이나 딥러닝에서는 데이터가 숫자로 구성되어 있어야 함으로 이런 단어들을 고유한 번호로 할당하여 사용"
   ]
  },
  {
   "cell_type": "code",
   "execution_count": 1,
   "metadata": {},
   "outputs": [],
   "source": [
    "from tensorflow.keras.datasets import imdb\n",
    "(train_input,train_target),(test_input,test_target) = imdb.load_data(num_words=500) # 500개단어만"
   ]
  },
  {
   "cell_type": "code",
   "execution_count": 2,
   "metadata": {},
   "outputs": [
    {
     "name": "stdout",
     "output_type": "stream",
     "text": [
      "(25000,) (25000,)\n"
     ]
    }
   ],
   "source": [
    "print(train_input.shape, test_input.shape)"
   ]
  },
  {
   "cell_type": "code",
   "execution_count": 3,
   "metadata": {},
   "outputs": [
    {
     "data": {
      "text/plain": [
       "218"
      ]
     },
     "execution_count": 3,
     "metadata": {},
     "output_type": "execute_result"
    }
   ],
   "source": [
    "# train의 첫번째 문장의 Token 갯수\n",
    "len(train_input[0])"
   ]
  },
  {
   "cell_type": "code",
   "execution_count": 4,
   "metadata": {},
   "outputs": [
    {
     "data": {
      "text/plain": [
       "189"
      ]
     },
     "execution_count": 4,
     "metadata": {},
     "output_type": "execute_result"
    }
   ],
   "source": [
    "len(train_input[1])"
   ]
  },
  {
   "cell_type": "code",
   "execution_count": 5,
   "metadata": {},
   "outputs": [
    {
     "name": "stdout",
     "output_type": "stream",
     "text": [
      "[1, 14, 22, 16, 43, 2, 2, 2, 2, 65, 458, 2, 66, 2, 4, 173, 36, 256, 5, 25, 100, 43, 2, 112, 50, 2, 2, 9, 35, 480, 284, 5, 150, 4, 172, 112, 167, 2, 336, 385, 39, 4, 172, 2, 2, 17, 2, 38, 13, 447, 4, 192, 50, 16, 6, 147, 2, 19, 14, 22, 4, 2, 2, 469, 4, 22, 71, 87, 12, 16, 43, 2, 38, 76, 15, 13, 2, 4, 22, 17, 2, 17, 12, 16, 2, 18, 2, 5, 62, 386, 12, 8, 316, 8, 106, 5, 4, 2, 2, 16, 480, 66, 2, 33, 4, 130, 12, 16, 38, 2, 5, 25, 124, 51, 36, 135, 48, 25, 2, 33, 6, 22, 12, 215, 28, 77, 52, 5, 14, 407, 16, 82, 2, 8, 4, 107, 117, 2, 15, 256, 4, 2, 7, 2, 5, 2, 36, 71, 43, 2, 476, 26, 400, 317, 46, 7, 4, 2, 2, 13, 104, 88, 4, 381, 15, 297, 98, 32, 2, 56, 26, 141, 6, 194, 2, 18, 4, 226, 22, 21, 134, 476, 26, 480, 5, 144, 30, 2, 18, 51, 36, 28, 224, 92, 25, 104, 4, 226, 65, 16, 38, 2, 88, 12, 16, 283, 5, 16, 2, 113, 103, 32, 15, 16, 2, 19, 178, 32]\n"
     ]
    }
   ],
   "source": [
    "# 첫번째 댓글의 출력\n",
    "print(train_input[0]) # 2는 500개 단어에 해당하지 않는 것을 의미 "
   ]
  },
  {
   "cell_type": "markdown",
   "metadata": {},
   "source": [
    "- 샘플의 시작부분 토큰은 1을 사용한다. \n",
    "- 2는 선정한 단어 갯수에 포함되지 않는 단어를 표현한다.\n",
    "- train_input 자체는 numpy 배열이나 댓글에 사용된 토큰수가 다르기 때문에 numpy 배열을 사용못하고     \n",
    "python list를 사용한다"
   ]
  },
  {
   "cell_type": "code",
   "execution_count": 6,
   "metadata": {},
   "outputs": [
    {
     "name": "stdout",
     "output_type": "stream",
     "text": [
      "[1 0 0 1 0 0 1 0 1 0]\n"
     ]
    }
   ],
   "source": [
    "# train의 target 출력\n",
    "print(train_target[:10])"
   ]
  },
  {
   "cell_type": "code",
   "execution_count": 7,
   "metadata": {},
   "outputs": [],
   "source": [
    "# 훈련세트 준비\n",
    "from sklearn.model_selection import train_test_split\n",
    "train_input,val_input,train_target,val_target = train_test_split(\n",
    "    train_input,train_target,test_size=0.2,random_state=42\n",
    ")"
   ]
  },
  {
   "cell_type": "code",
   "execution_count": 8,
   "metadata": {},
   "outputs": [
    {
     "name": "stdout",
     "output_type": "stream",
     "text": [
      "239.00925 178.0\n"
     ]
    }
   ],
   "source": [
    "# 각 리뷰마다 문장길이를 시각화\n",
    "\n",
    "import numpy as np\n",
    "lengths = np.array([len(x) for x in train_input])\n",
    "print(np.mean(lengths),np.median(lengths))"
   ]
  },
  {
   "cell_type": "code",
   "execution_count": 9,
   "metadata": {},
   "outputs": [
    {
     "data": {
      "image/png": "[encoded data removed]",
      "text/plain": [
       "<Figure size 432x288 with 1 Axes>"
      ]
     },
     "metadata": {
      "needs_background": "light"
     },
     "output_type": "display_data"
    }
   ],
   "source": [
    "import matplotlib.pyplot as plt\n",
    "plt.hist(lengths)\n",
    "plt.xlabel('length')\n",
    "plt.ylabel('frequency')\n",
    "plt.show()"
   ]
  },
  {
   "cell_type": "markdown",
   "metadata": {},
   "source": [
    "---\n",
    "### Sequence Padding\n",
    "- 전체 자릿수를 100으로 가정했을 경우 한문장에 3개 토큰만 있을 경우 나머지 97개는 비워지고 이를 0으로 채우는 과정"
   ]
  },
  {
   "cell_type": "code",
   "execution_count": 10,
   "metadata": {},
   "outputs": [],
   "source": [
    "from tensorflow.keras.preprocessing.sequence import pad_sequences\n",
    "\n",
    "train_seq = pad_sequences(train_input,maxlen=100) # 위의 차트에서 100개 부분이 제일 많은것 같아 100개의 토큰만 사용\n",
    "val_seq = pad_sequences(val_input,maxlen=100) # 검증데이터"
   ]
  },
  {
   "cell_type": "code",
   "execution_count": 11,
   "metadata": {},
   "outputs": [
    {
     "name": "stdout",
     "output_type": "stream",
     "text": [
      "(20000, 100)\n"
     ]
    }
   ],
   "source": [
    "# 크기 확인\n",
    "print(train_seq.shape)"
   ]
  },
  {
   "cell_type": "markdown",
   "metadata": {},
   "source": [
    "> 25000개의 훈련세트 중 500개는 검증세트로 빠짐"
   ]
  },
  {
   "cell_type": "code",
   "execution_count": 12,
   "metadata": {},
   "outputs": [
    {
     "name": "stdout",
     "output_type": "stream",
     "text": [
      "[ 10   4  20   9   2 364 352   5  45   6   2   2  33 269   8   2 142   2\n",
      "   5   2  17  73  17 204   5   2  19  55   2   2  92  66 104  14  20  93\n",
      "  76   2 151  33   4  58  12 188   2 151  12 215  69 224 142  73 237   6\n",
      "   2   7   2   2 188   2 103  14  31  10  10 451   7   2   5   2  80  91\n",
      "   2  30   2  34  14  20 151  50  26 131  49   2  84  46  50  37  80  79\n",
      "   6   2  46   7  14  20  10  10 470 158]\n"
     ]
    }
   ],
   "source": [
    "# 첫번째 댓글 확인\n",
    "print(train_seq[0])"
   ]
  },
  {
   "cell_type": "code",
   "execution_count": 13,
   "metadata": {},
   "outputs": [
    {
     "name": "stdout",
     "output_type": "stream",
     "text": [
      "[6, 2, 46, 7, 14, 20, 10, 10, 470, 158]\n"
     ]
    }
   ],
   "source": [
    "# 원본의 첫번째 댓글의 마지막 10개만 출력\n",
    "print(train_input[0][-10:])"
   ]
  },
  {
   "cell_type": "code",
   "execution_count": 14,
   "metadata": {},
   "outputs": [
    {
     "name": "stdout",
     "output_type": "stream",
     "text": [
      "[  0   0   0   0   1   2 195  19  49   2   2 190   4   2 352   2 183  10\n",
      "  10  13  82  79   4   2  36  71 269   8   2  25  19  49   7   4   2   2\n",
      "   2   2   2  10  10  48  25  40   2  11   2   2  40   2   2   5   4   2\n",
      "   2  95  14 238  56 129   2  10  10  21   2  94 364 352   2   2  11 190\n",
      "  24 484   2   7  94 205 405  10  10  87   2  34  49   2   7   2   2   2\n",
      "   2   2 290   2  46  48  64  18   4   2]\n"
     ]
    }
   ],
   "source": [
    "print(train_seq[5]) "
   ]
  },
  {
   "cell_type": "markdown",
   "metadata": {},
   "source": [
    "---\n",
    "# 순환 신경망 모델 만들기"
   ]
  },
  {
   "cell_type": "code",
   "execution_count": 15,
   "metadata": {},
   "outputs": [],
   "source": [
    "from tensorflow import keras"
   ]
  },
  {
   "cell_type": "code",
   "execution_count": 16,
   "metadata": {},
   "outputs": [
    {
     "name": "stderr",
     "output_type": "stream",
     "text": [
      "2022-07-22 12:13:05.327740: I tensorflow/core/platform/cpu_feature_guard.cc:193] This TensorFlow binary is optimized with oneAPI Deep Neural Network Library (oneDNN) to use the following CPU instructions in performance-critical operations:  AVX2 FMA\n",
      "To enable them in other operations, rebuild TensorFlow with the appropriate compiler flags.\n"
     ]
    }
   ],
   "source": [
    "model = keras.Sequential()\n",
    "model.add(keras.layers.SimpleRNN(8,input_shape=(100,500))) # 8 : cell의 갯수, 500 :One-hotEncoding\n",
    "model.add(keras.layers.Dense(1,activation='sigmoid'))"
   ]
  },
  {
   "cell_type": "code",
   "execution_count": 17,
   "metadata": {},
   "outputs": [
    {
     "name": "stdout",
     "output_type": "stream",
     "text": [
      "(20000, 100, 500)\n"
     ]
    }
   ],
   "source": [
    "# One hot Encoding\n",
    "train_oh = keras.utils.to_categorical(train_seq)\n",
    "print(train_oh.shape)"
   ]
  },
  {
   "cell_type": "code",
   "execution_count": 18,
   "metadata": {},
   "outputs": [
    {
     "name": "stdout",
     "output_type": "stream",
     "text": [
      "1.0\n"
     ]
    }
   ],
   "source": [
    "# one hot encoding 확인하기\n",
    "print(np.sum(train_oh[0][0]))"
   ]
  },
  {
   "cell_type": "code",
   "execution_count": 19,
   "metadata": {},
   "outputs": [
    {
     "name": "stdout",
     "output_type": "stream",
     "text": [
      "(5000, 100, 500)\n"
     ]
    }
   ],
   "source": [
    "val_oh = keras.utils.to_categorical(val_seq)\n",
    "print(val_oh.shape)"
   ]
  },
  {
   "cell_type": "code",
   "execution_count": 20,
   "metadata": {},
   "outputs": [
    {
     "name": "stdout",
     "output_type": "stream",
     "text": [
      "Model: \"sequential\"\n",
      "_________________________________________________________________\n",
      " Layer (type)                Output Shape              Param #   \n",
      "=================================================================\n",
      " simple_rnn (SimpleRNN)      (None, 8)                 4072      \n",
      "                                                                 \n",
      " dense (Dense)               (None, 1)                 9         \n",
      "                                                                 \n",
      "=================================================================\n",
      "Total params: 4,081\n",
      "Trainable params: 4,081\n",
      "Non-trainable params: 0\n",
      "_________________________________________________________________\n"
     ]
    }
   ],
   "source": [
    "model.summary()"
   ]
  },
  {
   "cell_type": "markdown",
   "metadata": {},
   "source": [
    "<b>$500 * 8 + (8*8) + 8(bias) = 4072$</b>"
   ]
  },
  {
   "cell_type": "code",
   "execution_count": 21,
   "metadata": {},
   "outputs": [
    {
     "name": "stdout",
     "output_type": "stream",
     "text": [
      "Epoch 1/100\n",
      "313/313 [==============================] - 16s 47ms/step - loss: 0.7009 - accuracy: 0.4989 - val_loss: 0.6967 - val_accuracy: 0.5132\n",
      "Epoch 2/100\n",
      "313/313 [==============================] - 14s 44ms/step - loss: 0.6960 - accuracy: 0.5099 - val_loss: 0.6942 - val_accuracy: 0.5148\n",
      "Epoch 3/100\n",
      "313/313 [==============================] - 13s 41ms/step - loss: 0.6931 - accuracy: 0.5170 - val_loss: 0.6925 - val_accuracy: 0.5196\n",
      "Epoch 4/100\n",
      "313/313 [==============================] - 12s 39ms/step - loss: 0.6909 - accuracy: 0.5258 - val_loss: 0.6912 - val_accuracy: 0.5248\n",
      "Epoch 5/100\n",
      "313/313 [==============================] - 12s 39ms/step - loss: 0.6890 - accuracy: 0.5360 - val_loss: 0.6900 - val_accuracy: 0.5334\n",
      "Epoch 6/100\n",
      "313/313 [==============================] - 12s 39ms/step - loss: 0.6872 - accuracy: 0.5454 - val_loss: 0.6890 - val_accuracy: 0.5386\n",
      "Epoch 7/100\n",
      "313/313 [==============================] - 12s 40ms/step - loss: 0.6855 - accuracy: 0.5523 - val_loss: 0.6880 - val_accuracy: 0.5414\n",
      "Epoch 8/100\n",
      "313/313 [==============================] - 12s 39ms/step - loss: 0.6838 - accuracy: 0.5593 - val_loss: 0.6870 - val_accuracy: 0.5462\n",
      "Epoch 9/100\n",
      "313/313 [==============================] - 13s 41ms/step - loss: 0.6820 - accuracy: 0.5669 - val_loss: 0.6861 - val_accuracy: 0.5510\n",
      "Epoch 10/100\n",
      "313/313 [==============================] - 13s 40ms/step - loss: 0.6802 - accuracy: 0.5712 - val_loss: 0.6853 - val_accuracy: 0.5518\n",
      "Epoch 11/100\n",
      "313/313 [==============================] - 13s 43ms/step - loss: 0.6783 - accuracy: 0.5764 - val_loss: 0.6844 - val_accuracy: 0.5530\n",
      "Epoch 12/100\n",
      "313/313 [==============================] - 13s 42ms/step - loss: 0.6764 - accuracy: 0.5822 - val_loss: 0.6833 - val_accuracy: 0.5550\n",
      "Epoch 13/100\n",
      "313/313 [==============================] - 13s 41ms/step - loss: 0.6743 - accuracy: 0.5864 - val_loss: 0.6825 - val_accuracy: 0.5548\n",
      "Epoch 14/100\n",
      "313/313 [==============================] - 14s 46ms/step - loss: 0.6722 - accuracy: 0.5926 - val_loss: 0.6815 - val_accuracy: 0.5604\n",
      "Epoch 15/100\n",
      "313/313 [==============================] - 13s 41ms/step - loss: 0.6700 - accuracy: 0.5957 - val_loss: 0.6809 - val_accuracy: 0.5614\n",
      "Epoch 16/100\n",
      "313/313 [==============================] - 13s 42ms/step - loss: 0.6678 - accuracy: 0.6008 - val_loss: 0.6797 - val_accuracy: 0.5650\n",
      "Epoch 17/100\n",
      "313/313 [==============================] - 14s 46ms/step - loss: 0.6655 - accuracy: 0.6030 - val_loss: 0.6790 - val_accuracy: 0.5640\n",
      "Epoch 18/100\n",
      "313/313 [==============================] - 15s 49ms/step - loss: 0.6631 - accuracy: 0.6105 - val_loss: 0.6781 - val_accuracy: 0.5648\n",
      "Epoch 19/100\n",
      "313/313 [==============================] - 13s 41ms/step - loss: 0.6607 - accuracy: 0.6115 - val_loss: 0.6777 - val_accuracy: 0.5656\n",
      "Epoch 20/100\n",
      "313/313 [==============================] - 13s 42ms/step - loss: 0.6582 - accuracy: 0.6158 - val_loss: 0.6764 - val_accuracy: 0.5658\n",
      "Epoch 21/100\n",
      "313/313 [==============================] - 13s 43ms/step - loss: 0.6558 - accuracy: 0.6179 - val_loss: 0.6759 - val_accuracy: 0.5680\n",
      "Epoch 22/100\n",
      "313/313 [==============================] - 13s 42ms/step - loss: 0.6533 - accuracy: 0.6234 - val_loss: 0.6750 - val_accuracy: 0.5680\n",
      "Epoch 23/100\n",
      "313/313 [==============================] - 13s 41ms/step - loss: 0.6509 - accuracy: 0.6248 - val_loss: 0.6747 - val_accuracy: 0.5712\n",
      "Epoch 24/100\n",
      "313/313 [==============================] - 14s 43ms/step - loss: 0.6484 - accuracy: 0.6291 - val_loss: 0.6741 - val_accuracy: 0.5730\n",
      "Epoch 25/100\n",
      "313/313 [==============================] - 13s 43ms/step - loss: 0.6459 - accuracy: 0.6325 - val_loss: 0.6738 - val_accuracy: 0.5712\n",
      "Epoch 26/100\n",
      "313/313 [==============================] - 13s 43ms/step - loss: 0.6433 - accuracy: 0.6341 - val_loss: 0.6735 - val_accuracy: 0.5704\n",
      "Epoch 27/100\n",
      "313/313 [==============================] - 13s 42ms/step - loss: 0.6411 - accuracy: 0.6371 - val_loss: 0.6728 - val_accuracy: 0.5746\n",
      "Epoch 28/100\n",
      "313/313 [==============================] - 13s 43ms/step - loss: 0.6385 - accuracy: 0.6411 - val_loss: 0.6724 - val_accuracy: 0.5752\n",
      "Epoch 29/100\n",
      "313/313 [==============================] - 13s 42ms/step - loss: 0.6361 - accuracy: 0.6428 - val_loss: 0.6720 - val_accuracy: 0.5744\n",
      "Epoch 30/100\n",
      "313/313 [==============================] - 14s 43ms/step - loss: 0.6337 - accuracy: 0.6464 - val_loss: 0.6717 - val_accuracy: 0.5734\n",
      "Epoch 31/100\n",
      "313/313 [==============================] - 13s 42ms/step - loss: 0.6313 - accuracy: 0.6460 - val_loss: 0.6720 - val_accuracy: 0.5746\n",
      "Epoch 32/100\n",
      "313/313 [==============================] - 13s 42ms/step - loss: 0.6289 - accuracy: 0.6493 - val_loss: 0.6715 - val_accuracy: 0.5766\n",
      "Epoch 33/100\n",
      "313/313 [==============================] - 13s 41ms/step - loss: 0.6268 - accuracy: 0.6536 - val_loss: 0.6717 - val_accuracy: 0.5748\n",
      "Epoch 34/100\n",
      "313/313 [==============================] - 13s 42ms/step - loss: 0.6243 - accuracy: 0.6546 - val_loss: 0.6717 - val_accuracy: 0.5758\n",
      "Epoch 35/100\n",
      "313/313 [==============================] - 13s 42ms/step - loss: 0.6222 - accuracy: 0.6575 - val_loss: 0.6707 - val_accuracy: 0.5752\n",
      "Epoch 36/100\n",
      "313/313 [==============================] - 12s 40ms/step - loss: 0.6197 - accuracy: 0.6617 - val_loss: 0.6712 - val_accuracy: 0.5768\n",
      "Epoch 37/100\n",
      "313/313 [==============================] - 12s 39ms/step - loss: 0.6177 - accuracy: 0.6615 - val_loss: 0.6703 - val_accuracy: 0.5788\n",
      "Epoch 38/100\n",
      "313/313 [==============================] - 12s 40ms/step - loss: 0.6154 - accuracy: 0.6629 - val_loss: 0.6706 - val_accuracy: 0.5774\n",
      "Epoch 39/100\n",
      "313/313 [==============================] - 13s 41ms/step - loss: 0.6131 - accuracy: 0.6657 - val_loss: 0.6697 - val_accuracy: 0.5802\n",
      "Epoch 40/100\n",
      "313/313 [==============================] - 13s 41ms/step - loss: 0.6109 - accuracy: 0.6688 - val_loss: 0.6687 - val_accuracy: 0.5860\n",
      "Epoch 41/100\n",
      "313/313 [==============================] - 13s 40ms/step - loss: 0.6086 - accuracy: 0.6708 - val_loss: 0.6691 - val_accuracy: 0.5830\n",
      "Epoch 42/100\n",
      "313/313 [==============================] - 13s 40ms/step - loss: 0.6066 - accuracy: 0.6726 - val_loss: 0.6674 - val_accuracy: 0.5876\n",
      "Epoch 43/100\n",
      "313/313 [==============================] - 13s 41ms/step - loss: 0.6041 - accuracy: 0.6743 - val_loss: 0.6675 - val_accuracy: 0.5878\n",
      "Epoch 44/100\n",
      "313/313 [==============================] - 13s 41ms/step - loss: 0.6020 - accuracy: 0.6773 - val_loss: 0.6664 - val_accuracy: 0.5906\n",
      "Epoch 45/100\n",
      "313/313 [==============================] - 11s 35ms/step - loss: 0.5998 - accuracy: 0.6798 - val_loss: 0.6662 - val_accuracy: 0.5888\n",
      "Epoch 46/100\n",
      "313/313 [==============================] - 13s 42ms/step - loss: 0.5976 - accuracy: 0.6821 - val_loss: 0.6655 - val_accuracy: 0.5928\n",
      "Epoch 47/100\n",
      "313/313 [==============================] - 13s 40ms/step - loss: 0.5955 - accuracy: 0.6833 - val_loss: 0.6647 - val_accuracy: 0.5930\n",
      "Epoch 48/100\n",
      "313/313 [==============================] - 13s 41ms/step - loss: 0.5934 - accuracy: 0.6859 - val_loss: 0.6654 - val_accuracy: 0.5936\n",
      "Epoch 49/100\n",
      "313/313 [==============================] - 13s 40ms/step - loss: 0.5912 - accuracy: 0.6893 - val_loss: 0.6646 - val_accuracy: 0.5948\n",
      "Epoch 50/100\n",
      "313/313 [==============================] - 13s 40ms/step - loss: 0.5890 - accuracy: 0.6894 - val_loss: 0.6630 - val_accuracy: 0.5966\n",
      "Epoch 51/100\n",
      "313/313 [==============================] - 13s 40ms/step - loss: 0.5870 - accuracy: 0.6917 - val_loss: 0.6628 - val_accuracy: 0.5970\n",
      "Epoch 52/100\n",
      "313/313 [==============================] - 13s 40ms/step - loss: 0.5850 - accuracy: 0.6937 - val_loss: 0.6649 - val_accuracy: 0.5968\n",
      "Epoch 53/100\n",
      "313/313 [==============================] - 12s 40ms/step - loss: 0.5829 - accuracy: 0.6964 - val_loss: 0.6630 - val_accuracy: 0.6004\n",
      "Epoch 54/100\n",
      "313/313 [==============================] - 12s 39ms/step - loss: 0.5807 - accuracy: 0.6959 - val_loss: 0.6615 - val_accuracy: 0.6044\n",
      "Epoch 55/100\n",
      "313/313 [==============================] - 13s 40ms/step - loss: 0.5787 - accuracy: 0.6995 - val_loss: 0.6616 - val_accuracy: 0.6050\n",
      "Epoch 56/100\n",
      "313/313 [==============================] - 13s 40ms/step - loss: 0.5767 - accuracy: 0.7011 - val_loss: 0.6608 - val_accuracy: 0.6064\n",
      "Epoch 57/100\n",
      "313/313 [==============================] - 13s 40ms/step - loss: 0.5749 - accuracy: 0.7033 - val_loss: 0.6634 - val_accuracy: 0.6032\n",
      "Epoch 58/100\n",
      "313/313 [==============================] - 12s 40ms/step - loss: 0.5728 - accuracy: 0.7048 - val_loss: 0.6631 - val_accuracy: 0.6032\n",
      "Epoch 59/100\n",
      "313/313 [==============================] - 12s 40ms/step - loss: 0.5709 - accuracy: 0.7060 - val_loss: 0.6627 - val_accuracy: 0.6076\n"
     ]
    }
   ],
   "source": [
    "rmsprop = keras.optimizers.RMSprop(learning_rate=1e-4)\n",
    "model.compile(\n",
    "    optimizer=rmsprop,\n",
    "    loss = 'binary_crossentropy',\n",
    "    metrics = 'accuracy'\n",
    "    )\n",
    "\n",
    "checkpoint_cb = keras.callbacks.ModelCheckpoint(\"../Data/best-simplernn-model.h5\")\n",
    "early_stopping_cb = keras.callbacks.EarlyStopping(\n",
    "    patience=3,\n",
    "    restore_best_weights= True\n",
    ")\n",
    "\n",
    "history = model.fit(\n",
    "    train_oh,\n",
    "    train_target,\n",
    "    epochs=100,\n",
    "    batch_size=64, # mini batch 경사 하강법\n",
    "    validation_data = (val_oh, val_target),\n",
    "    callbacks = [checkpoint_cb, early_stopping_cb]\n",
    ")"
   ]
  },
  {
   "cell_type": "code",
   "execution_count": 22,
   "metadata": {},
   "outputs": [
    {
     "data": {
      "image/png": "[encoded data removed]",
      "text/plain": [
       "<Figure size 432x288 with 1 Axes>"
      ]
     },
     "metadata": {
      "needs_background": "light"
     },
     "output_type": "display_data"
    }
   ],
   "source": [
    "# 시각화 해보기 \n",
    "plt.plot(history.history['loss'])\n",
    "plt.plot(history.history['val_loss'])\n",
    "plt.xlabel('epoch')\n",
    "plt.ylabel('loss')\n",
    "plt.legend(['train','val'])\n",
    "plt.show()"
   ]
  },
  {
   "cell_type": "code",
   "execution_count": 23,
   "metadata": {},
   "outputs": [
    {
     "name": "stdout",
     "output_type": "stream",
     "text": [
      "157/157 [==============================] - 2s 15ms/step - loss: 0.6608 - accuracy: 0.6064\n"
     ]
    },
    {
     "data": {
      "text/plain": [
       "[0.6607856154441833, 0.6064000129699707]"
      ]
     },
     "execution_count": 23,
     "metadata": {},
     "output_type": "execute_result"
    }
   ],
   "source": [
    "model.evaluate(val_oh,val_target)"
   ]
  },
  {
   "cell_type": "markdown",
   "metadata": {},
   "source": [
    "---\n",
    "### LSTM(Long Short Term Memory) 신경망 모델 구성하기\n",
    "- 순환신경망의 셀로 이전 타입스텝의 샘플을 기억하고 있음"
   ]
  },
  {
   "cell_type": "code",
   "execution_count": 24,
   "metadata": {},
   "outputs": [],
   "source": [
    "model = keras.Sequential()\n",
    "model.add(keras.layers.Embedding(500,16, input_length=100)) # Embedding : One hot encoding\n",
    "model.add(keras.layers.LSTM(8)) # cell은 8개\n",
    "model.add(keras.layers.Dense(1,activation='sigmoid'))"
   ]
  },
  {
   "cell_type": "code",
   "execution_count": 25,
   "metadata": {},
   "outputs": [
    {
     "name": "stdout",
     "output_type": "stream",
     "text": [
      "Epoch 1/100\n",
      "313/313 [==============================] - 12s 30ms/step - loss: 0.6925 - accuracy: 0.5271 - val_loss: 0.6917 - val_accuracy: 0.5508\n",
      "Epoch 2/100\n",
      "313/313 [==============================] - 9s 29ms/step - loss: 0.6900 - accuracy: 0.5882 - val_loss: 0.6881 - val_accuracy: 0.6206\n",
      "Epoch 3/100\n",
      "313/313 [==============================] - 10s 31ms/step - loss: 0.6831 - accuracy: 0.6431 - val_loss: 0.6766 - val_accuracy: 0.6582\n",
      "Epoch 4/100\n",
      "313/313 [==============================] - 9s 30ms/step - loss: 0.6455 - accuracy: 0.6635 - val_loss: 0.6075 - val_accuracy: 0.7098\n",
      "Epoch 5/100\n",
      "313/313 [==============================] - 9s 30ms/step - loss: 0.5818 - accuracy: 0.7390 - val_loss: 0.5718 - val_accuracy: 0.7442\n",
      "Epoch 6/100\n",
      "313/313 [==============================] - 9s 30ms/step - loss: 0.5545 - accuracy: 0.7606 - val_loss: 0.5481 - val_accuracy: 0.7584\n",
      "Epoch 7/100\n",
      "313/313 [==============================] - 9s 30ms/step - loss: 0.5329 - accuracy: 0.7662 - val_loss: 0.5307 - val_accuracy: 0.7642\n",
      "Epoch 8/100\n",
      "313/313 [==============================] - 9s 30ms/step - loss: 0.5151 - accuracy: 0.7746 - val_loss: 0.5139 - val_accuracy: 0.7762\n",
      "Epoch 9/100\n",
      "313/313 [==============================] - 9s 30ms/step - loss: 0.4993 - accuracy: 0.7801 - val_loss: 0.4999 - val_accuracy: 0.7758\n",
      "Epoch 10/100\n",
      "313/313 [==============================] - 10s 31ms/step - loss: 0.4857 - accuracy: 0.7851 - val_loss: 0.4878 - val_accuracy: 0.7828\n",
      "Epoch 11/100\n",
      "313/313 [==============================] - 9s 30ms/step - loss: 0.4741 - accuracy: 0.7898 - val_loss: 0.4798 - val_accuracy: 0.7820\n",
      "Epoch 12/100\n",
      "313/313 [==============================] - 9s 30ms/step - loss: 0.4638 - accuracy: 0.7935 - val_loss: 0.4710 - val_accuracy: 0.7864\n",
      "Epoch 13/100\n",
      "313/313 [==============================] - 10s 31ms/step - loss: 0.4549 - accuracy: 0.7962 - val_loss: 0.4653 - val_accuracy: 0.7836\n",
      "Epoch 14/100\n",
      "313/313 [==============================] - 10s 31ms/step - loss: 0.4476 - accuracy: 0.8005 - val_loss: 0.4578 - val_accuracy: 0.7918\n",
      "Epoch 15/100\n",
      "313/313 [==============================] - 10s 30ms/step - loss: 0.4417 - accuracy: 0.8041 - val_loss: 0.4555 - val_accuracy: 0.7892\n",
      "Epoch 16/100\n",
      "313/313 [==============================] - 9s 30ms/step - loss: 0.4362 - accuracy: 0.8041 - val_loss: 0.4492 - val_accuracy: 0.7926\n",
      "Epoch 17/100\n",
      "313/313 [==============================] - 10s 31ms/step - loss: 0.4320 - accuracy: 0.8059 - val_loss: 0.4468 - val_accuracy: 0.7930\n",
      "Epoch 18/100\n",
      "313/313 [==============================] - 10s 30ms/step - loss: 0.4283 - accuracy: 0.8073 - val_loss: 0.4495 - val_accuracy: 0.7936\n",
      "Epoch 19/100\n",
      "313/313 [==============================] - 10s 30ms/step - loss: 0.4261 - accuracy: 0.8084 - val_loss: 0.4455 - val_accuracy: 0.7902\n",
      "Epoch 20/100\n",
      "313/313 [==============================] - 9s 30ms/step - loss: 0.4235 - accuracy: 0.8105 - val_loss: 0.4399 - val_accuracy: 0.7972\n",
      "Epoch 21/100\n",
      "313/313 [==============================] - 9s 30ms/step - loss: 0.4210 - accuracy: 0.8131 - val_loss: 0.4397 - val_accuracy: 0.7992\n",
      "Epoch 22/100\n",
      "313/313 [==============================] - 9s 30ms/step - loss: 0.4197 - accuracy: 0.8115 - val_loss: 0.4385 - val_accuracy: 0.7974\n",
      "Epoch 23/100\n",
      "313/313 [==============================] - 9s 30ms/step - loss: 0.4185 - accuracy: 0.8119 - val_loss: 0.4373 - val_accuracy: 0.7984\n",
      "Epoch 24/100\n",
      "313/313 [==============================] - 9s 30ms/step - loss: 0.4168 - accuracy: 0.8130 - val_loss: 0.4356 - val_accuracy: 0.8010\n",
      "Epoch 25/100\n",
      "313/313 [==============================] - 10s 31ms/step - loss: 0.4160 - accuracy: 0.8127 - val_loss: 0.4373 - val_accuracy: 0.7988\n",
      "Epoch 26/100\n",
      "313/313 [==============================] - 9s 30ms/step - loss: 0.4150 - accuracy: 0.8130 - val_loss: 0.4361 - val_accuracy: 0.7998\n",
      "Epoch 27/100\n",
      "313/313 [==============================] - 9s 30ms/step - loss: 0.4144 - accuracy: 0.8138 - val_loss: 0.4339 - val_accuracy: 0.7988\n",
      "Epoch 28/100\n",
      "313/313 [==============================] - 10s 31ms/step - loss: 0.4134 - accuracy: 0.8135 - val_loss: 0.4337 - val_accuracy: 0.7984\n",
      "Epoch 29/100\n",
      "313/313 [==============================] - 10s 30ms/step - loss: 0.4128 - accuracy: 0.8145 - val_loss: 0.4340 - val_accuracy: 0.7988\n",
      "Epoch 30/100\n",
      "313/313 [==============================] - 10s 30ms/step - loss: 0.4125 - accuracy: 0.8138 - val_loss: 0.4327 - val_accuracy: 0.8000\n",
      "Epoch 31/100\n",
      "313/313 [==============================] - 9s 30ms/step - loss: 0.4115 - accuracy: 0.8136 - val_loss: 0.4327 - val_accuracy: 0.7998\n",
      "Epoch 32/100\n",
      "313/313 [==============================] - 10s 31ms/step - loss: 0.4113 - accuracy: 0.8136 - val_loss: 0.4327 - val_accuracy: 0.8022\n",
      "Epoch 33/100\n",
      "313/313 [==============================] - 10s 30ms/step - loss: 0.4103 - accuracy: 0.8151 - val_loss: 0.4333 - val_accuracy: 0.8014\n",
      "Epoch 34/100\n",
      "313/313 [==============================] - 9s 30ms/step - loss: 0.4100 - accuracy: 0.8155 - val_loss: 0.4318 - val_accuracy: 0.8004\n",
      "Epoch 35/100\n",
      "313/313 [==============================] - 10s 31ms/step - loss: 0.4098 - accuracy: 0.8161 - val_loss: 0.4385 - val_accuracy: 0.8002\n",
      "Epoch 36/100\n",
      "313/313 [==============================] - 10s 30ms/step - loss: 0.4092 - accuracy: 0.8151 - val_loss: 0.4319 - val_accuracy: 0.8002\n",
      "Epoch 37/100\n",
      "313/313 [==============================] - 10s 31ms/step - loss: 0.4093 - accuracy: 0.8155 - val_loss: 0.4357 - val_accuracy: 0.8014\n"
     ]
    }
   ],
   "source": [
    "# 훈련하기\n",
    "\n",
    "rmsprop = keras.optimizers.RMSprop(learning_rate=1e-4)\n",
    "model.compile(\n",
    "    optimizer=rmsprop,\n",
    "    loss = 'binary_crossentropy',\n",
    "    metrics = 'accuracy'\n",
    "    )\n",
    "\n",
    "checkpoint_cb = keras.callbacks.ModelCheckpoint(\"../Data/best-lstm-model.h5\")\n",
    "early_stopping_cb = keras.callbacks.EarlyStopping(\n",
    "    patience=3,\n",
    "    restore_best_weights= True\n",
    ")\n",
    "\n",
    "history = model.fit(\n",
    "    train_seq,\n",
    "    train_target,\n",
    "    epochs=100,\n",
    "    batch_size=64, # mini batch 경사 하강법\n",
    "    validation_data = (val_seq, val_target),\n",
    "    callbacks = [checkpoint_cb, early_stopping_cb]\n",
    ")"
   ]
  },
  {
   "cell_type": "code",
   "execution_count": 26,
   "metadata": {},
   "outputs": [
    {
     "data": {
      "image/png": "[encoded data removed]",
      "text/plain": [
       "<Figure size 432x288 with 1 Axes>"
      ]
     },
     "metadata": {
      "needs_background": "light"
     },
     "output_type": "display_data"
    }
   ],
   "source": [
    "# 시각화 해보기 \n",
    "plt.plot(history.history['loss'])\n",
    "plt.plot(history.history['val_loss'])\n",
    "plt.xlabel('epoch')\n",
    "plt.ylabel('loss')\n",
    "plt.legend(['train','val'])\n",
    "plt.show()"
   ]
  },
  {
   "cell_type": "markdown",
   "metadata": {},
   "source": [
    "---\n",
    "# 순환층에 드롭아웃 적용하기\n"
   ]
  },
  {
   "cell_type": "code",
   "execution_count": 27,
   "metadata": {},
   "outputs": [],
   "source": [
    "model = keras.Sequential()\n",
    "model.add(keras.layers.Embedding(500,16, input_length=100)) # Embedding : One hot encoding\n",
    "model.add(keras.layers.LSTM(8,dropout=0.3)) # cell은 8개\n",
    "model.add(keras.layers.Dense(1,activation='sigmoid'))"
   ]
  },
  {
   "cell_type": "code",
   "execution_count": 28,
   "metadata": {},
   "outputs": [
    {
     "name": "stdout",
     "output_type": "stream",
     "text": [
      "Epoch 1/100\n",
      "313/313 [==============================] - 12s 32ms/step - loss: 0.6924 - accuracy: 0.5279 - val_loss: 0.6917 - val_accuracy: 0.5482\n",
      "Epoch 2/100\n",
      "313/313 [==============================] - 10s 31ms/step - loss: 0.6900 - accuracy: 0.5784 - val_loss: 0.6884 - val_accuracy: 0.5914\n",
      "Epoch 3/100\n",
      "313/313 [==============================] - 10s 30ms/step - loss: 0.6838 - accuracy: 0.6261 - val_loss: 0.6784 - val_accuracy: 0.6480\n",
      "Epoch 4/100\n",
      "313/313 [==============================] - 10s 31ms/step - loss: 0.6587 - accuracy: 0.6747 - val_loss: 0.6254 - val_accuracy: 0.7124\n",
      "Epoch 5/100\n",
      "313/313 [==============================] - 9s 30ms/step - loss: 0.5950 - accuracy: 0.7143 - val_loss: 0.5768 - val_accuracy: 0.7186\n",
      "Epoch 6/100\n",
      "313/313 [==============================] - 10s 31ms/step - loss: 0.5614 - accuracy: 0.7336 - val_loss: 0.5499 - val_accuracy: 0.7392\n",
      "Epoch 7/100\n",
      "313/313 [==============================] - 10s 30ms/step - loss: 0.5341 - accuracy: 0.7532 - val_loss: 0.5266 - val_accuracy: 0.7506\n",
      "Epoch 8/100\n",
      "313/313 [==============================] - 9s 30ms/step - loss: 0.5120 - accuracy: 0.7666 - val_loss: 0.5059 - val_accuracy: 0.7652\n",
      "Epoch 9/100\n",
      "313/313 [==============================] - 10s 32ms/step - loss: 0.4939 - accuracy: 0.7773 - val_loss: 0.4900 - val_accuracy: 0.7762\n",
      "Epoch 10/100\n",
      "313/313 [==============================] - 10s 31ms/step - loss: 0.4803 - accuracy: 0.7824 - val_loss: 0.4784 - val_accuracy: 0.7804\n",
      "Epoch 11/100\n",
      "313/313 [==============================] - 10s 31ms/step - loss: 0.4700 - accuracy: 0.7890 - val_loss: 0.4690 - val_accuracy: 0.7858\n",
      "Epoch 12/100\n",
      "313/313 [==============================] - 10s 31ms/step - loss: 0.4621 - accuracy: 0.7898 - val_loss: 0.4617 - val_accuracy: 0.7888\n",
      "Epoch 13/100\n",
      "313/313 [==============================] - 9s 30ms/step - loss: 0.4552 - accuracy: 0.7952 - val_loss: 0.4605 - val_accuracy: 0.7894\n",
      "Epoch 14/100\n",
      "313/313 [==============================] - 10s 31ms/step - loss: 0.4510 - accuracy: 0.7965 - val_loss: 0.4525 - val_accuracy: 0.7936\n",
      "Epoch 15/100\n",
      "313/313 [==============================] - 10s 31ms/step - loss: 0.4452 - accuracy: 0.7997 - val_loss: 0.4502 - val_accuracy: 0.7948\n",
      "Epoch 16/100\n",
      "313/313 [==============================] - 10s 32ms/step - loss: 0.4427 - accuracy: 0.7972 - val_loss: 0.4484 - val_accuracy: 0.7944\n",
      "Epoch 17/100\n",
      "313/313 [==============================] - 10s 31ms/step - loss: 0.4369 - accuracy: 0.8019 - val_loss: 0.4462 - val_accuracy: 0.7962\n",
      "Epoch 18/100\n",
      "313/313 [==============================] - 10s 31ms/step - loss: 0.4374 - accuracy: 0.8040 - val_loss: 0.4433 - val_accuracy: 0.7968\n",
      "Epoch 19/100\n",
      "313/313 [==============================] - 10s 32ms/step - loss: 0.4306 - accuracy: 0.8059 - val_loss: 0.4412 - val_accuracy: 0.7982\n",
      "Epoch 20/100\n",
      "313/313 [==============================] - 9s 30ms/step - loss: 0.4324 - accuracy: 0.8045 - val_loss: 0.4406 - val_accuracy: 0.7970\n",
      "Epoch 21/100\n",
      "313/313 [==============================] - 10s 32ms/step - loss: 0.4296 - accuracy: 0.8040 - val_loss: 0.4379 - val_accuracy: 0.7960\n",
      "Epoch 22/100\n",
      "313/313 [==============================] - 10s 31ms/step - loss: 0.4269 - accuracy: 0.8081 - val_loss: 0.4364 - val_accuracy: 0.7980\n",
      "Epoch 23/100\n",
      "313/313 [==============================] - 10s 33ms/step - loss: 0.4260 - accuracy: 0.8078 - val_loss: 0.4390 - val_accuracy: 0.7930\n",
      "Epoch 24/100\n",
      "313/313 [==============================] - 10s 31ms/step - loss: 0.4234 - accuracy: 0.8077 - val_loss: 0.4350 - val_accuracy: 0.8006\n",
      "Epoch 25/100\n",
      "313/313 [==============================] - 9s 29ms/step - loss: 0.4229 - accuracy: 0.8091 - val_loss: 0.4343 - val_accuracy: 0.8028\n",
      "Epoch 26/100\n",
      "313/313 [==============================] - 9s 30ms/step - loss: 0.4224 - accuracy: 0.8069 - val_loss: 0.4324 - val_accuracy: 0.7992\n",
      "Epoch 27/100\n",
      "313/313 [==============================] - 10s 31ms/step - loss: 0.4200 - accuracy: 0.8086 - val_loss: 0.4348 - val_accuracy: 0.8024\n",
      "Epoch 28/100\n",
      "313/313 [==============================] - 10s 31ms/step - loss: 0.4186 - accuracy: 0.8109 - val_loss: 0.4322 - val_accuracy: 0.8036\n",
      "Epoch 29/100\n",
      "313/313 [==============================] - 10s 31ms/step - loss: 0.4207 - accuracy: 0.8091 - val_loss: 0.4300 - val_accuracy: 0.8012\n",
      "Epoch 30/100\n",
      "313/313 [==============================] - 10s 31ms/step - loss: 0.4179 - accuracy: 0.8100 - val_loss: 0.4303 - val_accuracy: 0.8014\n",
      "Epoch 31/100\n",
      "313/313 [==============================] - 10s 32ms/step - loss: 0.4150 - accuracy: 0.8112 - val_loss: 0.4340 - val_accuracy: 0.8032\n",
      "Epoch 32/100\n",
      "313/313 [==============================] - 10s 31ms/step - loss: 0.4155 - accuracy: 0.8102 - val_loss: 0.4289 - val_accuracy: 0.8000\n",
      "Epoch 33/100\n",
      "313/313 [==============================] - 10s 32ms/step - loss: 0.4148 - accuracy: 0.8137 - val_loss: 0.4282 - val_accuracy: 0.8026\n",
      "Epoch 34/100\n",
      "313/313 [==============================] - 10s 32ms/step - loss: 0.4148 - accuracy: 0.8095 - val_loss: 0.4294 - val_accuracy: 0.8042\n",
      "Epoch 35/100\n",
      "313/313 [==============================] - 10s 33ms/step - loss: 0.4140 - accuracy: 0.8117 - val_loss: 0.4285 - val_accuracy: 0.8042\n",
      "Epoch 36/100\n",
      "313/313 [==============================] - 10s 32ms/step - loss: 0.4115 - accuracy: 0.8134 - val_loss: 0.4269 - val_accuracy: 0.8030\n",
      "Epoch 37/100\n",
      "313/313 [==============================] - 10s 31ms/step - loss: 0.4109 - accuracy: 0.8130 - val_loss: 0.4284 - val_accuracy: 0.8052\n",
      "Epoch 38/100\n",
      "313/313 [==============================] - 12s 40ms/step - loss: 0.4100 - accuracy: 0.8112 - val_loss: 0.4269 - val_accuracy: 0.8014\n",
      "Epoch 39/100\n",
      "313/313 [==============================] - 10s 31ms/step - loss: 0.4112 - accuracy: 0.8126 - val_loss: 0.4261 - val_accuracy: 0.8064\n",
      "Epoch 40/100\n",
      "313/313 [==============================] - 10s 31ms/step - loss: 0.4088 - accuracy: 0.8148 - val_loss: 0.4255 - val_accuracy: 0.8060\n",
      "Epoch 41/100\n",
      "313/313 [==============================] - 10s 31ms/step - loss: 0.4088 - accuracy: 0.8130 - val_loss: 0.4282 - val_accuracy: 0.8074\n",
      "Epoch 42/100\n",
      "313/313 [==============================] - 10s 31ms/step - loss: 0.4094 - accuracy: 0.8123 - val_loss: 0.4261 - val_accuracy: 0.8066\n",
      "Epoch 43/100\n",
      "313/313 [==============================] - 10s 31ms/step - loss: 0.4071 - accuracy: 0.8130 - val_loss: 0.4316 - val_accuracy: 0.8078\n"
     ]
    }
   ],
   "source": [
    "# 훈련하기\n",
    "\n",
    "rmsprop = keras.optimizers.RMSprop(learning_rate=1e-4)\n",
    "model.compile(\n",
    "    optimizer=rmsprop,\n",
    "    loss = 'binary_crossentropy',\n",
    "    metrics = 'accuracy'\n",
    "    )\n",
    "\n",
    "checkpoint_cb = keras.callbacks.ModelCheckpoint(\"../Data/best-drop-model.h5\")\n",
    "early_stopping_cb = keras.callbacks.EarlyStopping(\n",
    "    patience=3,\n",
    "    restore_best_weights= True\n",
    ")\n",
    "\n",
    "history = model.fit(\n",
    "    train_seq,\n",
    "    train_target,\n",
    "    epochs=100,\n",
    "    batch_size=64, # mini batch 경사 하강법\n",
    "    validation_data = (val_seq, val_target),\n",
    "    callbacks = [checkpoint_cb, early_stopping_cb]\n",
    ")"
   ]
  },
  {
   "cell_type": "code",
   "execution_count": 29,
   "metadata": {},
   "outputs": [
    {
     "data": {
      "image/png": "[encoded data removed]",
      "text/plain": [
       "<Figure size 432x288 with 1 Axes>"
      ]
     },
     "metadata": {
      "needs_background": "light"
     },
     "output_type": "display_data"
    }
   ],
   "source": [
    "# 시각화 해보기 \n",
    "plt.plot(history.history['loss'])\n",
    "plt.plot(history.history['val_loss'])\n",
    "plt.xlabel('epoch')\n",
    "plt.ylabel('loss')\n",
    "plt.legend(['train','val'])\n",
    "plt.show()"
   ]
  },
  {
   "cell_type": "markdown",
   "metadata": {},
   "source": [
    "---\n",
    "# 두 개의 층을 연결하기"
   ]
  },
  {
   "cell_type": "code",
   "execution_count": 30,
   "metadata": {},
   "outputs": [
    {
     "name": "stdout",
     "output_type": "stream",
     "text": [
      "Model: \"sequential_3\"\n",
      "_________________________________________________________________\n",
      " Layer (type)                Output Shape              Param #   \n",
      "=================================================================\n",
      " embedding_2 (Embedding)     (None, 100, 16)           8000      \n",
      "                                                                 \n",
      " lstm_2 (LSTM)               (None, 100, 8)            800       \n",
      "                                                                 \n",
      " lstm_3 (LSTM)               (None, 8)                 544       \n",
      "                                                                 \n",
      " dense_3 (Dense)             (None, 1)                 9         \n",
      "                                                                 \n",
      "=================================================================\n",
      "Total params: 9,353\n",
      "Trainable params: 9,353\n",
      "Non-trainable params: 0\n",
      "_________________________________________________________________\n"
     ]
    }
   ],
   "source": [
    "model = keras.Sequential()\n",
    "\n",
    "model.add(keras.layers.Embedding(500,16, input_length=100)) # Embedding : One hot encoding\n",
    "model.add(keras.layers.LSTM(8,dropout=0.3,return_sequences=True)) # cell은 8개\n",
    "model.add(keras.layers.LSTM(8,dropout=0.3)) # 모든 타입스텝의 은닉상태를 출력하려면 retrun_sequence=True하여야한다.\n",
    "model.add(keras.layers.Dense(1,activation='sigmoid'))\n",
    "\n",
    "model.summary()"
   ]
  },
  {
   "cell_type": "code",
   "execution_count": 31,
   "metadata": {},
   "outputs": [
    {
     "name": "stdout",
     "output_type": "stream",
     "text": [
      "Epoch 1/100\n",
      "313/313 [==============================] - 26s 66ms/step - loss: 0.6925 - accuracy: 0.5365 - val_loss: 0.6920 - val_accuracy: 0.5322\n",
      "Epoch 2/100\n",
      "313/313 [==============================] - 19s 62ms/step - loss: 0.6892 - accuracy: 0.5901 - val_loss: 0.6857 - val_accuracy: 0.6344\n",
      "Epoch 3/100\n",
      "313/313 [==============================] - 20s 63ms/step - loss: 0.6749 - accuracy: 0.6521 - val_loss: 0.6601 - val_accuracy: 0.6748\n",
      "Epoch 4/100\n",
      "313/313 [==============================] - 20s 62ms/step - loss: 0.6224 - accuracy: 0.6930 - val_loss: 0.5779 - val_accuracy: 0.7200\n",
      "Epoch 5/100\n",
      "313/313 [==============================] - 20s 63ms/step - loss: 0.5505 - accuracy: 0.7280 - val_loss: 0.5316 - val_accuracy: 0.7426\n",
      "Epoch 6/100\n",
      "313/313 [==============================] - 20s 63ms/step - loss: 0.5204 - accuracy: 0.7497 - val_loss: 0.5070 - val_accuracy: 0.7560\n",
      "Epoch 7/100\n",
      "313/313 [==============================] - 20s 65ms/step - loss: 0.5010 - accuracy: 0.7630 - val_loss: 0.4924 - val_accuracy: 0.7652\n",
      "Epoch 8/100\n",
      "313/313 [==============================] - 20s 63ms/step - loss: 0.4891 - accuracy: 0.7693 - val_loss: 0.4850 - val_accuracy: 0.7702\n",
      "Epoch 9/100\n",
      "313/313 [==============================] - 20s 63ms/step - loss: 0.4793 - accuracy: 0.7760 - val_loss: 0.4714 - val_accuracy: 0.7806\n",
      "Epoch 10/100\n",
      "313/313 [==============================] - 20s 64ms/step - loss: 0.4692 - accuracy: 0.7837 - val_loss: 0.4685 - val_accuracy: 0.7774\n",
      "Epoch 11/100\n",
      "313/313 [==============================] - 20s 63ms/step - loss: 0.4640 - accuracy: 0.7854 - val_loss: 0.4583 - val_accuracy: 0.7890\n",
      "Epoch 12/100\n",
      "313/313 [==============================] - 20s 63ms/step - loss: 0.4544 - accuracy: 0.7924 - val_loss: 0.4567 - val_accuracy: 0.7846\n",
      "Epoch 13/100\n",
      "313/313 [==============================] - 20s 63ms/step - loss: 0.4536 - accuracy: 0.7922 - val_loss: 0.4540 - val_accuracy: 0.7844\n",
      "Epoch 14/100\n",
      "313/313 [==============================] - 20s 64ms/step - loss: 0.4495 - accuracy: 0.7943 - val_loss: 0.4542 - val_accuracy: 0.7824\n",
      "Epoch 15/100\n",
      "313/313 [==============================] - 20s 63ms/step - loss: 0.4450 - accuracy: 0.7944 - val_loss: 0.4468 - val_accuracy: 0.7896\n",
      "Epoch 16/100\n",
      "313/313 [==============================] - 20s 64ms/step - loss: 0.4453 - accuracy: 0.7947 - val_loss: 0.4452 - val_accuracy: 0.7930\n",
      "Epoch 17/100\n",
      "313/313 [==============================] - 20s 64ms/step - loss: 0.4443 - accuracy: 0.7969 - val_loss: 0.4498 - val_accuracy: 0.7934\n",
      "Epoch 18/100\n",
      "313/313 [==============================] - 20s 64ms/step - loss: 0.4411 - accuracy: 0.7974 - val_loss: 0.4450 - val_accuracy: 0.7934\n",
      "Epoch 19/100\n",
      "313/313 [==============================] - 20s 63ms/step - loss: 0.4394 - accuracy: 0.7988 - val_loss: 0.4452 - val_accuracy: 0.7964\n",
      "Epoch 20/100\n",
      "313/313 [==============================] - 20s 63ms/step - loss: 0.4370 - accuracy: 0.7988 - val_loss: 0.4405 - val_accuracy: 0.7972\n",
      "Epoch 21/100\n",
      "313/313 [==============================] - 20s 63ms/step - loss: 0.4366 - accuracy: 0.8001 - val_loss: 0.4400 - val_accuracy: 0.7928\n",
      "Epoch 22/100\n",
      "313/313 [==============================] - 19s 62ms/step - loss: 0.4355 - accuracy: 0.8021 - val_loss: 0.4399 - val_accuracy: 0.7912\n",
      "Epoch 23/100\n",
      "313/313 [==============================] - 20s 62ms/step - loss: 0.4353 - accuracy: 0.7983 - val_loss: 0.4385 - val_accuracy: 0.7930\n",
      "Epoch 24/100\n",
      "313/313 [==============================] - 20s 64ms/step - loss: 0.4349 - accuracy: 0.8006 - val_loss: 0.4395 - val_accuracy: 0.7968\n",
      "Epoch 25/100\n",
      "313/313 [==============================] - 19s 62ms/step - loss: 0.4320 - accuracy: 0.8022 - val_loss: 0.4373 - val_accuracy: 0.7962\n",
      "Epoch 26/100\n",
      "313/313 [==============================] - 20s 63ms/step - loss: 0.4316 - accuracy: 0.8027 - val_loss: 0.4391 - val_accuracy: 0.7988\n",
      "Epoch 27/100\n",
      "313/313 [==============================] - 19s 62ms/step - loss: 0.4295 - accuracy: 0.8023 - val_loss: 0.4383 - val_accuracy: 0.7990\n",
      "Epoch 28/100\n",
      "313/313 [==============================] - 20s 62ms/step - loss: 0.4289 - accuracy: 0.8039 - val_loss: 0.4376 - val_accuracy: 0.7944\n"
     ]
    }
   ],
   "source": [
    "# 훈련하기\n",
    "\n",
    "rmsprop = keras.optimizers.RMSprop(learning_rate=1e-4)\n",
    "model.compile(\n",
    "    optimizer=rmsprop,\n",
    "    loss = 'binary_crossentropy',\n",
    "    metrics = 'accuracy'\n",
    "    )\n",
    "\n",
    "checkpoint_cb = keras.callbacks.ModelCheckpoint(\"../Data/best-2rnn-model.h5\")\n",
    "early_stopping_cb = keras.callbacks.EarlyStopping(\n",
    "    patience=3,\n",
    "    restore_best_weights= True\n",
    ")\n",
    "\n",
    "history = model.fit(\n",
    "    train_seq,\n",
    "    train_target,\n",
    "    epochs=100,\n",
    "    batch_size=64, # mini batch 경사 하강법\n",
    "    validation_data = (val_seq, val_target),\n",
    "    callbacks = [checkpoint_cb, early_stopping_cb]\n",
    ")"
   ]
  },
  {
   "cell_type": "code",
   "execution_count": 32,
   "metadata": {},
   "outputs": [
    {
     "data": {
      "image/png": "[encoded data removed]",
      "text/plain": [
       "<Figure size 432x288 with 1 Axes>"
      ]
     },
     "metadata": {
      "needs_background": "light"
     },
     "output_type": "display_data"
    }
   ],
   "source": [
    "# 시각화 해보기 \n",
    "plt.plot(history.history['loss'])\n",
    "plt.plot(history.history['val_loss'])\n",
    "plt.xlabel('epoch')\n",
    "plt.ylabel('loss')\n",
    "plt.legend(['train','val'])\n",
    "plt.show()"
   ]
  },
  {
   "cell_type": "markdown",
   "metadata": {},
   "source": [
    "---\n",
    "### GRU(Gated Recurrent Unit) 신경망\n",
    "- LSTM의 간소화 버전"
   ]
  },
  {
   "cell_type": "code",
   "execution_count": 33,
   "metadata": {},
   "outputs": [
    {
     "name": "stdout",
     "output_type": "stream",
     "text": [
      "Model: \"sequential_4\"\n",
      "_________________________________________________________________\n",
      " Layer (type)                Output Shape              Param #   \n",
      "=================================================================\n",
      " embedding_3 (Embedding)     (None, 100, 16)           8000      \n",
      "                                                                 \n",
      " gru (GRU)                   (None, 8)                 624       \n",
      "                                                                 \n",
      " dense_4 (Dense)             (None, 1)                 9         \n",
      "                                                                 \n",
      "=================================================================\n",
      "Total params: 8,633\n",
      "Trainable params: 8,633\n",
      "Non-trainable params: 0\n",
      "_________________________________________________________________\n"
     ]
    }
   ],
   "source": [
    "model = keras.Sequential()\n",
    "\n",
    "model.add(keras.layers.Embedding(500,16, input_length=100)) # Embedding : One hot encoding\n",
    "model.add(keras.layers.GRU(8)) # 자동으로 dropout을 함 \n",
    "model.add(keras.layers.Dense(1,activation='sigmoid'))\n",
    "\n",
    "model.summary()"
   ]
  },
  {
   "cell_type": "code",
   "execution_count": 34,
   "metadata": {},
   "outputs": [
    {
     "name": "stdout",
     "output_type": "stream",
     "text": [
      "Epoch 1/100\n",
      "313/313 [==============================] - 13s 35ms/step - loss: 0.6928 - accuracy: 0.5153 - val_loss: 0.6920 - val_accuracy: 0.5408\n",
      "Epoch 2/100\n",
      "313/313 [==============================] - 10s 33ms/step - loss: 0.6901 - accuracy: 0.5692 - val_loss: 0.6893 - val_accuracy: 0.5658\n",
      "Epoch 3/100\n",
      "313/313 [==============================] - 11s 34ms/step - loss: 0.6862 - accuracy: 0.5993 - val_loss: 0.6848 - val_accuracy: 0.5930\n",
      "Epoch 4/100\n",
      "313/313 [==============================] - 10s 33ms/step - loss: 0.6802 - accuracy: 0.6151 - val_loss: 0.6781 - val_accuracy: 0.6146\n",
      "Epoch 5/100\n",
      "313/313 [==============================] - 11s 35ms/step - loss: 0.6713 - accuracy: 0.6309 - val_loss: 0.6682 - val_accuracy: 0.6306\n",
      "Epoch 6/100\n",
      "313/313 [==============================] - 10s 33ms/step - loss: 0.6582 - accuracy: 0.6428 - val_loss: 0.6542 - val_accuracy: 0.6424\n",
      "Epoch 7/100\n",
      "313/313 [==============================] - 11s 36ms/step - loss: 0.6397 - accuracy: 0.6567 - val_loss: 0.6339 - val_accuracy: 0.6574\n",
      "Epoch 8/100\n",
      "313/313 [==============================] - 11s 35ms/step - loss: 0.6126 - accuracy: 0.6780 - val_loss: 0.6047 - val_accuracy: 0.6878\n",
      "Epoch 9/100\n",
      "313/313 [==============================] - 10s 33ms/step - loss: 0.5701 - accuracy: 0.7096 - val_loss: 0.5536 - val_accuracy: 0.7240\n",
      "Epoch 10/100\n",
      "313/313 [==============================] - 10s 33ms/step - loss: 0.5160 - accuracy: 0.7469 - val_loss: 0.5107 - val_accuracy: 0.7544\n",
      "Epoch 11/100\n",
      "313/313 [==============================] - 10s 32ms/step - loss: 0.4908 - accuracy: 0.7649 - val_loss: 0.4984 - val_accuracy: 0.7586\n",
      "Epoch 12/100\n",
      "313/313 [==============================] - 10s 33ms/step - loss: 0.4762 - accuracy: 0.7754 - val_loss: 0.4891 - val_accuracy: 0.7704\n",
      "Epoch 13/100\n",
      "313/313 [==============================] - 11s 34ms/step - loss: 0.4657 - accuracy: 0.7828 - val_loss: 0.4741 - val_accuracy: 0.7754\n",
      "Epoch 14/100\n",
      "313/313 [==============================] - 10s 33ms/step - loss: 0.4572 - accuracy: 0.7880 - val_loss: 0.4669 - val_accuracy: 0.7802\n",
      "Epoch 15/100\n",
      "313/313 [==============================] - 10s 33ms/step - loss: 0.4505 - accuracy: 0.7931 - val_loss: 0.4623 - val_accuracy: 0.7850\n",
      "Epoch 16/100\n",
      "313/313 [==============================] - 10s 32ms/step - loss: 0.4452 - accuracy: 0.7959 - val_loss: 0.4589 - val_accuracy: 0.7876\n",
      "Epoch 17/100\n",
      "313/313 [==============================] - 10s 33ms/step - loss: 0.4407 - accuracy: 0.8007 - val_loss: 0.4545 - val_accuracy: 0.7884\n",
      "Epoch 18/100\n",
      "313/313 [==============================] - 10s 33ms/step - loss: 0.4368 - accuracy: 0.8013 - val_loss: 0.4519 - val_accuracy: 0.7908\n",
      "Epoch 19/100\n",
      "313/313 [==============================] - 10s 33ms/step - loss: 0.4334 - accuracy: 0.8047 - val_loss: 0.4503 - val_accuracy: 0.7920\n",
      "Epoch 20/100\n",
      "313/313 [==============================] - 11s 34ms/step - loss: 0.4307 - accuracy: 0.8062 - val_loss: 0.4523 - val_accuracy: 0.7942\n",
      "Epoch 21/100\n",
      "313/313 [==============================] - 10s 33ms/step - loss: 0.4282 - accuracy: 0.8066 - val_loss: 0.4490 - val_accuracy: 0.7956\n",
      "Epoch 22/100\n",
      "313/313 [==============================] - 10s 33ms/step - loss: 0.4262 - accuracy: 0.8082 - val_loss: 0.4471 - val_accuracy: 0.7924\n",
      "Epoch 23/100\n",
      "313/313 [==============================] - 10s 33ms/step - loss: 0.4247 - accuracy: 0.8097 - val_loss: 0.4480 - val_accuracy: 0.7946\n",
      "Epoch 24/100\n",
      "313/313 [==============================] - 10s 33ms/step - loss: 0.4233 - accuracy: 0.8112 - val_loss: 0.4467 - val_accuracy: 0.7926\n",
      "Epoch 25/100\n",
      "313/313 [==============================] - 10s 33ms/step - loss: 0.4217 - accuracy: 0.8133 - val_loss: 0.4457 - val_accuracy: 0.7918\n",
      "Epoch 26/100\n",
      "313/313 [==============================] - 10s 32ms/step - loss: 0.4209 - accuracy: 0.8123 - val_loss: 0.4453 - val_accuracy: 0.7922\n",
      "Epoch 27/100\n",
      "313/313 [==============================] - 11s 34ms/step - loss: 0.4201 - accuracy: 0.8127 - val_loss: 0.4473 - val_accuracy: 0.7918\n",
      "Epoch 28/100\n",
      "313/313 [==============================] - 10s 33ms/step - loss: 0.4190 - accuracy: 0.8138 - val_loss: 0.4443 - val_accuracy: 0.7938\n",
      "Epoch 29/100\n",
      "313/313 [==============================] - 10s 33ms/step - loss: 0.4180 - accuracy: 0.8133 - val_loss: 0.4488 - val_accuracy: 0.7926\n",
      "Epoch 30/100\n",
      "313/313 [==============================] - 10s 33ms/step - loss: 0.4176 - accuracy: 0.8147 - val_loss: 0.4429 - val_accuracy: 0.7938\n",
      "Epoch 31/100\n",
      "313/313 [==============================] - 10s 33ms/step - loss: 0.4167 - accuracy: 0.8138 - val_loss: 0.4491 - val_accuracy: 0.7892\n",
      "Epoch 32/100\n",
      "313/313 [==============================] - 10s 32ms/step - loss: 0.4165 - accuracy: 0.8148 - val_loss: 0.4425 - val_accuracy: 0.7936\n",
      "Epoch 33/100\n",
      "313/313 [==============================] - 10s 33ms/step - loss: 0.4161 - accuracy: 0.8149 - val_loss: 0.4432 - val_accuracy: 0.7960\n",
      "Epoch 34/100\n",
      "313/313 [==============================] - 11s 34ms/step - loss: 0.4152 - accuracy: 0.8146 - val_loss: 0.4434 - val_accuracy: 0.7906\n",
      "Epoch 35/100\n",
      "313/313 [==============================] - 10s 33ms/step - loss: 0.4146 - accuracy: 0.8140 - val_loss: 0.4409 - val_accuracy: 0.7948\n",
      "Epoch 36/100\n",
      "313/313 [==============================] - 10s 33ms/step - loss: 0.4145 - accuracy: 0.8177 - val_loss: 0.4418 - val_accuracy: 0.7944\n",
      "Epoch 37/100\n",
      "313/313 [==============================] - 10s 33ms/step - loss: 0.4139 - accuracy: 0.8156 - val_loss: 0.4432 - val_accuracy: 0.7920\n",
      "Epoch 38/100\n",
      "313/313 [==============================] - 10s 33ms/step - loss: 0.4130 - accuracy: 0.8165 - val_loss: 0.4395 - val_accuracy: 0.7944\n",
      "Epoch 39/100\n",
      "313/313 [==============================] - 10s 33ms/step - loss: 0.4131 - accuracy: 0.8151 - val_loss: 0.4398 - val_accuracy: 0.7948\n",
      "Epoch 40/100\n",
      "313/313 [==============================] - 10s 33ms/step - loss: 0.4130 - accuracy: 0.8160 - val_loss: 0.4390 - val_accuracy: 0.7952\n",
      "Epoch 41/100\n",
      "313/313 [==============================] - 10s 33ms/step - loss: 0.4123 - accuracy: 0.8169 - val_loss: 0.4421 - val_accuracy: 0.7962\n",
      "Epoch 42/100\n",
      "313/313 [==============================] - 10s 33ms/step - loss: 0.4120 - accuracy: 0.8160 - val_loss: 0.4376 - val_accuracy: 0.7966\n",
      "Epoch 43/100\n",
      "313/313 [==============================] - 10s 33ms/step - loss: 0.4118 - accuracy: 0.8166 - val_loss: 0.4379 - val_accuracy: 0.7982\n",
      "Epoch 44/100\n",
      "313/313 [==============================] - 10s 32ms/step - loss: 0.4112 - accuracy: 0.8173 - val_loss: 0.4402 - val_accuracy: 0.7956\n",
      "Epoch 45/100\n",
      "313/313 [==============================] - 10s 33ms/step - loss: 0.4111 - accuracy: 0.8164 - val_loss: 0.4374 - val_accuracy: 0.7976\n",
      "Epoch 46/100\n",
      "313/313 [==============================] - 10s 33ms/step - loss: 0.4106 - accuracy: 0.8174 - val_loss: 0.4377 - val_accuracy: 0.7986\n",
      "Epoch 47/100\n",
      "313/313 [==============================] - 11s 34ms/step - loss: 0.4102 - accuracy: 0.8166 - val_loss: 0.4367 - val_accuracy: 0.7982\n",
      "Epoch 48/100\n",
      "313/313 [==============================] - 10s 33ms/step - loss: 0.4100 - accuracy: 0.8174 - val_loss: 0.4354 - val_accuracy: 0.7990\n",
      "Epoch 49/100\n",
      "313/313 [==============================] - 10s 33ms/step - loss: 0.4096 - accuracy: 0.8184 - val_loss: 0.4357 - val_accuracy: 0.7994\n",
      "Epoch 50/100\n",
      "313/313 [==============================] - 10s 33ms/step - loss: 0.4091 - accuracy: 0.8175 - val_loss: 0.4351 - val_accuracy: 0.8016\n",
      "Epoch 51/100\n",
      "313/313 [==============================] - 10s 33ms/step - loss: 0.4088 - accuracy: 0.8183 - val_loss: 0.4350 - val_accuracy: 0.7992\n",
      "Epoch 52/100\n",
      "313/313 [==============================] - 10s 33ms/step - loss: 0.4085 - accuracy: 0.8174 - val_loss: 0.4349 - val_accuracy: 0.7996\n",
      "Epoch 53/100\n",
      "313/313 [==============================] - 10s 33ms/step - loss: 0.4082 - accuracy: 0.8180 - val_loss: 0.4346 - val_accuracy: 0.7996\n",
      "Epoch 54/100\n",
      "313/313 [==============================] - 11s 34ms/step - loss: 0.4080 - accuracy: 0.8170 - val_loss: 0.4338 - val_accuracy: 0.8014\n",
      "Epoch 55/100\n",
      "313/313 [==============================] - 10s 33ms/step - loss: 0.4082 - accuracy: 0.8156 - val_loss: 0.4347 - val_accuracy: 0.7982\n",
      "Epoch 56/100\n",
      "313/313 [==============================] - 10s 33ms/step - loss: 0.4075 - accuracy: 0.8173 - val_loss: 0.4370 - val_accuracy: 0.7998\n",
      "Epoch 57/100\n",
      "313/313 [==============================] - 10s 33ms/step - loss: 0.4070 - accuracy: 0.8193 - val_loss: 0.4354 - val_accuracy: 0.7948\n"
     ]
    }
   ],
   "source": [
    "# 훈련하기\n",
    "\n",
    "rmsprop = keras.optimizers.RMSprop(learning_rate=1e-4)\n",
    "model.compile(\n",
    "    optimizer=rmsprop,\n",
    "    loss = 'binary_crossentropy',\n",
    "    metrics = 'accuracy'\n",
    "    )\n",
    "\n",
    "checkpoint_cb = keras.callbacks.ModelCheckpoint(\"../Data/best-gru-model.h5\")\n",
    "early_stopping_cb = keras.callbacks.EarlyStopping(\n",
    "    patience=3,\n",
    "    restore_best_weights= True\n",
    ")\n",
    "\n",
    "history = model.fit(\n",
    "    train_seq,\n",
    "    train_target,\n",
    "    epochs=100,\n",
    "    batch_size=64, # mini batch 경사 하강법\n",
    "    validation_data = (val_seq, val_target),\n",
    "    callbacks = [checkpoint_cb, early_stopping_cb]\n",
    ")"
   ]
  },
  {
   "cell_type": "code",
   "execution_count": 35,
   "metadata": {},
   "outputs": [
    {
     "data": {
      "image/png": "[encoded data removed]",
      "text/plain": [
       "<Figure size 432x288 with 1 Axes>"
      ]
     },
     "metadata": {
      "needs_background": "light"
     },
     "output_type": "display_data"
    }
   ],
   "source": [
    "# 시각화 해보기 \n",
    "plt.plot(history.history['loss'])\n",
    "plt.plot(history.history['val_loss'])\n",
    "plt.xlabel('epoch')\n",
    "plt.ylabel('loss')\n",
    "plt.legend(['train','val'])\n",
    "plt.show()"
   ]
  },
  {
   "cell_type": "code",
   "execution_count": null,
   "metadata": {},
   "outputs": [],
   "source": []
  }
 ],
 "metadata": {
  "kernelspec": {
   "display_name": "Python 3.9.7 ('base')",
   "language": "python",
   "name": "python3"
  },
  "language_info": {
   "codemirror_mode": {
    "name": "ipython",
    "version": 3
   },
   "file_extension": ".py",
   "mimetype": "text/x-python",
   "name": "python",
   "nbconvert_exporter": "python",
   "pygments_lexer": "ipython3",
   "version": "3.9.7"
  },
  "orig_nbformat": 4,
  "vscode": {
   "interpreter": {
    "hash": "c34e8390e776d2ee205b71ed5a6130fee3cef8da5e87e926ce18e14f4a070d72"
   }
  }
 },
 "nbformat": 4,
 "nbformat_minor": 2
}

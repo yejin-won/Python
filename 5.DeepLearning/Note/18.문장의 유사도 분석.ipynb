{
 "cells": [
  {
   "cell_type": "markdown",
   "metadata": {},
   "source": [
    "### 문장의 유사도 분석\n",
    ": 두 개의 문장이 비슷한 것인지 또는 관련이 있는 것인지 분석    \n",
    " - 레벤슈터인 거리   \n",
    " - N-gram     "
   ]
  },
  {
   "cell_type": "markdown",
   "metadata": {},
   "source": [
    "---\n",
    "### 레벤슈타인 거리(Lvenshtein distance)\n",
    "- 두 개의 문자열이 어느 정도 다르지를 나타내는 것으로 편집거리(Edit Distance)라고도 부른다\n",
    "- 의학 분야에서는 DNA배열의 유사성을 판단할때도 사용."
   ]
  },
  {
   "cell_type": "code",
   "execution_count": 1,
   "metadata": {},
   "outputs": [],
   "source": [
    "from lvenshtein import Lvenshtein\n",
    "lv = Lvenshtein()"
   ]
  },
  {
   "cell_type": "code",
   "execution_count": 2,
   "metadata": {},
   "outputs": [
    {
     "name": "stdout",
     "output_type": "stream",
     "text": [
      "2\n"
     ]
    }
   ],
   "source": [
    "# 가나다라 와 가마바라의 거리\n",
    "print(lv.calc_distance(\"가나다라\",\"가마바라\")) "
   ]
  },
  {
   "cell_type": "code",
   "execution_count": 3,
   "metadata": {},
   "outputs": [
    {
     "name": "stdout",
     "output_type": "stream",
     "text": [
      "0 신촌역\n",
      "1 신천역\n",
      "2 신천군\n",
      "2 마곡역\n",
      "2 신발\n"
     ]
    }
   ],
   "source": [
    "# 신촌역과 가장 근접한 순서로 정렬\n",
    "samples = ['신촌역','신천군','신천역','마곡역','신발']\n",
    "base = samples[0]\n",
    "r = sorted(samples,key=lambda n: lv.calc_distance(base,n)) # 최소 편집횟수를 구해 정렬하기(가장 근접한 단어 순으로)\n",
    "for n in r:\n",
    "    print(lv.calc_distance(base,n),n)"
   ]
  },
  {
   "cell_type": "code",
   "execution_count": 4,
   "metadata": {},
   "outputs": [
    {
     "data": {
      "text/plain": [
       "['신촌역', '신천역', '신천군', '마곡역', '신발']"
      ]
     },
     "execution_count": 4,
     "metadata": {},
     "output_type": "execute_result"
    }
   ],
   "source": [
    "r"
   ]
  },
  {
   "cell_type": "markdown",
   "metadata": {},
   "source": [
    "---\n",
    "### N-gram으로 유사도 구하기\n",
    "- 이웃한 N개의 문자\n",
    "- 서로 다른 2개의 문자을 N-gram으로 비교해보면 출현하는 단어의 종류와 빈도를 확인 가능   \n",
    "- 논문 도용 등을 확인 가능"
   ]
  },
  {
   "cell_type": "code",
   "execution_count": 5,
   "metadata": {},
   "outputs": [],
   "source": [
    "from ngram import Ngram\n",
    "ngram = Ngram()"
   ]
  },
  {
   "cell_type": "code",
   "execution_count": 6,
   "metadata": {},
   "outputs": [
    {
     "name": "stdout",
     "output_type": "stream",
     "text": [
      "['오늘', '늘 ', ' 강', '강남', '남에', '에서', '서 ', ' 맛', '맛있', '있는', '는 ', ' 스', '스파', '파게', '게티', '티를', '를 ', ' 먹', '먹었', '었다', '다.']\n",
      "['강남', '남에', '에서', '서 ', ' 먹', '먹었', '었던', '던 ', ' 오', '오늘', '늘의', '의 ', ' 스', '스파', '파게', '게티', '티는', '는 ', ' 맛', '맛있', '있었', '었다', '다.']\n"
     ]
    }
   ],
   "source": [
    "# 2문장으로 나누기\n",
    "a = \"오늘 강남에서 맛있는 스파게티를 먹었다.\"\n",
    "b = \"강남에서 먹었던 오늘의 스파게티는 맛있었다.\"\n",
    "\n",
    "print(ngram.ngram(a,2)) # 2문장으로 나누어서 해라\n",
    "print(ngram.ngram(b,2))"
   ]
  },
  {
   "cell_type": "code",
   "execution_count": 7,
   "metadata": {},
   "outputs": [
    {
     "name": "stdout",
     "output_type": "stream",
     "text": [
      "['오늘 ', '늘 강', ' 강남', '강남에', '남에서', '에서 ', '서 맛', ' 맛있', '맛있는', '있는 ', '는 스', ' 스파', '스파게', '파게티', '게티를', '티를 ', '를 먹', ' 먹었', '먹었다', '었다.']\n",
      "['강남에', '남에서', '에서 ', '서 먹', ' 먹었', '먹었던', '었던 ', '던 오', ' 오늘', '오늘의', '늘의 ', '의 스', ' 스파', '스파게', '파게티', '게티는', '티는 ', '는 맛', ' 맛있', '맛있었', '있었다', '었다.']\n"
     ]
    }
   ],
   "source": [
    "print(ngram.ngram(a,3)) \n",
    "print(ngram.ngram(b,3))"
   ]
  },
  {
   "cell_type": "markdown",
   "metadata": {},
   "source": [
    "---\n",
    "### 유사도 비교"
   ]
  },
  {
   "cell_type": "code",
   "execution_count": 8,
   "metadata": {},
   "outputs": [
    {
     "name": "stdout",
     "output_type": "stream",
     "text": [
      "유사도 : (0.7619047619047619, ['오늘', '강남', '남에', '에서', '서 ', ' 맛', '맛있', '는 ', ' 스', '스파', '파게', '게티', ' 먹', '먹었', '었다', '다.'])\n"
     ]
    }
   ],
   "source": [
    "# 2-gram\n",
    "r2 = ngram.diff_ngram(a,b,2)\n",
    "print(\"유사도 :\", r2)"
   ]
  },
  {
   "cell_type": "code",
   "execution_count": 9,
   "metadata": {},
   "outputs": [
    {
     "name": "stdout",
     "output_type": "stream",
     "text": [
      "유사도 : (0.45, ['강남에', '남에서', '에서 ', ' 맛있', ' 스파', '스파게', '파게티', ' 먹었', '었다.'])\n"
     ]
    }
   ],
   "source": [
    "# 3-gram\n",
    "r3 = ngram.diff_ngram(a,b,3)\n",
    "print(\"유사도 :\",r3)"
   ]
  },
  {
   "cell_type": "code",
   "execution_count": 10,
   "metadata": {},
   "outputs": [
    {
     "name": "stdout",
     "output_type": "stream",
     "text": [
      "유사도 : (0.75, ['머신', '신러', '러닝', ' 재', '재미', '미있', '있는', '는 ', ' 기', '기술', '술이', '이라', '라 ', '공부', '부하', '고 ', ' 있', '있습', '습니', '니다', '다.'])\n"
     ]
    }
   ],
   "source": [
    "a = \"머신러닝은 매우 재미있는 기술이라 공부하고 있습니다.\"\n",
    "b = \"공부하면 재미있는 기술이라 머신러닝을 배우고 있습니다.\"\n",
    "\n",
    "# 2-gram\n",
    "r2 = ngram.diff_ngram(a,b,2)\n",
    "print(\"유사도 :\", r2)"
   ]
  },
  {
   "cell_type": "code",
   "execution_count": 11,
   "metadata": {},
   "outputs": [
    {
     "name": "stdout",
     "output_type": "stream",
     "text": [
      "유사도 : (0.7333333333333333, ['본문', '문과', '과 ', ' 전', '전혀', '혀 ', ' 관', '관계', '계 ', ' 없', '는 ', '마시', '시멜', '멜로', '로는', '는 ', ' 맛', '맛있', '있습', '습니', '니다', '다.'])\n"
     ]
    }
   ],
   "source": [
    "a = \"본문과 전혀 관계 없는 내용이지만 마시멜로는 맛있습니다.\"\n",
    "b = \"마시멜로는 본문과 전혀 관계 없이 맛있습니다..\"\n",
    "\n",
    "# 2-gram\n",
    "r2 = ngram.diff_ngram(a,b,2)\n",
    "print(\"유사도 :\", r2)"
   ]
  },
  {
   "cell_type": "code",
   "execution_count": 12,
   "metadata": {},
   "outputs": [
    {
     "name": "stdout",
     "output_type": "stream",
     "text": [
      "유사도 : (0.12, ['한 ', '니다', '다.'])\n"
     ]
    }
   ],
   "source": [
    "a = \"파이썬 프로그래밍에서 중요한 것은 블록 입니다.\"\n",
    "b = \"겨울에는 충분한 수분을 보충해야 합니다.\"\n",
    "\n",
    "# 2-gram\n",
    "r2 = ngram.diff_ngram(a,b,2)\n",
    "print(\"유사도 :\", r2)"
   ]
  },
  {
   "cell_type": "code",
   "execution_count": null,
   "metadata": {},
   "outputs": [],
   "source": []
  }
 ],
 "metadata": {
  "kernelspec": {
   "display_name": "Python 3.9.7 ('base')",
   "language": "python",
   "name": "python3"
  },
  "language_info": {
   "codemirror_mode": {
    "name": "ipython",
    "version": 3
   },
   "file_extension": ".py",
   "mimetype": "text/x-python",
   "name": "python",
   "nbconvert_exporter": "python",
   "pygments_lexer": "ipython3",
   "version": "3.9.7"
  },
  "orig_nbformat": 4,
  "vscode": {
   "interpreter": {
    "hash": "c34e8390e776d2ee205b71ed5a6130fee3cef8da5e87e926ce18e14f4a070d72"
   }
  }
 },
 "nbformat": 4,
 "nbformat_minor": 2
}

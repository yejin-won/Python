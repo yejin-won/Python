{
 "cells": [
  {
   "cell_type": "code",
   "execution_count": 15,
   "metadata": {},
   "outputs": [],
   "source": [
    "import warnings\n",
    "warnings.filterwarnings('ignore')"
   ]
  },
  {
   "cell_type": "markdown",
   "metadata": {},
   "source": [
    "### 패션 MNIST 데이터 불러오기"
   ]
  },
  {
   "cell_type": "code",
   "execution_count": 16,
   "metadata": {},
   "outputs": [],
   "source": [
    "from tensorflow import keras\n",
    "from sklearn.model_selection import train_test_split\n",
    "\n",
    "(train_input,train_target),(test_input,test_target) = keras.datasets.fashion_mnist.load_data()\n",
    "train_scaled = train_input.reshape(-1,28,28,1) / 255.0\n",
    "\n",
    "train_scaled,val_scaled,train_target,val_target = train_test_split(\n",
    "    train_scaled,train_target,test_size=0.2,random_state=42\n",
    ")"
   ]
  },
  {
   "cell_type": "markdown",
   "metadata": {},
   "source": [
    "- keras에서 입력데이터가 3차원으로 구성되어 있을 것이라고 가정하고 있으므로 차원을 추가해서 channel차원으로 1을 추가하였음\n",
    "- train set을 train과 valid로 구분"
   ]
  },
  {
   "cell_type": "markdown",
   "metadata": {},
   "source": [
    "# 합성곱 신경망 만들기"
   ]
  },
  {
   "cell_type": "code",
   "execution_count": 17,
   "metadata": {},
   "outputs": [],
   "source": [
    "import os\n",
    "os.environ[\"TF_CPP_MIN_LOG_LEVEL\"] = '3'"
   ]
  },
  {
   "cell_type": "code",
   "execution_count": 18,
   "metadata": {},
   "outputs": [],
   "source": [
    "model = keras.Sequential()"
   ]
  },
  {
   "cell_type": "code",
   "execution_count": 19,
   "metadata": {},
   "outputs": [],
   "source": [
    "model.add(\n",
    "    keras.layers.Conv2D(\n",
    "        32,\n",
    "        kernel_size = 3, # (=(3,3))\n",
    "        activation = 'relu',\n",
    "        padding = 'same',\n",
    "        input_shape=(28,28,1)\n",
    "    )\n",
    ")"
   ]
  },
  {
   "cell_type": "code",
   "execution_count": 20,
   "metadata": {},
   "outputs": [],
   "source": [
    "model.add(keras.layers.MaxPooling2D(2))"
   ]
  },
  {
   "cell_type": "code",
   "execution_count": 21,
   "metadata": {},
   "outputs": [],
   "source": [
    "model.add(\n",
    "    keras.layers.Conv2D(\n",
    "        64, # filter의 개수\n",
    "        kernel_size = 3,\n",
    "        activation = 'relu',\n",
    "        padding = 'same' \n",
    "    )\n",
    ")"
   ]
  },
  {
   "cell_type": "code",
   "execution_count": 22,
   "metadata": {},
   "outputs": [],
   "source": [
    "model.add(keras.layers.MaxPooling2D(2))"
   ]
  },
  {
   "cell_type": "markdown",
   "metadata": {},
   "source": [
    "> 특징점을 더 잡기 위해 Conv2D를 두개의 층을 씀"
   ]
  },
  {
   "cell_type": "code",
   "execution_count": 23,
   "metadata": {},
   "outputs": [],
   "source": [
    "model.add(keras.layers.Flatten()) \n",
    "model.add(keras.layers.Dense(100,activation='relu'))\n",
    "model.add(keras.layers.Dropout(0.4))\n",
    "model.add(keras.layers.Dense(10,activation='softmax'))"
   ]
  },
  {
   "cell_type": "code",
   "execution_count": 24,
   "metadata": {},
   "outputs": [
    {
     "data": {
      "text/plain": [
       "3136"
      ]
     },
     "execution_count": 24,
     "metadata": {},
     "output_type": "execute_result"
    }
   ],
   "source": [
    "64 * 7 *7"
   ]
  },
  {
   "cell_type": "code",
   "execution_count": 25,
   "metadata": {},
   "outputs": [
    {
     "data": {
      "text/plain": [
       "784"
      ]
     },
     "execution_count": 25,
     "metadata": {},
     "output_type": "execute_result"
    }
   ],
   "source": [
    "28*28"
   ]
  },
  {
   "cell_type": "code",
   "execution_count": 26,
   "metadata": {},
   "outputs": [
    {
     "name": "stdout",
     "output_type": "stream",
     "text": [
      "Model: \"sequential_1\"\n",
      "_________________________________________________________________\n",
      " Layer (type)                Output Shape              Param #   \n",
      "=================================================================\n",
      " conv2d_2 (Conv2D)           (None, 28, 28, 32)        320       \n",
      "                                                                 \n",
      " max_pooling2d_2 (MaxPooling  (None, 14, 14, 32)       0         \n",
      " 2D)                                                             \n",
      "                                                                 \n",
      " conv2d_3 (Conv2D)           (None, 14, 14, 64)        18496     \n",
      "                                                                 \n",
      " max_pooling2d_3 (MaxPooling  (None, 7, 7, 64)         0         \n",
      " 2D)                                                             \n",
      "                                                                 \n",
      " flatten_1 (Flatten)         (None, 3136)              0         \n",
      "                                                                 \n",
      " dense_2 (Dense)             (None, 100)               313700    \n",
      "                                                                 \n",
      " dropout_1 (Dropout)         (None, 100)               0         \n",
      "                                                                 \n",
      " dense_3 (Dense)             (None, 10)                1010      \n",
      "                                                                 \n",
      "=================================================================\n",
      "Total params: 333,526\n",
      "Trainable params: 333,526\n",
      "Non-trainable params: 0\n",
      "_________________________________________________________________\n"
     ]
    }
   ],
   "source": [
    "model.summary()"
   ]
  },
  {
   "cell_type": "markdown",
   "metadata": {},
   "source": [
    "### Model Compile과 훈련"
   ]
  },
  {
   "cell_type": "code",
   "execution_count": 27,
   "metadata": {},
   "outputs": [
    {
     "name": "stdout",
     "output_type": "stream",
     "text": [
      "Epoch 1/20\n",
      "1500/1500 [==============================] - 30s 19ms/step - loss: 0.5180 - accuracy: 0.8164 - val_loss: 0.3442 - val_accuracy: 0.8762\n",
      "Epoch 2/20\n",
      "1500/1500 [==============================] - 28s 19ms/step - loss: 0.3436 - accuracy: 0.8764 - val_loss: 0.2817 - val_accuracy: 0.8967\n",
      "Epoch 3/20\n",
      "1500/1500 [==============================] - 30s 20ms/step - loss: 0.2959 - accuracy: 0.8924 - val_loss: 0.2672 - val_accuracy: 0.9024\n",
      "Epoch 4/20\n",
      "1500/1500 [==============================] - 30s 20ms/step - loss: 0.2633 - accuracy: 0.9042 - val_loss: 0.2550 - val_accuracy: 0.9074\n",
      "Epoch 5/20\n",
      "1500/1500 [==============================] - 31s 21ms/step - loss: 0.2394 - accuracy: 0.9115 - val_loss: 0.2391 - val_accuracy: 0.9139\n",
      "Epoch 6/20\n",
      "1500/1500 [==============================] - 33s 22ms/step - loss: 0.2185 - accuracy: 0.9185 - val_loss: 0.2270 - val_accuracy: 0.9169\n",
      "Epoch 7/20\n",
      "1500/1500 [==============================] - 31s 21ms/step - loss: 0.2027 - accuracy: 0.9251 - val_loss: 0.2177 - val_accuracy: 0.9227\n",
      "Epoch 8/20\n",
      "1500/1500 [==============================] - 30s 20ms/step - loss: 0.1866 - accuracy: 0.9310 - val_loss: 0.2153 - val_accuracy: 0.9222\n",
      "Epoch 9/20\n",
      "1500/1500 [==============================] - 31s 20ms/step - loss: 0.1716 - accuracy: 0.9357 - val_loss: 0.2411 - val_accuracy: 0.9168\n",
      "Epoch 10/20\n",
      "1500/1500 [==============================] - 30s 20ms/step - loss: 0.1615 - accuracy: 0.9380 - val_loss: 0.2512 - val_accuracy: 0.9128\n"
     ]
    }
   ],
   "source": [
    "model.compile(\n",
    "    optimizer = 'adam',\n",
    "    loss = 'sparse_categorical_crossentropy', \n",
    "    metrics = 'accuracy'\n",
    ")\n",
    "checkpoint_cb = keras.callbacks.ModelCheckpoint('../Data/best_cnn_model.h5')\n",
    "early_stopping_cb = keras.callbacks.EarlyStopping(patience=2, restore_best_weights=True)\n",
    "\n",
    "history = model.fit(\n",
    "    train_scaled , \n",
    "    train_target ,\n",
    "    epochs = 20 ,\n",
    "    validation_data = (val_scaled , val_target) ,\n",
    "    callbacks = [checkpoint_cb , early_stopping_cb]\n",
    ")"
   ]
  },
  {
   "cell_type": "code",
   "execution_count": 29,
   "metadata": {},
   "outputs": [
    {
     "data": {
      "image/png": "[encoded data removed]",
      "text/plain": [
       "<Figure size 432x288 with 1 Axes>"
      ]
     },
     "metadata": {
      "needs_background": "light"
     },
     "output_type": "display_data"
    }
   ],
   "source": [
    "# 시각화 해보기\n",
    "import matplotlib.pyplot as plt\n",
    "\n",
    "plt.plot(history.history['loss'])\n",
    "plt.plot(history.history['val_loss'])\n",
    "plt.xlabel('epoch')\n",
    "plt.ylabel('loss')\n",
    "plt.legend(['train','val'])\n",
    "plt.show()"
   ]
  },
  {
   "cell_type": "code",
   "execution_count": 30,
   "metadata": {},
   "outputs": [
    {
     "name": "stdout",
     "output_type": "stream",
     "text": [
      "375/375 [==============================] - 2s 5ms/step - loss: 0.2153 - accuracy: 0.9222\n"
     ]
    },
    {
     "data": {
      "text/plain": [
       "[0.21526412665843964, 0.922249972820282]"
      ]
     },
     "execution_count": 30,
     "metadata": {},
     "output_type": "execute_result"
    }
   ],
   "source": [
    "model.evaluate(val_scaled,val_target)"
   ]
  },
  {
   "cell_type": "code",
   "execution_count": 31,
   "metadata": {},
   "outputs": [
    {
     "data": {
      "image/png": "[encoded data removed]",
      "text/plain": [
       "<Figure size 432x288 with 1 Axes>"
      ]
     },
     "metadata": {
      "needs_background": "light"
     },
     "output_type": "display_data"
    }
   ],
   "source": [
    "# 이미지로 확인해보기\n",
    "plt.imshow(val_scaled[0].reshape(28,28),cmap='gray_r')\n",
    "plt.show()"
   ]
  },
  {
   "cell_type": "code",
   "execution_count": 32,
   "metadata": {},
   "outputs": [
    {
     "name": "stdout",
     "output_type": "stream",
     "text": [
      "1/1 [==============================] - 0s 152ms/step\n",
      "[[8.39022239e-16 9.17784364e-24 3.90972541e-17 6.75233357e-17\n",
      "  8.05225519e-16 4.12472461e-16 1.12981313e-13 4.04456157e-15\n",
      "  1.00000000e+00 2.21070737e-14]]\n"
     ]
    }
   ],
   "source": [
    "pred = model.predict(val_scaled[0:1])\n",
    "print(pred) "
   ]
  },
  {
   "cell_type": "code",
   "execution_count": 33,
   "metadata": {},
   "outputs": [],
   "source": [
    "# 계단함수\n",
    "import numpy as np\n",
    "classes = ['티셔츠','바지','스웨터','드레스','코트','샌들','셔츠','스니커즈','가방','앵글부츠']"
   ]
  },
  {
   "cell_type": "code",
   "execution_count": 34,
   "metadata": {},
   "outputs": [
    {
     "name": "stdout",
     "output_type": "stream",
     "text": [
      "가방\n"
     ]
    }
   ],
   "source": [
    "print(classes[np.argmax(pred)])"
   ]
  },
  {
   "cell_type": "markdown",
   "metadata": {},
   "source": [
    "### 시험 데이터를 확인하기"
   ]
  },
  {
   "cell_type": "code",
   "execution_count": 35,
   "metadata": {},
   "outputs": [],
   "source": [
    "test_scaled = test_input.reshape(-1,28,28,1) /255.0"
   ]
  },
  {
   "cell_type": "code",
   "execution_count": 36,
   "metadata": {},
   "outputs": [
    {
     "name": "stdout",
     "output_type": "stream",
     "text": [
      "313/313 [==============================] - 2s 5ms/step - loss: 0.2425 - accuracy: 0.9163\n"
     ]
    },
    {
     "data": {
      "text/plain": [
       "[0.2424657940864563, 0.9162999987602234]"
      ]
     },
     "execution_count": 36,
     "metadata": {},
     "output_type": "execute_result"
    }
   ],
   "source": [
    "model.evaluate(test_scaled,test_target)"
   ]
  },
  {
   "cell_type": "code",
   "execution_count": null,
   "metadata": {},
   "outputs": [],
   "source": []
  }
 ],
 "metadata": {
  "kernelspec": {
   "display_name": "Python 3.9.7 ('base')",
   "language": "python",
   "name": "python3"
  },
  "language_info": {
   "codemirror_mode": {
    "name": "ipython",
    "version": 3
   },
   "file_extension": ".py",
   "mimetype": "text/x-python",
   "name": "python",
   "nbconvert_exporter": "python",
   "pygments_lexer": "ipython3",
   "version": "3.9.7"
  },
  "orig_nbformat": 4,
  "vscode": {
   "interpreter": {
    "hash": "c34e8390e776d2ee205b71ed5a6130fee3cef8da5e87e926ce18e14f4a070d72"
   }
  }
 },
 "nbformat": 4,
 "nbformat_minor": 2
}

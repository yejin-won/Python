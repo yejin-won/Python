{
 "cells": [
  {
   "cell_type": "code",
   "execution_count": 1,
   "metadata": {},
   "outputs": [],
   "source": [
    "import warnings\n",
    "warnings.filterwarnings('ignore')\n",
    "\n",
    "import os\n",
    "os.environ[\"TF_CPP_MIN_LOG_LEVEL\"] = '3'"
   ]
  },
  {
   "cell_type": "code",
   "execution_count": 2,
   "metadata": {},
   "outputs": [],
   "source": [
    "from tensorflow import keras\n",
    "from sklearn.model_selection import train_test_split\n",
    "(train_input,train_target),(test_input,test_target) = \\\n",
    "    keras.datasets.fashion_mnist.load_data()\n",
    "\n",
    "train_scaled = train_input / 255.0\n",
    "\n",
    "train_scaled,val_scaled,train_target,val_target = train_test_split(\n",
    "    train_scaled,train_target,test_size=0.2,random_state=42\n",
    ")"
   ]
  },
  {
   "cell_type": "code",
   "execution_count": 3,
   "metadata": {},
   "outputs": [],
   "source": [
    "# Model 함수 구현\n",
    "def model_fu(a_layer=None):\n",
    "    model = keras.Sequential()\n",
    "    model.add(keras.layers.Flatten(input_shape=(28,28)))\n",
    "    model.add(keras.layers.Dense(100,activation='relu'))\n",
    "    if a_layer:\n",
    "        model.add(a_layer)\n",
    "    model.add(keras.layers.Dense(10,activation='softmax'))\n",
    "    return model"
   ]
  },
  {
   "cell_type": "code",
   "execution_count": 4,
   "metadata": {},
   "outputs": [
    {
     "name": "stdout",
     "output_type": "stream",
     "text": [
      "Model: \"sequential\"\n",
      "_________________________________________________________________\n",
      " Layer (type)                Output Shape              Param #   \n",
      "=================================================================\n",
      " flatten (Flatten)           (None, 784)               0         \n",
      "                                                                 \n",
      " dense (Dense)               (None, 100)               78500     \n",
      "                                                                 \n",
      " dense_1 (Dense)             (None, 10)                1010      \n",
      "                                                                 \n",
      "=================================================================\n",
      "Total params: 79,510\n",
      "Trainable params: 79,510\n",
      "Non-trainable params: 0\n",
      "_________________________________________________________________\n"
     ]
    }
   ],
   "source": [
    "model = model_fu()\n",
    "model.summary()"
   ]
  },
  {
   "cell_type": "code",
   "execution_count": 5,
   "metadata": {},
   "outputs": [
    {
     "name": "stdout",
     "output_type": "stream",
     "text": [
      "Epoch 1/5\n",
      "1500/1500 [==============================] - 4s 2ms/step - loss: 0.5274 - accuracy: 0.8145\n",
      "Epoch 2/5\n",
      "1500/1500 [==============================] - 3s 2ms/step - loss: 0.3908 - accuracy: 0.8607\n",
      "Epoch 3/5\n",
      "1500/1500 [==============================] - 3s 2ms/step - loss: 0.3536 - accuracy: 0.8734\n",
      "Epoch 4/5\n",
      "1500/1500 [==============================] - 3s 2ms/step - loss: 0.3319 - accuracy: 0.8815\n",
      "Epoch 5/5\n",
      "1500/1500 [==============================] - 3s 2ms/step - loss: 0.3166 - accuracy: 0.8867\n"
     ]
    }
   ],
   "source": [
    "model.compile(loss='sparse_categorical_crossentropy',metrics='accuracy')\n",
    "histrory = model.fit(train_scaled,train_target,epochs=5)"
   ]
  },
  {
   "cell_type": "code",
   "execution_count": 6,
   "metadata": {},
   "outputs": [
    {
     "data": {
      "text/plain": [
       "dict_keys(['loss', 'accuracy'])"
      ]
     },
     "execution_count": 6,
     "metadata": {},
     "output_type": "execute_result"
    }
   ],
   "source": [
    "histrory.history.keys()"
   ]
  },
  {
   "cell_type": "markdown",
   "metadata": {},
   "source": [
    "### 손실곡선"
   ]
  },
  {
   "cell_type": "code",
   "execution_count": 7,
   "metadata": {},
   "outputs": [
    {
     "data": {
      "image/png": "[encoded data removed]",
      "text/plain": [
       "<Figure size 432x288 with 1 Axes>"
      ]
     },
     "metadata": {
      "needs_background": "light"
     },
     "output_type": "display_data"
    }
   ],
   "source": [
    "import matplotlib.pyplot as plt\n",
    "\n",
    "plt.plot(histrory.history['loss'])\n",
    "plt.xlabel('epoch')\n",
    "plt.ylabel('loss')\n",
    "plt.show()"
   ]
  },
  {
   "cell_type": "code",
   "execution_count": 8,
   "metadata": {},
   "outputs": [
    {
     "data": {
      "image/png": "[encoded data removed]",
      "text/plain": [
       "<Figure size 432x288 with 1 Axes>"
      ]
     },
     "metadata": {
      "needs_background": "light"
     },
     "output_type": "display_data"
    }
   ],
   "source": [
    "plt.plot(histrory.history['accuracy'])\n",
    "plt.xlabel('epoch')\n",
    "plt.ylabel('loss')\n",
    "plt.show()"
   ]
  },
  {
   "cell_type": "markdown",
   "metadata": {},
   "source": [
    "### 반복훈련의 증가\n"
   ]
  },
  {
   "cell_type": "code",
   "execution_count": 9,
   "metadata": {},
   "outputs": [
    {
     "name": "stdout",
     "output_type": "stream",
     "text": [
      "Epoch 1/20\n",
      "1500/1500 [==============================] - 4s 2ms/step - loss: 0.5291 - accuracy: 0.8139\n",
      "Epoch 2/20\n",
      "1500/1500 [==============================] - 3s 2ms/step - loss: 0.3906 - accuracy: 0.8602\n",
      "Epoch 3/20\n",
      "1500/1500 [==============================] - 3s 2ms/step - loss: 0.3539 - accuracy: 0.8724\n",
      "Epoch 4/20\n",
      "1500/1500 [==============================] - 3s 2ms/step - loss: 0.3329 - accuracy: 0.8809\n",
      "Epoch 5/20\n",
      "1500/1500 [==============================] - 3s 2ms/step - loss: 0.3201 - accuracy: 0.8855\n",
      "Epoch 6/20\n",
      "1500/1500 [==============================] - 3s 2ms/step - loss: 0.3073 - accuracy: 0.8914\n",
      "Epoch 7/20\n",
      "1500/1500 [==============================] - 3s 2ms/step - loss: 0.2960 - accuracy: 0.8952\n",
      "Epoch 8/20\n",
      "1500/1500 [==============================] - 3s 2ms/step - loss: 0.2891 - accuracy: 0.8985\n",
      "Epoch 9/20\n",
      "1500/1500 [==============================] - 3s 2ms/step - loss: 0.2819 - accuracy: 0.9010\n",
      "Epoch 10/20\n",
      "1500/1500 [==============================] - 3s 2ms/step - loss: 0.2767 - accuracy: 0.9036\n",
      "Epoch 11/20\n",
      "1500/1500 [==============================] - 3s 2ms/step - loss: 0.2709 - accuracy: 0.9047\n",
      "Epoch 12/20\n",
      "1500/1500 [==============================] - 4s 3ms/step - loss: 0.2653 - accuracy: 0.9084\n",
      "Epoch 13/20\n",
      "1500/1500 [==============================] - 3s 2ms/step - loss: 0.2598 - accuracy: 0.9097\n",
      "Epoch 14/20\n",
      "1500/1500 [==============================] - 3s 2ms/step - loss: 0.2535 - accuracy: 0.9106\n",
      "Epoch 15/20\n",
      "1500/1500 [==============================] - 4s 2ms/step - loss: 0.2506 - accuracy: 0.9136\n",
      "Epoch 16/20\n",
      "1500/1500 [==============================] - 3s 2ms/step - loss: 0.2450 - accuracy: 0.9161\n",
      "Epoch 17/20\n",
      "1500/1500 [==============================] - 3s 2ms/step - loss: 0.2398 - accuracy: 0.9177\n",
      "Epoch 18/20\n",
      "1500/1500 [==============================] - 3s 2ms/step - loss: 0.2386 - accuracy: 0.9187\n",
      "Epoch 19/20\n",
      "1500/1500 [==============================] - 3s 2ms/step - loss: 0.2331 - accuracy: 0.9199\n",
      "Epoch 20/20\n",
      "1500/1500 [==============================] - 3s 2ms/step - loss: 0.2300 - accuracy: 0.9230\n"
     ]
    }
   ],
   "source": [
    "model = model_fu()\n",
    "model.compile(loss='sparse_categorical_crossentropy',metrics='accuracy')\n",
    "histrory = model.fit(train_scaled,train_target,epochs=20)"
   ]
  },
  {
   "cell_type": "code",
   "execution_count": 10,
   "metadata": {},
   "outputs": [
    {
     "data": {
      "image/png": "[encoded data removed]",
      "text/plain": [
       "<Figure size 432x288 with 1 Axes>"
      ]
     },
     "metadata": {
      "needs_background": "light"
     },
     "output_type": "display_data"
    }
   ],
   "source": [
    "plt.plot(histrory.history['loss'])\n",
    "plt.xlabel('epoch')\n",
    "plt.ylabel('loss')\n",
    "plt.show()"
   ]
  },
  {
   "cell_type": "code",
   "execution_count": 11,
   "metadata": {},
   "outputs": [
    {
     "data": {
      "image/png": "[encoded data removed]",
      "text/plain": [
       "<Figure size 432x288 with 1 Axes>"
      ]
     },
     "metadata": {
      "needs_background": "light"
     },
     "output_type": "display_data"
    }
   ],
   "source": [
    "plt.plot(histrory.history['accuracy'])\n",
    "plt.xlabel('epoch')\n",
    "plt.ylabel('loss')\n",
    "plt.show()"
   ]
  },
  {
   "cell_type": "markdown",
   "metadata": {},
   "source": [
    "> 검증세트를 만든 이유 => 과대적합 파악하기 위해서"
   ]
  },
  {
   "cell_type": "markdown",
   "metadata": {},
   "source": [
    "---\n",
    "### 검증 손실\n",
    ": 검증 세트에 대한 정확도를 파악하기 위해 validation data를 사용한다."
   ]
  },
  {
   "cell_type": "code",
   "execution_count": 12,
   "metadata": {},
   "outputs": [
    {
     "name": "stdout",
     "output_type": "stream",
     "text": [
      "Epoch 1/20\n",
      "1500/1500 [==============================] - 4s 3ms/step - loss: 0.5326 - accuracy: 0.8125 - val_loss: 0.4408 - val_accuracy: 0.8457\n",
      "Epoch 2/20\n",
      "1500/1500 [==============================] - 4s 2ms/step - loss: 0.3915 - accuracy: 0.8587 - val_loss: 0.4031 - val_accuracy: 0.8569\n",
      "Epoch 3/20\n",
      "1500/1500 [==============================] - 4s 3ms/step - loss: 0.3532 - accuracy: 0.8727 - val_loss: 0.3657 - val_accuracy: 0.8702\n",
      "Epoch 4/20\n",
      "1500/1500 [==============================] - 4s 3ms/step - loss: 0.3336 - accuracy: 0.8809 - val_loss: 0.3756 - val_accuracy: 0.8698\n",
      "Epoch 5/20\n",
      "1500/1500 [==============================] - 4s 2ms/step - loss: 0.3174 - accuracy: 0.8859 - val_loss: 0.3546 - val_accuracy: 0.8797\n",
      "Epoch 6/20\n",
      "1500/1500 [==============================] - 4s 2ms/step - loss: 0.3049 - accuracy: 0.8923 - val_loss: 0.3740 - val_accuracy: 0.8756\n",
      "Epoch 7/20\n",
      "1500/1500 [==============================] - 4s 2ms/step - loss: 0.2950 - accuracy: 0.8933 - val_loss: 0.3868 - val_accuracy: 0.8739\n",
      "Epoch 8/20\n",
      "1500/1500 [==============================] - 4s 3ms/step - loss: 0.2875 - accuracy: 0.8987 - val_loss: 0.3715 - val_accuracy: 0.8767\n",
      "Epoch 9/20\n",
      "1500/1500 [==============================] - 4s 2ms/step - loss: 0.2826 - accuracy: 0.9010 - val_loss: 0.3661 - val_accuracy: 0.8832\n",
      "Epoch 10/20\n",
      "1500/1500 [==============================] - 4s 3ms/step - loss: 0.2746 - accuracy: 0.9038 - val_loss: 0.4357 - val_accuracy: 0.8636\n",
      "Epoch 11/20\n",
      "1500/1500 [==============================] - 4s 3ms/step - loss: 0.2665 - accuracy: 0.9063 - val_loss: 0.3754 - val_accuracy: 0.8848\n",
      "Epoch 12/20\n",
      "1500/1500 [==============================] - 4s 3ms/step - loss: 0.2625 - accuracy: 0.9085 - val_loss: 0.4271 - val_accuracy: 0.8740\n",
      "Epoch 13/20\n",
      "1500/1500 [==============================] - 4s 3ms/step - loss: 0.2576 - accuracy: 0.9112 - val_loss: 0.4177 - val_accuracy: 0.8846\n",
      "Epoch 14/20\n",
      "1500/1500 [==============================] - 4s 2ms/step - loss: 0.2546 - accuracy: 0.9117 - val_loss: 0.3921 - val_accuracy: 0.8777\n",
      "Epoch 15/20\n",
      "1500/1500 [==============================] - 4s 3ms/step - loss: 0.2496 - accuracy: 0.9140 - val_loss: 0.4020 - val_accuracy: 0.8797\n",
      "Epoch 16/20\n",
      "1500/1500 [==============================] - 4s 3ms/step - loss: 0.2458 - accuracy: 0.9149 - val_loss: 0.4460 - val_accuracy: 0.8674\n",
      "Epoch 17/20\n",
      "1500/1500 [==============================] - 4s 3ms/step - loss: 0.2405 - accuracy: 0.9182 - val_loss: 0.4140 - val_accuracy: 0.8889\n",
      "Epoch 18/20\n",
      "1500/1500 [==============================] - 5s 3ms/step - loss: 0.2357 - accuracy: 0.9185 - val_loss: 0.4603 - val_accuracy: 0.8772\n",
      "Epoch 19/20\n",
      "1500/1500 [==============================] - 4s 3ms/step - loss: 0.2300 - accuracy: 0.9207 - val_loss: 0.4456 - val_accuracy: 0.8813\n",
      "Epoch 20/20\n",
      "1500/1500 [==============================] - 4s 2ms/step - loss: 0.2271 - accuracy: 0.9216 - val_loss: 0.4717 - val_accuracy: 0.8739\n"
     ]
    }
   ],
   "source": [
    "model = model_fu()\n",
    "model.compile(loss='sparse_categorical_crossentropy',metrics='accuracy')\n",
    "histrory = model.fit(train_scaled,train_target,epochs=20,\n",
    "                        validation_data = (val_scaled,val_target)\n",
    ")"
   ]
  },
  {
   "cell_type": "code",
   "execution_count": 13,
   "metadata": {},
   "outputs": [
    {
     "data": {
      "text/plain": [
       "dict_keys(['loss', 'accuracy', 'val_loss', 'val_accuracy'])"
      ]
     },
     "execution_count": 13,
     "metadata": {},
     "output_type": "execute_result"
    }
   ],
   "source": [
    "histrory.history.keys()"
   ]
  },
  {
   "cell_type": "code",
   "execution_count": 14,
   "metadata": {},
   "outputs": [
    {
     "data": {
      "image/png": "[encoded data removed]",
      "text/plain": [
       "<Figure size 432x288 with 1 Axes>"
      ]
     },
     "metadata": {
      "needs_background": "light"
     },
     "output_type": "display_data"
    }
   ],
   "source": [
    "plt.plot(histrory.history['loss'])\n",
    "plt.plot(histrory.history['val_loss'])\n",
    "plt.xlabel('epoch')\n",
    "plt.ylabel('loss')\n",
    "plt.legend(['train','validation'])\n",
    "plt.show()"
   ]
  },
  {
   "cell_type": "markdown",
   "metadata": {},
   "source": [
    "> 훈련세트는 epochs가 증가함에 따라 손실이 떨어지고 있으나    \n",
    "> 검증세트는 epochs으 증가에 따라 초반에는 손실이 떨어지나 진행하면 할수록 손실율이 증가한다.    \n",
    "> 이 모델은 훈련세트에는 정확도가 높아 좋지만, 검증세트에는 적합하지 않는 과대적합 모델이다.   "
   ]
  },
  {
   "cell_type": "markdown",
   "metadata": {},
   "source": [
    "---\n",
    "### Optimizer(adam)"
   ]
  },
  {
   "cell_type": "code",
   "execution_count": 15,
   "metadata": {},
   "outputs": [
    {
     "name": "stdout",
     "output_type": "stream",
     "text": [
      "Epoch 1/20\n",
      "1500/1500 [==============================] - 4s 2ms/step - loss: 0.5190 - accuracy: 0.8170 - val_loss: 0.4225 - val_accuracy: 0.8466\n",
      "Epoch 2/20\n",
      "1500/1500 [==============================] - 3s 2ms/step - loss: 0.3875 - accuracy: 0.8618 - val_loss: 0.4089 - val_accuracy: 0.8590\n",
      "Epoch 3/20\n",
      "1500/1500 [==============================] - 3s 2ms/step - loss: 0.3510 - accuracy: 0.8712 - val_loss: 0.3541 - val_accuracy: 0.8723\n",
      "Epoch 4/20\n",
      "1500/1500 [==============================] - 3s 2ms/step - loss: 0.3248 - accuracy: 0.8806 - val_loss: 0.3432 - val_accuracy: 0.8744\n",
      "Epoch 5/20\n",
      "1500/1500 [==============================] - 3s 2ms/step - loss: 0.3057 - accuracy: 0.8876 - val_loss: 0.3510 - val_accuracy: 0.8773\n",
      "Epoch 6/20\n",
      "1500/1500 [==============================] - 3s 2ms/step - loss: 0.2884 - accuracy: 0.8926 - val_loss: 0.3572 - val_accuracy: 0.8731\n",
      "Epoch 7/20\n",
      "1500/1500 [==============================] - 3s 2ms/step - loss: 0.2740 - accuracy: 0.8988 - val_loss: 0.3409 - val_accuracy: 0.8764\n",
      "Epoch 8/20\n",
      "1500/1500 [==============================] - 3s 2ms/step - loss: 0.2648 - accuracy: 0.9020 - val_loss: 0.3162 - val_accuracy: 0.8877\n",
      "Epoch 9/20\n",
      "1500/1500 [==============================] - 3s 2ms/step - loss: 0.2531 - accuracy: 0.9065 - val_loss: 0.3356 - val_accuracy: 0.8813\n",
      "Epoch 10/20\n",
      "1500/1500 [==============================] - 3s 2ms/step - loss: 0.2449 - accuracy: 0.9081 - val_loss: 0.3395 - val_accuracy: 0.8801\n",
      "Epoch 11/20\n",
      "1500/1500 [==============================] - 3s 2ms/step - loss: 0.2355 - accuracy: 0.9113 - val_loss: 0.3325 - val_accuracy: 0.8843\n",
      "Epoch 12/20\n",
      "1500/1500 [==============================] - 3s 2ms/step - loss: 0.2286 - accuracy: 0.9149 - val_loss: 0.3221 - val_accuracy: 0.8882\n",
      "Epoch 13/20\n",
      "1500/1500 [==============================] - 3s 2ms/step - loss: 0.2215 - accuracy: 0.9181 - val_loss: 0.3118 - val_accuracy: 0.8907\n",
      "Epoch 14/20\n",
      "1500/1500 [==============================] - 3s 2ms/step - loss: 0.2143 - accuracy: 0.9200 - val_loss: 0.3154 - val_accuracy: 0.8919\n",
      "Epoch 15/20\n",
      "1500/1500 [==============================] - 3s 2ms/step - loss: 0.2090 - accuracy: 0.9219 - val_loss: 0.3276 - val_accuracy: 0.8886\n",
      "Epoch 16/20\n",
      "1500/1500 [==============================] - 3s 2ms/step - loss: 0.2026 - accuracy: 0.9239 - val_loss: 0.3291 - val_accuracy: 0.8890\n",
      "Epoch 17/20\n",
      "1500/1500 [==============================] - 3s 2ms/step - loss: 0.1963 - accuracy: 0.9265 - val_loss: 0.3443 - val_accuracy: 0.8805\n",
      "Epoch 18/20\n",
      "1500/1500 [==============================] - 3s 2ms/step - loss: 0.1942 - accuracy: 0.9282 - val_loss: 0.3583 - val_accuracy: 0.8813\n",
      "Epoch 19/20\n",
      "1500/1500 [==============================] - 3s 2ms/step - loss: 0.1866 - accuracy: 0.9296 - val_loss: 0.3641 - val_accuracy: 0.8780\n",
      "Epoch 20/20\n",
      "1500/1500 [==============================] - 3s 2ms/step - loss: 0.1793 - accuracy: 0.9327 - val_loss: 0.3274 - val_accuracy: 0.8911\n"
     ]
    }
   ],
   "source": [
    "model = model_fu()\n",
    "model.compile(optimizer='adam',loss='sparse_categorical_crossentropy',metrics='accuracy')\n",
    "histrory = model.fit(train_scaled,train_target,epochs=20,\n",
    "                        validation_data = (val_scaled,val_target)\n",
    ")"
   ]
  },
  {
   "cell_type": "code",
   "execution_count": 16,
   "metadata": {},
   "outputs": [
    {
     "data": {
      "image/png": "[encoded data removed]",
      "text/plain": [
       "<Figure size 432x288 with 1 Axes>"
      ]
     },
     "metadata": {
      "needs_background": "light"
     },
     "output_type": "display_data"
    }
   ],
   "source": [
    "plt.plot(histrory.history['loss'])\n",
    "plt.plot(histrory.history['val_loss'])\n",
    "plt.xlabel('epoch')\n",
    "plt.ylabel('loss')\n",
    "plt.legend(['train','validation'])\n",
    "plt.show()"
   ]
  },
  {
   "cell_type": "markdown",
   "metadata": {},
   "source": [
    "> 훈련세트는 epochs가 증가함에 따라 손실이 떨어지고 있으나    \n",
    "> 검증세트는 epochs으 증가에 따라 초반에는 손실이 떨어지나 진행하면 할수록 손실율이 증가한다.    \n",
    "> 이 모델은 훈련세트에는 정확도가 높아 좋지만, 검증세트에는 적합하지 않는 과대적합 모델이다.   \n",
    "> Optimizer(최적화 알고리즘)을 사용한 것이 좀 더 나은 모델이나 검증손실에 대한 부분(과대적합)은 아직 해결이 안됨"
   ]
  },
  {
   "cell_type": "markdown",
   "metadata": {},
   "source": [
    "---\n",
    "# Dropout\n",
    "- 규제\n",
    "- 신경망 모델에만 있음\n",
    "- 훈련 시에만 각 sample을 처리할 때, 은닉층의 임의의 node를 계산에 포함시키지 않는다"
   ]
  },
  {
   "cell_type": "code",
   "execution_count": 17,
   "metadata": {},
   "outputs": [
    {
     "name": "stdout",
     "output_type": "stream",
     "text": [
      "Model: \"sequential_4\"\n",
      "_________________________________________________________________\n",
      " Layer (type)                Output Shape              Param #   \n",
      "=================================================================\n",
      " flatten_4 (Flatten)         (None, 784)               0         \n",
      "                                                                 \n",
      " dense_8 (Dense)             (None, 100)               78500     \n",
      "                                                                 \n",
      " dropout (Dropout)           (None, 100)               0         \n",
      "                                                                 \n",
      " dense_9 (Dense)             (None, 10)                1010      \n",
      "                                                                 \n",
      "=================================================================\n",
      "Total params: 79,510\n",
      "Trainable params: 79,510\n",
      "Non-trainable params: 0\n",
      "_________________________________________________________________\n"
     ]
    }
   ],
   "source": [
    "# model에 dropout을 추가\n",
    "\n",
    "model = model_fu(keras.layers.Dropout(0.3)) # dropout 30%\n",
    "model.summary()"
   ]
  },
  {
   "cell_type": "code",
   "execution_count": 18,
   "metadata": {},
   "outputs": [
    {
     "name": "stdout",
     "output_type": "stream",
     "text": [
      "Epoch 1/20\n",
      "1500/1500 [==============================] - 4s 2ms/step - loss: 0.5889 - accuracy: 0.7924 - val_loss: 0.4316 - val_accuracy: 0.8441\n",
      "Epoch 2/20\n",
      "1500/1500 [==============================] - 3s 2ms/step - loss: 0.4408 - accuracy: 0.8409 - val_loss: 0.3847 - val_accuracy: 0.8614\n",
      "Epoch 3/20\n",
      "1500/1500 [==============================] - 3s 2ms/step - loss: 0.4049 - accuracy: 0.8521 - val_loss: 0.3709 - val_accuracy: 0.8629\n",
      "Epoch 4/20\n",
      "1500/1500 [==============================] - 4s 2ms/step - loss: 0.3834 - accuracy: 0.8612 - val_loss: 0.3632 - val_accuracy: 0.8696\n",
      "Epoch 5/20\n",
      "1500/1500 [==============================] - 3s 2ms/step - loss: 0.3710 - accuracy: 0.8630 - val_loss: 0.3515 - val_accuracy: 0.8730\n",
      "Epoch 6/20\n",
      "1500/1500 [==============================] - 3s 2ms/step - loss: 0.3551 - accuracy: 0.8686 - val_loss: 0.3389 - val_accuracy: 0.8774\n",
      "Epoch 7/20\n",
      "1500/1500 [==============================] - 3s 2ms/step - loss: 0.3418 - accuracy: 0.8747 - val_loss: 0.3423 - val_accuracy: 0.8757\n",
      "Epoch 8/20\n",
      "1500/1500 [==============================] - 3s 2ms/step - loss: 0.3378 - accuracy: 0.8756 - val_loss: 0.3358 - val_accuracy: 0.8758\n",
      "Epoch 9/20\n",
      "1500/1500 [==============================] - 3s 2ms/step - loss: 0.3302 - accuracy: 0.8795 - val_loss: 0.3250 - val_accuracy: 0.8794\n",
      "Epoch 10/20\n",
      "1500/1500 [==============================] - 3s 2ms/step - loss: 0.3196 - accuracy: 0.8825 - val_loss: 0.3205 - val_accuracy: 0.8830\n",
      "Epoch 11/20\n",
      "1500/1500 [==============================] - 3s 2ms/step - loss: 0.3163 - accuracy: 0.8818 - val_loss: 0.3234 - val_accuracy: 0.8826\n",
      "Epoch 12/20\n",
      "1500/1500 [==============================] - 3s 2ms/step - loss: 0.3124 - accuracy: 0.8843 - val_loss: 0.3199 - val_accuracy: 0.8829\n",
      "Epoch 13/20\n",
      "1500/1500 [==============================] - 3s 2ms/step - loss: 0.3048 - accuracy: 0.8851 - val_loss: 0.3228 - val_accuracy: 0.8795\n",
      "Epoch 14/20\n",
      "1500/1500 [==============================] - 3s 2ms/step - loss: 0.2998 - accuracy: 0.8886 - val_loss: 0.3225 - val_accuracy: 0.8859\n",
      "Epoch 15/20\n",
      "1500/1500 [==============================] - 3s 2ms/step - loss: 0.2973 - accuracy: 0.8889 - val_loss: 0.3297 - val_accuracy: 0.8817\n",
      "Epoch 16/20\n",
      "1500/1500 [==============================] - 3s 2ms/step - loss: 0.2908 - accuracy: 0.8899 - val_loss: 0.3179 - val_accuracy: 0.8824\n",
      "Epoch 17/20\n",
      "1500/1500 [==============================] - 3s 2ms/step - loss: 0.2886 - accuracy: 0.8916 - val_loss: 0.3310 - val_accuracy: 0.8844\n",
      "Epoch 18/20\n",
      "1500/1500 [==============================] - 3s 2ms/step - loss: 0.2827 - accuracy: 0.8928 - val_loss: 0.3315 - val_accuracy: 0.8821\n",
      "Epoch 19/20\n",
      "1500/1500 [==============================] - 3s 2ms/step - loss: 0.2799 - accuracy: 0.8947 - val_loss: 0.3353 - val_accuracy: 0.8814\n",
      "Epoch 20/20\n",
      "1500/1500 [==============================] - 3s 2ms/step - loss: 0.2793 - accuracy: 0.8955 - val_loss: 0.3303 - val_accuracy: 0.8826\n"
     ]
    }
   ],
   "source": [
    "model.compile(optimizer='adam',loss='sparse_categorical_crossentropy',metrics='accuracy')\n",
    "histrory = model.fit(train_scaled,train_target,epochs=20,\n",
    "                        validation_data = (val_scaled,val_target)\n",
    ")"
   ]
  },
  {
   "cell_type": "code",
   "execution_count": 19,
   "metadata": {},
   "outputs": [
    {
     "data": {
      "image/png": "[encoded data removed]",
      "text/plain": [
       "<Figure size 432x288 with 1 Axes>"
      ]
     },
     "metadata": {
      "needs_background": "light"
     },
     "output_type": "display_data"
    }
   ],
   "source": [
    "plt.plot(histrory.history['loss'])\n",
    "plt.plot(histrory.history['val_loss'])\n",
    "plt.xlabel('epoch')\n",
    "plt.ylabel('loss')\n",
    "plt.legend(['train','validation'])\n",
    "plt.show()"
   ]
  },
  {
   "cell_type": "markdown",
   "metadata": {},
   "source": [
    "> epochs가 10일 경우가 trainrhk val의 차이가 적은것 같다.   \n",
    "> 기본적으로 훈련세트의 손실이 검증세트보다 적게 나오는 epochs의 갯수를 선택한다"
   ]
  },
  {
   "cell_type": "markdown",
   "metadata": {},
   "source": [
    "---\n",
    "### 모델의 저장과 복원\n",
    "- hdf5 format으로 저장"
   ]
  },
  {
   "cell_type": "code",
   "execution_count": 20,
   "metadata": {},
   "outputs": [],
   "source": [
    "# model 저장\n",
    "model.save(\"../Data/model-whole.h5\")"
   ]
  },
  {
   "cell_type": "code",
   "execution_count": 21,
   "metadata": {},
   "outputs": [],
   "source": [
    "# 복원\n",
    "model = keras.models.load_model(\"../Data/model-whole.h5\")"
   ]
  },
  {
   "cell_type": "code",
   "execution_count": 22,
   "metadata": {},
   "outputs": [
    {
     "name": "stdout",
     "output_type": "stream",
     "text": [
      "375/375 [==============================] - 1s 1ms/step - loss: 0.3303 - accuracy: 0.8826\n"
     ]
    },
    {
     "data": {
      "text/plain": [
       "[0.3303261697292328, 0.8825833201408386]"
      ]
     },
     "execution_count": 22,
     "metadata": {},
     "output_type": "execute_result"
    }
   ],
   "source": [
    "# 사용해보기\n",
    "model.evaluate(val_scaled,val_target)"
   ]
  },
  {
   "cell_type": "markdown",
   "metadata": {},
   "source": [
    "---\n",
    "### Callbacks\n",
    "- 훈련수행시 손실값이 제일 작은 함수를 저장해 준다 <- 굉장히 편함"
   ]
  },
  {
   "cell_type": "code",
   "execution_count": 23,
   "metadata": {},
   "outputs": [
    {
     "name": "stdout",
     "output_type": "stream",
     "text": [
      "Epoch 1/20\n",
      "1500/1500 [==============================] - 4s 2ms/step - loss: 0.5976 - accuracy: 0.7897 - val_loss: 0.4352 - val_accuracy: 0.8438\n",
      "Epoch 2/20\n",
      "1500/1500 [==============================] - 3s 2ms/step - loss: 0.4407 - accuracy: 0.8419 - val_loss: 0.3799 - val_accuracy: 0.8618\n",
      "Epoch 3/20\n",
      "1500/1500 [==============================] - 3s 2ms/step - loss: 0.4035 - accuracy: 0.8549 - val_loss: 0.3638 - val_accuracy: 0.8692\n",
      "Epoch 4/20\n",
      "1500/1500 [==============================] - 3s 2ms/step - loss: 0.3812 - accuracy: 0.8618 - val_loss: 0.3486 - val_accuracy: 0.8700\n",
      "Epoch 5/20\n",
      "1500/1500 [==============================] - 3s 2ms/step - loss: 0.3643 - accuracy: 0.8671 - val_loss: 0.3455 - val_accuracy: 0.8763\n",
      "Epoch 6/20\n",
      "1500/1500 [==============================] - 3s 2ms/step - loss: 0.3564 - accuracy: 0.8709 - val_loss: 0.3465 - val_accuracy: 0.8752\n",
      "Epoch 7/20\n",
      "1500/1500 [==============================] - 3s 2ms/step - loss: 0.3451 - accuracy: 0.8736 - val_loss: 0.3339 - val_accuracy: 0.8771\n",
      "Epoch 8/20\n",
      "1500/1500 [==============================] - 3s 2ms/step - loss: 0.3373 - accuracy: 0.8768 - val_loss: 0.3361 - val_accuracy: 0.8774\n",
      "Epoch 9/20\n",
      "1500/1500 [==============================] - 3s 2ms/step - loss: 0.3247 - accuracy: 0.8796 - val_loss: 0.3343 - val_accuracy: 0.8790\n",
      "Epoch 10/20\n",
      "1500/1500 [==============================] - 3s 2ms/step - loss: 0.3194 - accuracy: 0.8821 - val_loss: 0.3297 - val_accuracy: 0.8796\n",
      "Epoch 11/20\n",
      "1500/1500 [==============================] - 3s 2ms/step - loss: 0.3163 - accuracy: 0.8827 - val_loss: 0.3267 - val_accuracy: 0.8853\n",
      "Epoch 12/20\n",
      "1500/1500 [==============================] - 3s 2ms/step - loss: 0.3106 - accuracy: 0.8855 - val_loss: 0.3207 - val_accuracy: 0.8832\n",
      "Epoch 13/20\n",
      "1500/1500 [==============================] - 3s 2ms/step - loss: 0.3026 - accuracy: 0.8879 - val_loss: 0.3260 - val_accuracy: 0.8851\n",
      "Epoch 14/20\n",
      "1500/1500 [==============================] - 3s 2ms/step - loss: 0.3011 - accuracy: 0.8894 - val_loss: 0.3300 - val_accuracy: 0.8836\n",
      "Epoch 15/20\n",
      "1500/1500 [==============================] - 3s 2ms/step - loss: 0.2974 - accuracy: 0.8895 - val_loss: 0.3207 - val_accuracy: 0.8853\n",
      "Epoch 16/20\n",
      "1500/1500 [==============================] - 3s 2ms/step - loss: 0.2926 - accuracy: 0.8905 - val_loss: 0.3174 - val_accuracy: 0.8876\n",
      "Epoch 17/20\n",
      "1500/1500 [==============================] - 3s 2ms/step - loss: 0.2874 - accuracy: 0.8916 - val_loss: 0.3253 - val_accuracy: 0.8822\n",
      "Epoch 18/20\n",
      "1500/1500 [==============================] - 3s 2ms/step - loss: 0.2856 - accuracy: 0.8924 - val_loss: 0.3217 - val_accuracy: 0.8886\n",
      "Epoch 19/20\n",
      "1500/1500 [==============================] - 3s 2ms/step - loss: 0.2813 - accuracy: 0.8951 - val_loss: 0.3176 - val_accuracy: 0.8866\n",
      "Epoch 20/20\n",
      "1500/1500 [==============================] - 3s 2ms/step - loss: 0.2776 - accuracy: 0.8961 - val_loss: 0.3248 - val_accuracy: 0.8872\n"
     ]
    },
    {
     "data": {
      "text/plain": [
       "<keras.callbacks.History at 0x7fbe99c11550>"
      ]
     },
     "execution_count": 23,
     "metadata": {},
     "output_type": "execute_result"
    }
   ],
   "source": [
    "model = model_fu(keras.layers.Dropout(0.3)) # dropout 30%\n",
    "model.compile(optimizer='adam',loss='sparse_categorical_crossentropy',metrics='accuracy')\n",
    "checkpoint_cb = keras.callbacks.ModelCheckpoint(\"../Data/best-model.h5\")\n",
    "model.fit(train_scaled,train_target,epochs=20,\n",
    "                        validation_data = (val_scaled,val_target),\n",
    "                        callbacks = [checkpoint_cb]\n",
    ")"
   ]
  },
  {
   "cell_type": "code",
   "execution_count": 24,
   "metadata": {},
   "outputs": [
    {
     "name": "stdout",
     "output_type": "stream",
     "text": [
      "375/375 [==============================] - 1s 1ms/step - loss: 0.3248 - accuracy: 0.8872\n"
     ]
    },
    {
     "data": {
      "text/plain": [
       "[0.32477694749832153, 0.8871666789054871]"
      ]
     },
     "execution_count": 24,
     "metadata": {},
     "output_type": "execute_result"
    }
   ],
   "source": [
    "model = keras.models.load_model(\"../Data/best-model.h5\")\n",
    "model.evaluate(val_scaled,val_target)"
   ]
  },
  {
   "cell_type": "markdown",
   "metadata": {},
   "source": [
    "---\n",
    "# Early Stopping(조기종료)\n",
    "- Callbacks처럼 끝까지 기다리는 것이 아니고 hyper parameter을 선정하여 한계값을 정해 실행한다."
   ]
  },
  {
   "cell_type": "code",
   "execution_count": 25,
   "metadata": {},
   "outputs": [
    {
     "name": "stdout",
     "output_type": "stream",
     "text": [
      "Epoch 1/20\n",
      "1500/1500 [==============================] - 4s 3ms/step - loss: 0.5966 - accuracy: 0.7912 - val_loss: 0.4358 - val_accuracy: 0.8438\n",
      "Epoch 2/20\n",
      "1500/1500 [==============================] - 4s 2ms/step - loss: 0.4428 - accuracy: 0.8408 - val_loss: 0.3934 - val_accuracy: 0.8567\n",
      "Epoch 3/20\n",
      "1500/1500 [==============================] - 4s 2ms/step - loss: 0.4027 - accuracy: 0.8543 - val_loss: 0.3849 - val_accuracy: 0.8579\n",
      "Epoch 4/20\n",
      "1500/1500 [==============================] - 4s 3ms/step - loss: 0.3829 - accuracy: 0.8609 - val_loss: 0.3455 - val_accuracy: 0.8766\n",
      "Epoch 5/20\n",
      "1500/1500 [==============================] - 4s 3ms/step - loss: 0.3669 - accuracy: 0.8669 - val_loss: 0.3480 - val_accuracy: 0.8734\n",
      "Epoch 6/20\n",
      "1500/1500 [==============================] - 4s 3ms/step - loss: 0.3569 - accuracy: 0.8696 - val_loss: 0.3402 - val_accuracy: 0.8747\n",
      "Epoch 7/20\n",
      "1500/1500 [==============================] - 4s 2ms/step - loss: 0.3438 - accuracy: 0.8729 - val_loss: 0.3384 - val_accuracy: 0.8777\n",
      "Epoch 8/20\n",
      "1500/1500 [==============================] - 4s 3ms/step - loss: 0.3354 - accuracy: 0.8774 - val_loss: 0.3299 - val_accuracy: 0.8777\n",
      "Epoch 9/20\n",
      "1500/1500 [==============================] - 4s 3ms/step - loss: 0.3257 - accuracy: 0.8795 - val_loss: 0.3315 - val_accuracy: 0.8816\n",
      "Epoch 10/20\n",
      "1500/1500 [==============================] - 4s 2ms/step - loss: 0.3207 - accuracy: 0.8812 - val_loss: 0.3262 - val_accuracy: 0.8788\n",
      "Epoch 11/20\n",
      "1500/1500 [==============================] - 4s 2ms/step - loss: 0.3147 - accuracy: 0.8827 - val_loss: 0.3574 - val_accuracy: 0.8678\n",
      "Epoch 12/20\n",
      "1500/1500 [==============================] - 3s 2ms/step - loss: 0.3115 - accuracy: 0.8836 - val_loss: 0.3223 - val_accuracy: 0.8844\n",
      "Epoch 13/20\n",
      "1500/1500 [==============================] - 3s 2ms/step - loss: 0.3060 - accuracy: 0.8860 - val_loss: 0.3224 - val_accuracy: 0.8861\n",
      "Epoch 14/20\n",
      "1500/1500 [==============================] - 3s 2ms/step - loss: 0.3003 - accuracy: 0.8882 - val_loss: 0.3249 - val_accuracy: 0.8831\n"
     ]
    },
    {
     "data": {
      "text/plain": [
       "<keras.callbacks.History at 0x7fbe6cdf2820>"
      ]
     },
     "execution_count": 25,
     "metadata": {},
     "output_type": "execute_result"
    }
   ],
   "source": [
    "model = model_fu(keras.layers.Dropout(0.3)) # dropout 30%\n",
    "model.compile(optimizer='adam',loss='sparse_categorical_crossentropy',metrics='accuracy')\n",
    "checkpoint_cb = keras.callbacks.ModelCheckpoint(\"../Data/best-model.h5\")\n",
    "early_stopping_cb = keras.callbacks.EarlyStopping(patience=2, restore_best_weights=True)\n",
    "# True를 하지않으면 최저점 최저점 + alpha1, 최저점 + alpha2 중 최저점 + alpha2로 선택함\n",
    "model.fit(train_scaled,train_target,epochs=20,\n",
    "                        validation_data = (val_scaled,val_target),\n",
    "                        callbacks = [checkpoint_cb,early_stopping_cb]\n",
    ")"
   ]
  },
  {
   "cell_type": "code",
   "execution_count": 26,
   "metadata": {},
   "outputs": [
    {
     "data": {
      "text/plain": [
       "13"
      ]
     },
     "execution_count": 26,
     "metadata": {},
     "output_type": "execute_result"
    }
   ],
   "source": [
    "# 몇 번째 epochs에서 stop 되었는가?\n",
    "early_stopping_cb.stopped_epoch"
   ]
  },
  {
   "cell_type": "code",
   "execution_count": 27,
   "metadata": {},
   "outputs": [
    {
     "data": {
      "image/png": "[encoded data removed]",
      "text/plain": [
       "<Figure size 432x288 with 1 Axes>"
      ]
     },
     "metadata": {
      "needs_background": "light"
     },
     "output_type": "display_data"
    }
   ],
   "source": [
    "plt.plot(histrory.history['loss'])\n",
    "plt.plot(histrory.history['val_loss'])\n",
    "plt.xlabel('epoch')\n",
    "plt.ylabel('loss')\n",
    "plt.legend(['train','validation'])\n",
    "plt.show()"
   ]
  },
  {
   "cell_type": "markdown",
   "metadata": {},
   "source": [
    "### CNN(Convolution Neural Network)에서 본 심층신경망(다층 퍼셉트론)의 단점\n",
    "- 입력값으로 고유 이미지 생김새 정보를 알 수 없다.  2차원 배열 자료를 1차원으로 변경하여 작업이 시작된다. \n",
    "- 심층신경망은 픽셀 하나 하나의 변화에 상당히 민감하다. 이미지 생김새를 사용할 수 없으므로 한두개의 픽셀이 모델 예측에 영향을 끼친다. \n",
    "- 픽셀 한 두개의 정보에도 민감하게 반응하기 위해 상당히 많은 변수를 모델안에 가지고 있다. 이로 인해 학습시간이 오래 걸리고 잘못하면 과대적합이 발생한다."
   ]
  },
  {
   "cell_type": "markdown",
   "metadata": {},
   "source": [
    "### 합성공 신경망(CNN:Covolution Neural Network)의 구성요소\n",
    "- 밀집층 \n",
    "1차원 합성곱  \n",
    "- 합성곱 신경망은 노드의 가중치 갯수가 전체갯수가 아니고 정하여 사용함 (3,5개:가중치가 3개 혹은 5개)\n",
    "- 입력층을 아래로 한칸 이동하여 위에서 계산한 동일한 가중치와 절편을 사용한다. \n",
    "- 밀집층보다 가중치의 갯수가 훨씬 작음. \n",
    "- 10개의 입력이 있으면 출력은 8개만 만들어짐\n",
    "- 3개씩 있는 것을 필터라고 하며 필터의 커널은 3이다.\n",
    "\n",
    "2차원 합성곱\n",
    "- 이미지의 크기는 4 X 4\n",
    "- 필터의 커널은 3 X 3이고 각 입력층에 곱해지는 Weight와 Bias는 동일하다.\n",
    "- 발생하는 출력의 개수는 2 X 2개이다.\n",
    "\n",
    "특성맵 (발생하는 출력물)\n",
    "- 특성맵을 활성화 출력이라고도 한다. 이유는 커널과 특성맵 사이에 활성화 함수(Relu)가 들어가기 때문이다.\n",
    "- 참고) w : Activate function\n",
    "- 그러나 CNN에서는 특성맵이라고 불리운다.\n",
    "- 2차원으로 구성된 입력층을 그대로 특성맵도 2차원으로 출력한다. (차원은 변하지않음)\n",
    "\n",
    "여러개의 필터   \n",
    "- 참고) 필터가 증가하게 되면 차원이 늘어나고 특성을 더 잘 찾을 수 있음 \n",
    "- 필터가 여러개 이므로 모든 가중치와 절편이 달라야 한다.\n",
    "- 특성맵의 구성은 가로 X 세로 X 필터의 갯수로 3차원이 생성됨. \n",
    "\n",
    "예시) 합성곱 기본 code      \n",
    "&emsp;&emsp;<b>keras.layers.Conv2D(10,kernel_size=(3,3),activation='relu')</b>          \n",
    "&emsp;&emsp;10 : 필터의 갯수 , kernel_size = n by n, CNN에서는 거의 relu 함수를 이용함\n",
    "\n",
    "Padding   \n",
    "- 입력값과 동일한 특성맵의 크기를 구하는 방법으로 same패딩이 있으며, vaild는 Padding이 없이 구하는 방법이다. \n",
    "\n",
    "예시) 합성곱 code with Padding        \n",
    "&emsp;&emsp;<b>keras.layers.Conv2D(10,kernel_size=(3,3),activation='relu',padding='same')</b>          \n",
    "\n",
    "Stride   \n",
    "- 필터의 이동을 한칸씩이 아닌 여러칸으로 이동할 경우, 이 이동하는 크기를 stride라고 함.   \n",
    "- 아주 특수한 경우를 빼고는 stride는 1을 초과하여 사용하지 않는다.    \n",
    "\n",
    "예시) 합성곱 code with Padding and stride       \n",
    "&emsp;&emsp;<b>keras.layers.Conv2D(10,kernel_size=(3,3),activation='relu',padding='same',stride = 1)</b>          \n",
    "\n",
    "Pooling층   \n",
    "- 특성맵의 다음단계로 차원축소를 하는 필터   \n",
    "- 최대풀링, 평균풀링으로 2종류가 있다.  \n",
    "\n",
    "&emsp;최대풀링의 경우      \n",
    "&emsp;- 풀링의 경우 계산하는 값이 픽셀과 겹치지 않는다.    \n",
    "&emsp;- 풀링은 가중치가 없으며 풀링의 결과도 특성맵이라고도 한다.     "
   ]
  },
  {
   "cell_type": "code",
   "execution_count": null,
   "metadata": {},
   "outputs": [],
   "source": []
  }
 ],
 "metadata": {
  "kernelspec": {
   "display_name": "Python 3.9.7 ('base')",
   "language": "python",
   "name": "python3"
  },
  "language_info": {
   "codemirror_mode": {
    "name": "ipython",
    "version": 3
   },
   "file_extension": ".py",
   "mimetype": "text/x-python",
   "name": "python",
   "nbconvert_exporter": "python",
   "pygments_lexer": "ipython3",
   "version": "3.9.7"
  },
  "orig_nbformat": 4,
  "vscode": {
   "interpreter": {
    "hash": "c34e8390e776d2ee205b71ed5a6130fee3cef8da5e87e926ce18e14f4a070d72"
   }
  }
 },
 "nbformat": 4,
 "nbformat_minor": 2
}

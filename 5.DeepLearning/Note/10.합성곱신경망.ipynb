{
 "cells": [
  {
   "cell_type": "markdown",
   "metadata": {},
   "source": [
    "### CNN(Convolution Neural Network)에서 본 심층신경망(다층 퍼셉트론)의 단점\n",
    "- 입력값으로 고유 이미지 생김새 정보를 알 수 없다.  2차원 배열 자료를 1차원으로 변경하여 작업이 시작된다. \n",
    "- 심층신경망은 픽셀 하나 하나의 변화에 상당히 민감하다. 이미지 생김새를 사용할 수 없으므로 한두개의 픽셀이 모델 예측에 영향을 끼친다. \n",
    "- 픽셀 한 두개의 정보에도 민감하게 반응하기 위해 상당히 많은 변수를 모델안에 가지고 있다. 이로 인해 학습시간이 오래 걸리고 잘못하면 과대적합이 발생한다."
   ]
  },
  {
   "cell_type": "markdown",
   "metadata": {},
   "source": [
    "### 합성공 신경망(CNN:Covolution Neural Network)의 구성요소\n",
    "- 밀집층 \n",
    "1차원 합성곱  \n",
    "- 합성곱 신경망은 노드의 가중치 갯수가 전체갯수가 아니고 정하여 사용함 (3,5개:가중치가 3개 혹은 5개)\n",
    "- 입력층을 아래로 한칸 이동하여 위에서 계산한 동일한 가중치와 절편을 사용한다. \n",
    "- 밀집층보다 가중치의 갯수가 훨씬 작음. \n",
    "- 10개의 입력이 있으면 출력은 8개만 만들어짐\n",
    "- 3개씩 있는 것을 필터라고 하며 필터의 커널은 3이다.\n",
    "\n",
    "2차원 합성곱\n",
    "- 이미지의 크기는 4 X 4\n",
    "- 필터의 커널은 3 X 3이고 각 입력층에 곱해지는 Weight와 Bias는 동일하다.\n",
    "- 발생하는 출력의 개수는 2 X 2개이다.\n",
    "\n",
    "특성맵 (발생하는 출력물)\n",
    "- 특성맵을 활성화 출력이라고도 한다. 이유는 커널과 특성맵 사이에 활성화 함수(Relu)가 들어가기 때문이다.\n",
    "- 참고) w : Activate function\n",
    "- 그러나 CNN에서는 특성맵이라고 불리운다.\n",
    "- 2차원으로 구성된 입력층을 그대로 특성맵도 2차원으로 출력한다. (차원은 변하지않음)\n",
    "\n",
    "여러개의 필터   \n",
    "- 참고) 필터가 증가하게 되면 차원이 늘어나고 특성을 더 잘 찾을 수 있음 \n",
    "- 필터가 여러개 이므로 모든 가중치와 절편이 달라야 한다.\n",
    "- 특성맵의 구성은 가로 X 세로 X 필터의 갯수로 3차원이 생성됨. \n",
    "\n",
    "예시) 합성곱 기본 code      \n",
    "&emsp;&emsp;<b>keras.layers.Conv2D(10,kernel_size=(3,3),activation='relu')</b>          \n",
    "&emsp;&emsp;10 : 필터의 갯수 , kernel_size = n by n, CNN에서는 거의 relu 함수를 이용함\n",
    "\n",
    "Padding   \n",
    "- 입력값과 동일한 특성맵의 크기를 구하는 방법으로 same패딩이 있으며, vaild는 Padding이 없이 구하는 방법이다. \n",
    "\n",
    "예시) 합성곱 code with Padding        \n",
    "&emsp;&emsp;<b>keras.layers.Conv2D(10,kernel_size=(3,3),activation='relu',padding='same')</b>          \n",
    "\n",
    "Stride   \n",
    "- 필터의 이동을 한칸씩이 아닌 여러칸으로 이동할 경우, 이 이동하는 크기를 stride라고 함.   \n",
    "- 아주 특수한 경우를 빼고는 stride는 1을 초과하여 사용하지 않는다.    \n",
    "\n",
    "예시) 합성곱 code with Padding and stride       \n",
    "&emsp;&emsp;<b>keras.layers.Conv2D(10,kernel_size=(3,3),activation='relu',padding='same',stride = 1)</b>          \n",
    "\n",
    "Pooling층   \n",
    "- 특성맵의 다음단계로 차원축소를 하는 필터   \n",
    "- 최대풀링, 평균풀링으로 2종류가 있다.  \n",
    "\n",
    "&emsp;최대풀링의 경우      \n",
    "&emsp;- 풀링의 경우 계산하는 값이 픽셀과 겹치지 않는다.    \n",
    "&emsp;- 풀링은 가중치가 없으며 풀링의 결과도 특성맵이라고도 한다.     "
   ]
  }
 ],
 "metadata": {
  "kernelspec": {
   "display_name": "Python 3.9.7 ('base')",
   "language": "python",
   "name": "python3"
  },
  "language_info": {
   "name": "python",
   "version": "3.9.7"
  },
  "orig_nbformat": 4,
  "vscode": {
   "interpreter": {
    "hash": "c34e8390e776d2ee205b71ed5a6130fee3cef8da5e87e926ce18e14f4a070d72"
   }
  }
 },
 "nbformat": 4,
 "nbformat_minor": 2
}

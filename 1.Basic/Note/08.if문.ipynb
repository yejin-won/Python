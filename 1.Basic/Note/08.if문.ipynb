{
 "cells": [
  {
   "cell_type": "code",
   "execution_count": 1,
   "metadata": {},
   "outputs": [],
   "source": [
    "from random import randint"
   ]
  },
  {
   "cell_type": "code",
   "execution_count": 2,
   "metadata": {},
   "outputs": [
    {
     "data": {
      "text/plain": [
       "59"
      ]
     },
     "execution_count": 2,
     "metadata": {},
     "output_type": "execute_result"
    }
   ],
   "source": [
    "randint(1,100)"
   ]
  },
  {
   "cell_type": "code",
   "execution_count": 7,
   "metadata": {},
   "outputs": [
    {
     "name": "stdout",
     "output_type": "stream",
     "text": [
      "50보다 큽니다.\n"
     ]
    }
   ],
   "source": [
    "x = randint(1,100)\n",
    "\n",
    "if x> 70:\n",
    "    print(\"70보다 큽니다.\")\n",
    "elif x > 50:\n",
    "    print(\"50보다 큽니다.\")\n",
    "elif x > 30:\n",
    "    print(\"30보다 큽니다.\")\n",
    "else:\n",
    "    print(\"0보다 큽니다.\")\n"
   ]
  },
  {
   "cell_type": "code",
   "execution_count": 9,
   "metadata": {},
   "outputs": [
    {
     "name": "stdout",
     "output_type": "stream",
     "text": [
      "9는 홀수입니다.\n"
     ]
    }
   ],
   "source": [
    "# 홀짝수 구분\n",
    "\n",
    "x = 9\n",
    "\n",
    "if x%2 == 0:\n",
    "    print(\"%d는 짝수입니다\"%x)\n",
    "else:\n",
    "    print(\"%d는 홀수입니다.\"%x)"
   ]
  },
  {
   "cell_type": "code",
   "execution_count": 14,
   "metadata": {},
   "outputs": [
    {
     "data": {
      "text/plain": [
       "int"
      ]
     },
     "execution_count": 14,
     "metadata": {},
     "output_type": "execute_result"
    }
   ],
   "source": [
    "# 사용자로부터 숫자를 입력 받자!\n",
    "\n",
    "number = int(input(\"숫자를 입력하세요! : \") )\n",
    "type(number)"
   ]
  },
  {
   "cell_type": "code",
   "execution_count": 17,
   "metadata": {},
   "outputs": [
    {
     "name": "stdout",
     "output_type": "stream",
     "text": [
      "10는 짝수입니다.\n"
     ]
    }
   ],
   "source": [
    "# ex1. 입력숫자 짝수/홀수 판단\n",
    "\n",
    "number = int(input(\"숫자를 입력하세요: \"))\n",
    "\n",
    "if number%2 == 0:\n",
    "    print(\"%d는 짝수입니다.\"%number)\n",
    "else:\n",
    "    print(\"%d는 홀수입니다.\"%number)"
   ]
  },
  {
   "cell_type": "code",
   "execution_count": 23,
   "metadata": {},
   "outputs": [
    {
     "name": "stdout",
     "output_type": "stream",
     "text": [
      "점수는 85이고, B학접입니다.\n"
     ]
    }
   ],
   "source": [
    "# ex2. 학점 계산하기\n",
    "\n",
    "number = int(input(\"숫자를 입력하세요: \"))\n",
    "\n",
    "if number >= 90:\n",
    "    print(\"점수는 %d이고, A학접입니다.\"%number)\n",
    "elif number >= 80:\n",
    "    print(\"점수는 %d이고, B학접입니다.\"%number)\n",
    "elif number >= 70:\n",
    "    print(\"점수는 %d이고, C학접입니다.\"%number)\n",
    "elif number >= 60:\n",
    "    print(\"점수는 %d이고, D학접입니다.\"%number)\n",
    "else:\n",
    "    print(\"점수는 %d이고, F학접입니다.\"%number)"
   ]
  },
  {
   "cell_type": "code",
   "execution_count": 36,
   "metadata": {},
   "outputs": [
    {
     "name": "stdout",
     "output_type": "stream",
     "text": [
      "입력한 3(은)는 5의 배수가 아니므로 결과는 3 이다.\n"
     ]
    }
   ],
   "source": [
    "# 사용자로부터 숫자를 입력받아 5의 배수이면 제곱근을 구하고 그렇지 않으면 원래 수를 출력하기\n",
    "\n",
    "import math\n",
    "\n",
    "number = int(input(\"숫자를 입력하세요: \"))\n",
    "\n",
    "if number % 5 == 0:\n",
    "    print(\"입력한 %d(은)는 5의 배수이므로 결과(5의 제곱근)는\"%number,math.sqrt(number),\"이다.\")\n",
    "else:\n",
    "    print(\"입력한 %d(은)는 5의 배수가 아니므로 결과는 %d 이다.\"%(number,number))"
   ]
  },
  {
   "cell_type": "code",
   "execution_count": 44,
   "metadata": {},
   "outputs": [
    {
     "name": "stdout",
     "output_type": "stream",
     "text": [
      "신용카드를 사용해 택시 타기!\n",
      "---END---\n"
     ]
    }
   ],
   "source": [
    "# list의 내용을 if문으로 확인하기\n",
    "\n",
    "pocket = ['paper','smartphone']\n",
    "card = 1\n",
    "if 'money' in pocket:\n",
    "    print(\"현금으로 택시타기!\")\n",
    "elif card:\n",
    "    print(\"신용카드를 사용해 택시 타기!\")\n",
    "else:\n",
    "    print(\"튼튼한 다리를 사용!\")\n",
    "print(\"---END---\")"
   ]
  },
  {
   "cell_type": "code",
   "execution_count": 43,
   "metadata": {},
   "outputs": [
    {
     "name": "stdout",
     "output_type": "stream",
     "text": [
      "18\n"
     ]
    }
   ],
   "source": [
    "# 삼항 연산자\n",
    "# 변수 = 참인경우 if(조건문) else (거짓인 경우)\n",
    "\n",
    "num = 9\n",
    "result = 0\n",
    "\n",
    "result = num * 2 if num >= 5 else num + 2\n",
    "print(result)"
   ]
  },
  {
   "cell_type": "code",
   "execution_count": null,
   "metadata": {},
   "outputs": [],
   "source": []
  },
  {
   "cell_type": "code",
   "execution_count": null,
   "metadata": {},
   "outputs": [],
   "source": []
  },
  {
   "cell_type": "code",
   "execution_count": null,
   "metadata": {},
   "outputs": [],
   "source": []
  },
  {
   "cell_type": "code",
   "execution_count": null,
   "metadata": {},
   "outputs": [],
   "source": []
  },
  {
   "cell_type": "code",
   "execution_count": null,
   "metadata": {},
   "outputs": [],
   "source": []
  }
 ],
 "metadata": {
  "kernelspec": {
   "display_name": "Python 3.9.7 ('base')",
   "language": "python",
   "name": "python3"
  },
  "language_info": {
   "codemirror_mode": {
    "name": "ipython",
    "version": 3
   },
   "file_extension": ".py",
   "mimetype": "text/x-python",
   "name": "python",
   "nbconvert_exporter": "python",
   "pygments_lexer": "ipython3",
   "version": "3.9.7"
  },
  "orig_nbformat": 4,
  "vscode": {
   "interpreter": {
    "hash": "c34e8390e776d2ee205b71ed5a6130fee3cef8da5e87e926ce18e14f4a070d72"
   }
  }
 },
 "nbformat": 4,
 "nbformat_minor": 2
}

{
 "cells": [
  {
   "cell_type": "markdown",
   "metadata": {},
   "source": [
    "# 자료형의 참과 거짓\n",
    "- 문자열인 경우 \"\"안에 data가 없으면 거짓, data가 있으면 참.\n",
    "- 리스트인 경우 []안에 data가 없으면 거짓, data가 있으면 참.\n",
    "- 튜플인 경우 ()안에 data가 없으면 거짓, data가 있으면 참.\n",
    "- 딕셔너리인 경우 {}안에 data가 없으면 거짓, data가 있으면 참.\n",
    "- 숫자인 경우 0이면 거짓, 0이 아닌 숫자는 참."
   ]
  },
  {
   "cell_type": "code",
   "execution_count": 1,
   "metadata": {},
   "outputs": [
    {
     "name": "stdout",
     "output_type": "stream",
     "text": [
      "4\n",
      "3\n",
      "2\n",
      "1\n"
     ]
    }
   ],
   "source": [
    "# 리스트형에서 자료 출력하면서 자료 지우기\n",
    "var = [1,2,3,4]\n",
    "while var:   # var가 true이면..\n",
    "    print(var.pop())"
   ]
  },
  {
   "cell_type": "code",
   "execution_count": 3,
   "metadata": {},
   "outputs": [
    {
     "name": "stdout",
     "output_type": "stream",
     "text": [
      "False\n",
      "False\n"
     ]
    }
   ],
   "source": [
    "# 숫자의 참과 거짓\n",
    "\n",
    "var01 = 3\n",
    "var02 = 1\n",
    "\n",
    "print(var01 == var02)\n",
    "print(var01 is var02)"
   ]
  },
  {
   "cell_type": "code",
   "execution_count": 4,
   "metadata": {},
   "outputs": [],
   "source": [
    "# 튜플을 이용한 변수 생성\n",
    "\n",
    "var01, var02 = 1, 2\n",
    "(var01, var02) = (1, 'Lee')\n",
    "var01 = var02 = \"Lee\""
   ]
  },
  {
   "cell_type": "code",
   "execution_count": 7,
   "metadata": {},
   "outputs": [
    {
     "name": "stdout",
     "output_type": "stream",
     "text": [
      "Lee\n",
      "Lee\n",
      "Kim\n",
      "Lee\n"
     ]
    }
   ],
   "source": [
    "print(var01)\n",
    "print(var02)\n",
    "var01 = \"Kim\"\n",
    "print(var01)\n",
    "print(var02)"
   ]
  },
  {
   "cell_type": "code",
   "execution_count": 8,
   "metadata": {},
   "outputs": [
    {
     "name": "stdout",
     "output_type": "stream",
     "text": [
      "5\n",
      "3\n"
     ]
    }
   ],
   "source": [
    "# 변수 값 교환\n",
    "\n",
    "var01, var02 = 3, 5\n",
    "var01, var02 = var02, var01\n",
    "print(var01)\n",
    "print(var02)"
   ]
  },
  {
   "cell_type": "code",
   "execution_count": 9,
   "metadata": {},
   "outputs": [
    {
     "name": "stdout",
     "output_type": "stream",
     "text": [
      "[1, 4, 6]\n",
      "[1, 4, 6]\n"
     ]
    }
   ],
   "source": [
    "# 리스트의 복사\n",
    "\n",
    "var01 = [1,2,3]\n",
    "var02 = var01 # call by reference(주소가 똑같아 같은 값을 출력)\n",
    "var01[1] =  4 # 예상 : var01 = [1,4,3]\n",
    "var02[2] = 6  # 예상 : var01 = [1,2,6]\n",
    "print(var01) # 결과 : var01 = var02 = [1,4,6] => 해당 복사는 잘못된 방법임 \n",
    "print(var02)"
   ]
  },
  {
   "cell_type": "code",
   "execution_count": 10,
   "metadata": {},
   "outputs": [
    {
     "data": {
      "text/plain": [
       "True"
      ]
     },
     "execution_count": 10,
     "metadata": {},
     "output_type": "execute_result"
    }
   ],
   "source": [
    "var01 is var02"
   ]
  },
  {
   "cell_type": "code",
   "execution_count": 13,
   "metadata": {},
   "outputs": [
    {
     "name": "stdout",
     "output_type": "stream",
     "text": [
      "[1, 4, 3]\n",
      "[1, 4, 3]\n",
      "[1, 2, 3]\n"
     ]
    }
   ],
   "source": [
    "# Slicing을 이용한 리스트의 복사\n",
    "\n",
    "var01 = [1,2,3]\n",
    "var02 = var01[:]\n",
    "var01[1] = 4\n",
    "print(var01[:])\n",
    "print(var01)\n",
    "print(var02)\n"
   ]
  },
  {
   "cell_type": "code",
   "execution_count": 12,
   "metadata": {},
   "outputs": [
    {
     "name": "stdout",
     "output_type": "stream",
     "text": [
      "[1, 4, 3]\n",
      "[1, 2, 3]\n"
     ]
    }
   ],
   "source": [
    "# Modules을 이용한 리스트의 복사\n",
    "\n",
    "from copy import copy\n",
    "\n",
    "var01 = [1,2,3]\n",
    "var02 = copy(var01)\n",
    "var01[1] = 4\n",
    "print(var01)\n",
    "print(var02)"
   ]
  },
  {
   "cell_type": "code",
   "execution_count": 15,
   "metadata": {},
   "outputs": [
    {
     "name": "stdout",
     "output_type": "stream",
     "text": [
      "True\n",
      "False\n"
     ]
    }
   ],
   "source": [
    "# 리스트의 데이터 유무를 판단하여 True와 False값 Return하기\n",
    "\n",
    "var = [1,2,3,4]\n",
    "\n",
    "print(4 in var) # 4가 var에 존재하는지 bool값 출력\n",
    "print(5 in var)"
   ]
  },
  {
   "cell_type": "code",
   "execution_count": null,
   "metadata": {},
   "outputs": [],
   "source": []
  },
  {
   "cell_type": "code",
   "execution_count": null,
   "metadata": {},
   "outputs": [],
   "source": []
  },
  {
   "cell_type": "code",
   "execution_count": null,
   "metadata": {},
   "outputs": [],
   "source": []
  },
  {
   "cell_type": "code",
   "execution_count": null,
   "metadata": {},
   "outputs": [],
   "source": []
  }
 ],
 "metadata": {
  "kernelspec": {
   "display_name": "Python 3.9.7 ('base')",
   "language": "python",
   "name": "python3"
  },
  "language_info": {
   "codemirror_mode": {
    "name": "ipython",
    "version": 3
   },
   "file_extension": ".py",
   "mimetype": "text/x-python",
   "name": "python",
   "nbconvert_exporter": "python",
   "pygments_lexer": "ipython3",
   "version": "3.9.7"
  },
  "orig_nbformat": 4,
  "vscode": {
   "interpreter": {
    "hash": "c34e8390e776d2ee205b71ed5a6130fee3cef8da5e87e926ce18e14f4a070d72"
   }
  }
 },
 "nbformat": 4,
 "nbformat_minor": 2
}

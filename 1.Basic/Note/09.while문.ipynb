{
 "cells": [
  {
   "cell_type": "code",
   "execution_count": 1,
   "metadata": {},
   "outputs": [
    {
     "name": "stdout",
     "output_type": "stream",
     "text": [
      "나무를 1번 찍었습니다.\n",
      "나무를 2번 찍었습니다.\n",
      "나무를 3번 찍었습니다.\n",
      "나무를 4번 찍었습니다.\n",
      "나무를 5번 찍었습니다.\n",
      "나무를 6번 찍었습니다.\n",
      "나무를 7번 찍었습니다.\n",
      "나무를 8번 찍었습니다.\n",
      "나무를 9번 찍었습니다.\n",
      "나무를 10번 찍었습니다.\n",
      "나무 넘어 갑니다.\n"
     ]
    }
   ],
   "source": [
    "treeHit = 0\n",
    "\n",
    "while treeHit < 10:\n",
    "    treeHit += 1 # treeHit++ 불가\n",
    "    print(\"나무를 %d번 찍었습니다.\"%treeHit)\n",
    "    if(treeHit == 10):\n",
    "        print(\"나무 넘어 갑니다.\")"
   ]
  },
  {
   "cell_type": "code",
   "execution_count": 6,
   "metadata": {},
   "outputs": [],
   "source": [
    "promt = \"\"\"\n",
    "1. 덧셈\n",
    "2. 곱셈\n",
    "3. 나눗셈\n",
    "4. 종료\n",
    "\n",
    "숫자를 입력하세요:\n",
    "\"\"\""
   ]
  },
  {
   "cell_type": "code",
   "execution_count": 8,
   "metadata": {},
   "outputs": [
    {
     "name": "stdout",
     "output_type": "stream",
     "text": [
      "\n",
      "1. 덧셈\n",
      "2. 곱셈\n",
      "3. 나눗셈\n",
      "4. 종료\n",
      "\n",
      "숫자를 입력하세요:\n",
      "\n",
      "\n",
      "1. 덧셈\n",
      "2. 곱셈\n",
      "3. 나눗셈\n",
      "4. 종료\n",
      "\n",
      "숫자를 입력하세요:\n",
      "\n",
      "\n",
      "1. 덧셈\n",
      "2. 곱셈\n",
      "3. 나눗셈\n",
      "4. 종료\n",
      "\n",
      "숫자를 입력하세요:\n",
      "\n",
      "\n",
      "1. 덧셈\n",
      "2. 곱셈\n",
      "3. 나눗셈\n",
      "4. 종료\n",
      "\n",
      "숫자를 입력하세요:\n",
      "\n"
     ]
    }
   ],
   "source": [
    "number = 0\n",
    "while number != 4:\n",
    "    print(promt)\n",
    "    number = int(input())"
   ]
  },
  {
   "cell_type": "raw",
   "metadata": {},
   "source": [
    "5번의 커피를 판매할 수 있는 커피 자판기가 있다.\n",
    "커피의 금액은 300원이다.\n",
    "300원 보다 큰 금액을 입력하면 커피를 주고 (커피의 판매횟수 감소) 거스름돈을 준다.\n",
    "커피의 판매 횟수를 소진하면 판매를 중지한다."
   ]
  },
  {
   "cell_type": "code",
   "execution_count": 14,
   "metadata": {},
   "outputs": [
    {
     "name": "stdout",
     "output_type": "stream",
     "text": [
      "거스름돈은 700입니다.\n",
      "커피 판매횟수는 4 남았습니다.\n",
      "\n",
      "거스름돈은 400입니다.\n",
      "커피 판매횟수는 3 남았습니다.\n",
      "\n",
      "거스름돈은 100입니다.\n",
      "커피 판매횟수는 2 남았습니다.\n",
      "\n",
      "돈이 부족합니다.\n",
      "커피 판매횟수는 0 남았습니다.\n",
      "---END---\n"
     ]
    }
   ],
   "source": [
    "coffee = 5\n",
    "while coffee != 0:\n",
    "    money = int(input(\"금액을 입력하세요 : \"))\n",
    "    if money > 300:\n",
    "        money -= 300\n",
    "        coffee -= 1\n",
    "        print(\"거스름돈은 %d입니다.\"%money)\n",
    "        print(\"커피 판매횟수는 %d 남았습니다.\"%coffee)\n",
    "        print(\"\")\n",
    "    elif money == 300:\n",
    "        money = 0\n",
    "        coffee -= 1\n",
    "        print(\"거스름돈은 %d입니다.\"%money)\n",
    "        print(\"커피 판매횟수는 %d 남았습니다.\"%coffee)\n",
    "    else:\n",
    "        coffee = 0\n",
    "        print(\"돈이 부족합니다.\")\n",
    "        print(\"커피 판매횟수는 %d 남았습니다.\"%coffee)\n",
    "        print(\"---END---\")\n"
   ]
  },
  {
   "cell_type": "code",
   "execution_count": 21,
   "metadata": {},
   "outputs": [
    {
     "name": "stdout",
     "output_type": "stream",
     "text": [
      "0\n",
      "1\n",
      "2\n",
      "3\n",
      "4\n"
     ]
    }
   ],
   "source": [
    "# break문을 사용하여 a가 5인 경우 while문을 빠져 나가기\n",
    "\n",
    "var = 0\n",
    "while var < 10:\n",
    "    print(var)\n",
    "    var += 1\n",
    "    if var == 5:\n",
    "        break"
   ]
  },
  {
   "cell_type": "code",
   "execution_count": 23,
   "metadata": {},
   "outputs": [
    {
     "name": "stdout",
     "output_type": "stream",
     "text": [
      "1\n",
      "2\n",
      "3\n",
      "4\n",
      "6\n",
      "7\n",
      "8\n",
      "9\n",
      "10\n"
     ]
    }
   ],
   "source": [
    "# 10보다 작은 수 중 5인 경우에만 출력 안하고 나머지 숫자는 출력하기\n",
    "\n",
    "var = 0\n",
    "while var < 10:\n",
    "    var += 1\n",
    "    if var == 5:\n",
    "        continue\n",
    "    print(var)"
   ]
  },
  {
   "cell_type": "code",
   "execution_count": 26,
   "metadata": {},
   "outputs": [
    {
     "name": "stdout",
     "output_type": "stream",
     "text": [
      "1\n",
      "3\n",
      "5\n",
      "7\n",
      "9\n"
     ]
    }
   ],
   "source": [
    "# continue문을 사용하여 홀수 숫자만 출력하기\n",
    "\n",
    "var = 0\n",
    "while var < 10:\n",
    "    var += 1\n",
    "    if var % 2 == 0:\n",
    "        continue\n",
    "    print(var)"
   ]
  },
  {
   "cell_type": "code",
   "execution_count": 31,
   "metadata": {},
   "outputs": [
    {
     "name": "stdout",
     "output_type": "stream",
     "text": [
      "78점 => 노력\n",
      "85점 => 우수\n",
      "95점 => 우수\n",
      "65점 => 노력\n"
     ]
    }
   ],
   "source": [
    "# 점수가 80점 이상이면 우수, 나머지는 노력으로 출력\n",
    "\n",
    "score = [78,85,95,65]\n",
    "\n",
    "var = 0\n",
    "while var < len(score):\n",
    "    if score[var] >= 80:\n",
    "        print(\"%d점 => 우수\"%score[var])\n",
    "    else:\n",
    "        print(\"%d점 => 노력\"%score[var])\n",
    "    var += 1"
   ]
  },
  {
   "cell_type": "code",
   "execution_count": 62,
   "metadata": {},
   "outputs": [
    {
     "name": "stdout",
     "output_type": "stream",
     "text": [
      "노력\n",
      "우수\n",
      "우수\n",
      "노력\n"
     ]
    }
   ],
   "source": [
    "# 점수가 80점 이상이면 우수, 나머지는 노력으로 출력\n",
    "\n",
    "score = [78,85,95,65]\n",
    "var = 0\n",
    "\n",
    "while score:\n",
    "   print(\"우수\") if score.pop(0) >= 80 else print(\"노력\")\n",
    "\n"
   ]
  },
  {
   "cell_type": "code",
   "execution_count": 44,
   "metadata": {},
   "outputs": [
    {
     "name": "stdout",
     "output_type": "stream",
     "text": [
      "80.75\n"
     ]
    }
   ],
   "source": [
    "#  평균구하기 #1\n",
    "\n",
    "score = [78,85,95,65]\n",
    "list_length = len(score)\n",
    "total = 0\n",
    "\n",
    "while score:\n",
    "   total += score.pop()\n",
    "print(total / list_length)"
   ]
  },
  {
   "cell_type": "code",
   "execution_count": 45,
   "metadata": {},
   "outputs": [],
   "source": [
    "import numpy as np"
   ]
  },
  {
   "cell_type": "code",
   "execution_count": 47,
   "metadata": {},
   "outputs": [
    {
     "data": {
      "text/plain": [
       "80.75"
      ]
     },
     "execution_count": 47,
     "metadata": {},
     "output_type": "execute_result"
    }
   ],
   "source": [
    "scores = [78,85,95,65]\n",
    "np.mean(scores)"
   ]
  },
  {
   "cell_type": "code",
   "execution_count": null,
   "metadata": {},
   "outputs": [],
   "source": [
    "# 표준편차 : 평균과 각 Data의 차이의 제곱한 것의 합의 제곱근을 구한것의 평균"
   ]
  },
  {
   "cell_type": "code",
   "execution_count": 49,
   "metadata": {},
   "outputs": [],
   "source": [
    "import math"
   ]
  },
  {
   "cell_type": "code",
   "execution_count": 50,
   "metadata": {},
   "outputs": [
    {
     "name": "stdout",
     "output_type": "stream",
     "text": [
      "80.75\n",
      "119.1875\n"
     ]
    },
    {
     "data": {
      "text/plain": [
       "10.917302780449024"
      ]
     },
     "execution_count": 50,
     "metadata": {},
     "output_type": "execute_result"
    }
   ],
   "source": [
    "scores = [78,85,95,65]\n",
    "# 평균 구하기\n",
    "total = 0\n",
    "var = 0\n",
    "\n",
    "while var < len(scores):\n",
    "    total += scores[var]\n",
    "    var += 1\n",
    "avg = total / len(scores)\n",
    "print(avg)\n",
    "# 각 데이터와 평균의 차이의 제곱의 합의 평균 구하기\n",
    "total = 0\n",
    "var = 0\n",
    "\n",
    "while var < len(scores):\n",
    "    total += (scores[var]-avg)**2\n",
    "    var += 1\n",
    "avg = total / len(scores)\n",
    "print(avg)\n",
    "# 제곱근 씌우기\n",
    "math.sqrt(avg)"
   ]
  },
  {
   "cell_type": "code",
   "execution_count": 53,
   "metadata": {},
   "outputs": [
    {
     "data": {
      "text/plain": [
       "10.917302780449024"
      ]
     },
     "execution_count": 53,
     "metadata": {},
     "output_type": "execute_result"
    }
   ],
   "source": [
    "scores = [78, 85, 95, 65]\n",
    "np.std(scores)"
   ]
  },
  {
   "cell_type": "code",
   "execution_count": 63,
   "metadata": {},
   "outputs": [
    {
     "name": "stdout",
     "output_type": "stream",
     "text": [
      "9  X  1  =   9\n",
      "9  X  2  =  18\n",
      "9  X  3  =  27\n",
      "9  X  4  =  36\n",
      "9  X  5  =  45\n",
      "9  X  6  =  54\n",
      "9  X  7  =  63\n",
      "9  X  8  =  72\n",
      "9  X  9  =  81\n"
     ]
    }
   ],
   "source": [
    "# 구구단 9단 출력\n",
    "\n",
    "i = 9\n",
    "for j in range(1,10):\n",
    "    print(i,\" X \",j,\" = \",\"%2d\"%(i * j))"
   ]
  },
  {
   "cell_type": "code",
   "execution_count": 69,
   "metadata": {},
   "outputs": [
    {
     "name": "stdout",
     "output_type": "stream",
     "text": [
      " 2  4  6  8 10 12 14 16 18 \n",
      " 3  6  9 12 15 18 21 24 27 \n",
      " 4  8 12 16 20 24 28 32 36 \n",
      " 5 10 15 20 25 30 35 40 45 \n",
      " 6 12 18 24 30 36 42 48 54 \n",
      " 7 14 21 28 35 42 49 56 63 \n",
      " 8 16 24 32 40 48 56 64 72 \n",
      " 9 18 27 36 45 54 63 72 81 \n"
     ]
    }
   ],
   "source": [
    "# 구구단 결과만 출력하기\n",
    "for i in range(2,10):\n",
    "    for j in range(1,10):\n",
    "        print(\"%2d\"%(i * j),end=' ')\n",
    "    print()"
   ]
  },
  {
   "cell_type": "code",
   "execution_count": 71,
   "metadata": {},
   "outputs": [
    {
     "name": "stdout",
     "output_type": "stream",
     "text": [
      "1 : 2\n",
      "3 : 4\n",
      "5 : 6\n"
     ]
    }
   ],
   "source": [
    "# for문에 Tuple 사용하기\n",
    "\n",
    "var = [(1,2),(3,4),(5,6)]\n",
    "\n",
    "for first, last in var:\n",
    "    print(first, \":\", last)"
   ]
  },
  {
   "cell_type": "raw",
   "metadata": {},
   "source": [
    "총 5명의 학생이 시험을 보았는데, 시험점수가 60점을 넘으면 합격이고\n",
    "그렇지 않으면 불합격이다.\n",
    "합격, 불합격 보여주기"
   ]
  },
  {
   "cell_type": "code",
   "execution_count": 81,
   "metadata": {},
   "outputs": [
    {
     "name": "stdout",
     "output_type": "stream",
     "text": [
      "1의 학생은 합격입니다.\n",
      "2의 학생은 불합격입니다.\n",
      "3의 학생은 합격입니다.\n",
      "4의 학생은 불합격입니다.\n",
      "5의 학생은 합격입니다.\n"
     ]
    }
   ],
   "source": [
    "scores = [90, 25, 67, 45, 80]\n",
    "\n",
    "for number in range(len(scores)):\n",
    "    if scores[number] >= 60:\n",
    "        print (\"%d의 학생은 %s입니다.\"%(number+1,'합격')) # number는 0부터이므로 +1을 해야함\n",
    "    else:\n",
    "        print(\"%d의 학생은 %s입니다.\"%(number+1,'불합격'))\n"
   ]
  },
  {
   "cell_type": "code",
   "execution_count": 86,
   "metadata": {},
   "outputs": [
    {
     "name": "stdout",
     "output_type": "stream",
     "text": [
      "1의 학생은 합격입니다.\n",
      "2의 학생은 불합격입니다.\n",
      "3의 학생은 합격입니다.\n",
      "4의 학생은 불합격입니다.\n",
      "5의 학생은 합격입니다.\n"
     ]
    }
   ],
   "source": [
    "scores = [90, 25, 67, 45, 80]\n",
    "number = 0\n",
    "\n",
    "for score in scores:\n",
    "    number += 1\n",
    "\n",
    "    # sol 1 )\n",
    "    # if score >= 60:\n",
    "    #     print(\"%d의 학생은 %s입니다.\"%(number,'합격'))\n",
    "    # else:\n",
    "    #     print(\"%d의 학생은 %s입니다.\"%(number,'불합격'))\n",
    "    \n",
    "    \n",
    "    # sol 2 )\n",
    "    print(\"%d의 학생은 %s입니다.\"%(number,'합격')) if score >= 60 else print(\"%d의 학생은 %s입니다.\"%(number,'불합격'))"
   ]
  },
  {
   "cell_type": "code",
   "execution_count": 89,
   "metadata": {},
   "outputs": [
    {
     "name": "stdout",
     "output_type": "stream",
     "text": [
      "1의 학생은 점수가 90이므로 합격입니다.\n",
      "2의 학생은 점수가 25이므로 불합격입니다.\n",
      "3의 학생은 점수가 67이므로 합격입니다.\n",
      "4의 학생은 점수가 45이므로 불합격입니다.\n",
      "5의 학생은 점수가 80이므로 합격입니다.\n"
     ]
    }
   ],
   "source": [
    "scores = [90, 25, 67, 45, 80]\n",
    "number = 0\n",
    "\n",
    "for score in scores:\n",
    "    number += 1\n",
    "\n",
    "    if score >= 60:\n",
    "        print(\"%d의 학생은 점수가 %d이므로 %s입니다.\"%(number,score,'합격'))\n",
    "    else:\n",
    "         print(\"%d의 학생은 점수가 %d이므로 %s입니다.\"%(number,score,'불합격'))"
   ]
  },
  {
   "cell_type": "raw",
   "metadata": {},
   "source": [
    "학생들 점수의 평균을 구하여 평균점수 보다 낮으면 불합격\n",
    "평균점수보다 같거나 높으면 합격을 위의 출력과 같이 보여주기\n"
   ]
  },
  {
   "cell_type": "code",
   "execution_count": 96,
   "metadata": {},
   "outputs": [
    {
     "name": "stdout",
     "output_type": "stream",
     "text": [
      "학급의 평균 점수는 61.40 입니다.\n",
      "\n",
      "1의 학생은 점수가 90이므로 합격입니다.\n",
      "2의 학생은 점수가 25이므로 불합격입니다.\n",
      "3의 학생은 점수가 67이므로 합격입니다.\n",
      "4의 학생은 점수가 45이므로 불합격입니다.\n",
      "5의 학생은 점수가 80이므로 합격입니다.\n"
     ]
    }
   ],
   "source": [
    "scores = [90, 25, 67, 45, 80]\n",
    "number = 0\n",
    "\n",
    "print(\"학급의 평균 점수는 %.2f 입니다.\"%(np.mean(scores)))\n",
    "print(\"\")\n",
    "for score in scores: # scores라는 리스트에 값(score)이 존재한다면 반복문 실행\n",
    "    number += 1 # 학생의 번호를 나타내기 위해 number+1을 함\n",
    "    if score >= np.mean(scores): # 값이 평균보다 높으면 아래와 같은 결과 출력 \n",
    "         print(\"%d의 학생은 점수가 %d이므로 %s입니다.\"%(number,score,'합격'))\n",
    "    else: # 값이 평균보다 낮으면 아래와 같은 결과 출력 \n",
    "        print(\"%d의 학생은 점수가 %d이므로 %s입니다.\"%(number,score,'불합격'))"
   ]
  },
  {
   "cell_type": "code",
   "execution_count": 98,
   "metadata": {},
   "outputs": [
    {
     "name": "stdout",
     "output_type": "stream",
     "text": [
      "1의 학생은 합격입니다.\n",
      "3의 학생은 합격입니다.\n",
      "5의 학생은 합격입니다.\n"
     ]
    }
   ],
   "source": [
    "scores = [90, 25, 67, 45, 80]\n",
    "number = 0\n",
    "\n",
    "for score in scores:\n",
    "    number += 1\n",
    "    if score >= np.mean(scores):\n",
    "         print(\"%d의 학생은 %s입니다.\"%(number,'합격'))\n"
   ]
  },
  {
   "cell_type": "raw",
   "metadata": {},
   "source": [
    "총 5명의 학생이 시험을 보았는데 시험점수가 60점을 넘으면 합격이고 그렇지 않으면 불합격이다.\n",
    "합격인 학생들의 번호만 새로운 List를 생성하여 출력하기"
   ]
  },
  {
   "cell_type": "code",
   "execution_count": 120,
   "metadata": {},
   "outputs": [
    {
     "name": "stdout",
     "output_type": "stream",
     "text": [
      "합격자 번호\n",
      "---------\n",
      "    1     \n",
      "    3     \n",
      "    5     \n"
     ]
    }
   ],
   "source": [
    "scores = [90, 25, 67, 45, 80]\n",
    "number = 0\n",
    "passNum = [] # 합격자 번호를 저장하기 위한 리스트 생성\n",
    "\n",
    "print(\"합격자 번호\")\n",
    "print(\"---------\")\n",
    "# 합격자 번호를 리스트에 저장하기 위한 for문\n",
    "for score in scores:\n",
    "    number += 1\n",
    "    if score >= 60: # 60점이 넘으면 passNum이라는 리스트에 추가 \n",
    "        passNum.append(number)\n",
    "\n",
    "# 합격자 번호가 저장된 리스트의 값을 가운데 정렬로 출력하기 위한 for문\n",
    "for  i in passNum:\n",
    "   print('{0:^10}'.format(i))"
   ]
  },
  {
   "cell_type": "markdown",
   "metadata": {},
   "source": [
    "---\n",
    "# 문장과 단어 추출"
   ]
  },
  {
   "cell_type": "code",
   "execution_count": 132,
   "metadata": {},
   "outputs": [],
   "source": [
    "string = \"\"\"나는 홍길동 입니다.\n",
    "주소는 서울시 입니다.\n",
    "나이는 35세입니다.\"\"\""
   ]
  },
  {
   "cell_type": "code",
   "execution_count": 133,
   "metadata": {},
   "outputs": [
    {
     "data": {
      "text/plain": [
       "'나는 홍길동 입니다.\\n주소는 서울시 입니다.\\n나이는 35세입니다.'"
      ]
     },
     "execution_count": 133,
     "metadata": {},
     "output_type": "execute_result"
    }
   ],
   "source": [
    "string"
   ]
  },
  {
   "cell_type": "code",
   "execution_count": 134,
   "metadata": {},
   "outputs": [
    {
     "name": "stdout",
     "output_type": "stream",
     "text": [
      "['나는 홍길동 입니다.', '주소는 서울시 입니다.', '나이는 35세입니다.']\n",
      "['나는', '홍길동', '입니다.', '주소는', '서울시', '입니다.', '나이는', '35세입니다.']\n"
     ]
    }
   ],
   "source": [
    "sents = [] # 문장 저장\n",
    "words = [] # 단어 저장\n",
    "\n",
    "# 문단 --> 문장\n",
    "for sen in string.split('\\n'):\n",
    "    sents.append(sen)\n",
    "    # 문장 -> 단어\n",
    "    for word in sen.split():\n",
    "        words.append(word)\n",
    "print(sents)\n",
    "print(words)"
   ]
  },
  {
   "cell_type": "code",
   "execution_count": 135,
   "metadata": {},
   "outputs": [
    {
     "data": {
      "text/plain": [
       "[5, 10, 15, 20]"
      ]
     },
     "execution_count": 135,
     "metadata": {},
     "output_type": "execute_result"
    }
   ],
   "source": [
    "var01 = [1,2,3,4]\n",
    "var02 = []\n",
    "# var02에 var01의 인덴스 번호에 각각 5를 곱하여 출력하기\n",
    "\n",
    "for i in var01:\n",
    "    var02.append(i*5)\n",
    "var02"
   ]
  },
  {
   "cell_type": "markdown",
   "metadata": {},
   "source": [
    "# 파이썬의 listed for문"
   ]
  },
  {
   "cell_type": "code",
   "execution_count": 136,
   "metadata": {},
   "outputs": [
    {
     "data": {
      "text/plain": [
       "[5, 10, 15, 20]"
      ]
     },
     "execution_count": 136,
     "metadata": {},
     "output_type": "execute_result"
    }
   ],
   "source": [
    "var01 = [1,2,3,4]\n",
    "var02 = [i * 5 for i in var01]\n",
    "var02"
   ]
  },
  {
   "cell_type": "code",
   "execution_count": 138,
   "metadata": {},
   "outputs": [
    {
     "data": {
      "text/plain": [
       "[10, 20]"
      ]
     },
     "execution_count": 138,
     "metadata": {},
     "output_type": "execute_result"
    }
   ],
   "source": [
    "# var01의 데이터가 짝수인 경우에만 5를 곱하여 var02 list 만들기\n",
    "\n",
    "var01 = [1,2,3,4]\n",
    "var02 = [i * 5 for i in var01 if i % 2 ==0] # 한 줄만 가능\n",
    "var02"
   ]
  },
  {
   "cell_type": "code",
   "execution_count": 148,
   "metadata": {},
   "outputs": [
    {
     "name": "stdout",
     "output_type": "stream",
     "text": [
      "[2, 4, 6, 8, 10, 12, 14, 16, 18, 3, 6, 9, 12, 15, 18, 21, 24, 27, 4, 8, 12, 16, 20, 24, 28, 32, 36, 5, 10, 15, 20, 25, 30, 35, 40, 45, 6, 12, 18, 24, 30, 36, 42, 48, 54, 7, 14, 21, 28, 35, 42, 49, 56, 63, 8, 16, 24, 32, 40, 48, 56, 64, 72, 9, 18, 27, 36, 45, 54, 63, 72, 81] "
     ]
    }
   ],
   "source": [
    "# 구구단 결과만 리스트로 만들기\n",
    "\n",
    "gugu = [j * i for i in range(2,10) for j in range(1,10)]\n",
    "print(gugu,end=' ')"
   ]
  },
  {
   "cell_type": "code",
   "execution_count": 149,
   "metadata": {},
   "outputs": [
    {
     "name": "stdout",
     "output_type": "stream",
     "text": [
      "합격한 학생들의 평균 점수는 79.00 입니다.\n"
     ]
    }
   ],
   "source": [
    "# 60점 이상의 학생 점수만 List로 만들어서 평균 출력하기 (listed for문 사용)\n",
    "scores = [90, 25, 67, 45, 80]\n",
    "passStu = [i for i in scores if i >= 60]\n",
    "print(\"합격한 학생들의 평균 점수는 %.2f 입니다.\"%np.mean(passStu))"
   ]
  },
  {
   "cell_type": "code",
   "execution_count": null,
   "metadata": {},
   "outputs": [],
   "source": []
  },
  {
   "cell_type": "code",
   "execution_count": null,
   "metadata": {},
   "outputs": [],
   "source": []
  }
 ],
 "metadata": {
  "kernelspec": {
   "display_name": "Python 3.9.7 ('base')",
   "language": "python",
   "name": "python3"
  },
  "language_info": {
   "codemirror_mode": {
    "name": "ipython",
    "version": 3
   },
   "file_extension": ".py",
   "mimetype": "text/x-python",
   "name": "python",
   "nbconvert_exporter": "python",
   "pygments_lexer": "ipython3",
   "version": "3.9.7"
  },
  "orig_nbformat": 4,
  "vscode": {
   "interpreter": {
    "hash": "c34e8390e776d2ee205b71ed5a6130fee3cef8da5e87e926ce18e14f4a070d72"
   }
  }
 },
 "nbformat": 4,
 "nbformat_minor": 2
}

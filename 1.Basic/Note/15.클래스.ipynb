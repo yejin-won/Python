{
 "cells": [
  {
   "cell_type": "markdown",
   "metadata": {},
   "source": [
    "# Class"
   ]
  },
  {
   "cell_type": "code",
   "execution_count": 1,
   "metadata": {},
   "outputs": [],
   "source": [
    "# class 선언\n",
    "\n",
    "class Services:\n",
    "    secret = \"임금님 귀는 당나귀 귀다!\""
   ]
  },
  {
   "cell_type": "code",
   "execution_count": 2,
   "metadata": {},
   "outputs": [
    {
     "name": "stdout",
     "output_type": "stream",
     "text": [
      "임금님 귀는 당나귀 귀다!\n"
     ]
    }
   ],
   "source": [
    "# instance를 만들어서 class를 사용\n",
    "\n",
    "instance01 = Services()\n",
    "print(instance01.secret)"
   ]
  },
  {
   "cell_type": "code",
   "execution_count": 3,
   "metadata": {},
   "outputs": [],
   "source": [
    "class Services:\n",
    "    secret = \"임금님 귀는 당나귀 귀다!\"\n",
    "    def sum(self,num01,num02):\n",
    "        result = num01 + num02\n",
    "        print(\"%d + %d  = %d\"%(num01,num02,result))"
   ]
  },
  {
   "cell_type": "code",
   "execution_count": 4,
   "metadata": {},
   "outputs": [
    {
     "name": "stdout",
     "output_type": "stream",
     "text": [
      "임금님 귀는 당나귀 귀다!\n",
      "2 + 3  = 5\n",
      "None\n"
     ]
    }
   ],
   "source": [
    "# instance를 만들어서 class를 사용\n",
    "\n",
    "instance01 = Services()\n",
    "print(instance01.secret)\n",
    "print(instance01.sum(2,3)) # return을 안주면 None값 같이 출력됨"
   ]
  },
  {
   "cell_type": "code",
   "execution_count": 7,
   "metadata": {},
   "outputs": [],
   "source": [
    "class Services:\n",
    "    name = \"\"\n",
    "    secret = \"임금님 귀는 당나귀 귀다!\"\n",
    "    def setname(self,name):\n",
    "        self.name = name\n",
    "    def sum(self,num01,num02):\n",
    "        result = num01 + num02\n",
    "        print(\"%s님! %d + %d  = %d 입니다.\"%(self.name,num01,num02,result))\n",
    "        # %(name,...) 이라고 쓰면 sum에서 name이라는 변수를 찾으려고 하므로 self.name을 해야 \n",
    "        # 해당 class의 property의 사용하겠다고 인식됨\n",
    "        # Java의 this와 같다고 생각하면 됨"
   ]
  },
  {
   "cell_type": "code",
   "execution_count": 8,
   "metadata": {},
   "outputs": [
    {
     "name": "stdout",
     "output_type": "stream",
     "text": [
      "유비님! 2 + 3  = 5 입니다.\n"
     ]
    }
   ],
   "source": [
    "instance01 = Services()\n",
    "instance01.setname(\"유비\")\n",
    "instance01.sum(2,3)"
   ]
  },
  {
   "cell_type": "code",
   "execution_count": 9,
   "metadata": {},
   "outputs": [],
   "source": [
    "class Services:\n",
    "    name = \"\"\n",
    "    secret = \"임금님 귀는 당나귀 귀다!\"\n",
    "    def __init__(self,name): # 생성자\n",
    "        self.name = name\n",
    "    def sum(self,num01,num02):\n",
    "        result = num01 + num02\n",
    "        print(\"%s님! %d + %d  = %d 입니다.\"%(self.name,num01,num02,result))"
   ]
  },
  {
   "cell_type": "code",
   "execution_count": 10,
   "metadata": {},
   "outputs": [
    {
     "name": "stdout",
     "output_type": "stream",
     "text": [
      "관우님! 2 + 3  = 5 입니다.\n"
     ]
    }
   ],
   "source": [
    "instance01 = Services(\"관우\")\n",
    "instance01.sum(2,3) # 생성자가 있어 함수를 두 번 실행하지 않아도 됨"
   ]
  },
  {
   "cell_type": "code",
   "execution_count": 24,
   "metadata": {},
   "outputs": [],
   "source": [
    "class Calc:\n",
    "    #a = b = 0   # 전역번수 선언을 해주지않아도 동작은 됨 , self.a , self.b가 이미 전역변수 역할을 함\n",
    "    def setData(self,a,b):\n",
    "        self.a = a # self.a 는 a랑 다른 것임 \n",
    "        self.b = b\n",
    "    def sum(self): # 전역변수 self.a,self.b를 이용해 사칙연산을 하므로 (self,a,b) 할 필요없음\n",
    "        return self.a + self.b\n",
    "    def mul(self):  \n",
    "        return self.a * self.b\n",
    "    def sub(self):\n",
    "        return self.a - self.b\n",
    "    def div(self):\n",
    "        return self.a / self.b\n",
    "    "
   ]
  },
  {
   "cell_type": "code",
   "execution_count": 25,
   "metadata": {},
   "outputs": [
    {
     "name": "stdout",
     "output_type": "stream",
     "text": [
      "덧셈 6\n",
      "곱셈 8\n",
      "뺄셈 2\n",
      "나눗셈 2.0\n"
     ]
    }
   ],
   "source": [
    "calc01 = Calc()\n",
    "calc01.setData(4,2)\n",
    "print(\"덧셈\",calc01.sum())\n",
    "print(\"곱셈\",calc01.mul())\n",
    "print(\"뺄셈\",calc01.sub())\n",
    "print(\"나눗셈\",calc01.div())\n"
   ]
  },
  {
   "cell_type": "code",
   "execution_count": null,
   "metadata": {},
   "outputs": [],
   "source": []
  }
 ],
 "metadata": {
  "kernelspec": {
   "display_name": "Python 3.9.7 ('base')",
   "language": "python",
   "name": "python3"
  },
  "language_info": {
   "codemirror_mode": {
    "name": "ipython",
    "version": 3
   },
   "file_extension": ".py",
   "mimetype": "text/x-python",
   "name": "python",
   "nbconvert_exporter": "python",
   "pygments_lexer": "ipython3",
   "version": "3.9.7"
  },
  "orig_nbformat": 4,
  "vscode": {
   "interpreter": {
    "hash": "c34e8390e776d2ee205b71ed5a6130fee3cef8da5e87e926ce18e14f4a070d72"
   }
  }
 },
 "nbformat": 4,
 "nbformat_minor": 2
}

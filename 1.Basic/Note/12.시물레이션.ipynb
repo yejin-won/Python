{
 "cells": [
  {
   "cell_type": "markdown",
   "metadata": {},
   "source": [
    "# 몬테카를로 시뮬레이션\n",
    ": 자료가 없을 경우 난수를 통해서 가설 증명"
   ]
  },
  {
   "cell_type": "code",
   "execution_count": 1,
   "metadata": {},
   "outputs": [],
   "source": [
    "# 동전의 앞면과 뒷면이 나올 확률이 같다는 것을 증명"
   ]
  },
  {
   "cell_type": "code",
   "execution_count": 2,
   "metadata": {},
   "outputs": [],
   "source": [
    "import random"
   ]
  },
  {
   "cell_type": "code",
   "execution_count": 3,
   "metadata": {},
   "outputs": [
    {
     "data": {
      "text/plain": [
       "8"
      ]
     },
     "execution_count": 3,
     "metadata": {},
     "output_type": "execute_result"
    }
   ],
   "source": [
    "random.randint(1,10)"
   ]
  },
  {
   "cell_type": "code",
   "execution_count": 4,
   "metadata": {},
   "outputs": [],
   "source": [
    "def coinF(n):\n",
    "    coninFront  = coninRear = 0\n",
    "    for i in range(1,n+1):\n",
    "        x = random.randint(1, 2)\n",
    "        if x == 1:\n",
    "            coninFront += 1\n",
    "        else:\n",
    "            coninRear += 1\n",
    "    print(\"%7d번 시도시 동전의 앞면은 %6d번이고 동전의 뒷면은 %6d번 입니다.\"%(n,coninFront,coninRear))"
   ]
  },
  {
   "cell_type": "code",
   "execution_count": 5,
   "metadata": {},
   "outputs": [
    {
     "name": "stdout",
     "output_type": "stream",
     "text": [
      "     10번 시도시 동전의 앞면은      5번이고 동전의 뒷면은      5번 입니다.\n",
      "    100번 시도시 동전의 앞면은     47번이고 동전의 뒷면은     53번 입니다.\n",
      "   1000번 시도시 동전의 앞면은    534번이고 동전의 뒷면은    466번 입니다.\n",
      "  10000번 시도시 동전의 앞면은   4965번이고 동전의 뒷면은   5035번 입니다.\n",
      " 100000번 시도시 동전의 앞면은  50028번이고 동전의 뒷면은  49972번 입니다.\n",
      "1000000번 시도시 동전의 앞면은 499228번이고 동전의 뒷면은 500772번 입니다.\n"
     ]
    }
   ],
   "source": [
    "coinF(10)\n",
    "coinF(100)\n",
    "coinF(1000)\n",
    "coinF(10000)\n",
    "coinF(100000)\n",
    "coinF(1000000)"
   ]
  },
  {
   "cell_type": "code",
   "execution_count": 7,
   "metadata": {},
   "outputs": [],
   "source": [
    "def rspGame(n):\n",
    "    rock = scissor = paper = 0\n",
    "    for i in range(1,n+1):\n",
    "        x = random.randint(1,3)\n",
    "        if x == 1:\n",
    "            rock += 1\n",
    "        elif x == 2:\n",
    "            scissor += 1\n",
    "        else:\n",
    "            paper += 1\n",
    "    print(\"%7d번 시도시 가위는 %6d이고 바위는 %6d이고 보는 %6d입니다.\"%(n,rock,scissor,paper))"
   ]
  },
  {
   "cell_type": "code",
   "execution_count": 8,
   "metadata": {},
   "outputs": [
    {
     "name": "stdout",
     "output_type": "stream",
     "text": [
      "     10번 시도시 가위는      2이고 바위는      5이고 보는      3입니다.\n",
      "    100번 시도시 가위는     39이고 바위는     28이고 보는     33입니다.\n",
      "   1000번 시도시 가위는    323이고 바위는    345이고 보는    332입니다.\n",
      "  10000번 시도시 가위는   3303이고 바위는   3395이고 보는   3302입니다.\n",
      " 100000번 시도시 가위는  33236이고 바위는  33627이고 보는  33137입니다.\n",
      "1000000번 시도시 가위는 332510이고 바위는 333396이고 보는 334094입니다.\n"
     ]
    }
   ],
   "source": [
    "rspGame(10)\n",
    "rspGame(100)\n",
    "rspGame(1000)\n",
    "rspGame(10000)\n",
    "rspGame(100000)\n",
    "rspGame(1000000)"
   ]
  },
  {
   "cell_type": "code",
   "execution_count": null,
   "metadata": {},
   "outputs": [],
   "source": []
  }
 ],
 "metadata": {
  "kernelspec": {
   "display_name": "Python 3.9.7 ('base')",
   "language": "python",
   "name": "python3"
  },
  "language_info": {
   "codemirror_mode": {
    "name": "ipython",
    "version": 3
   },
   "file_extension": ".py",
   "mimetype": "text/x-python",
   "name": "python",
   "nbconvert_exporter": "python",
   "pygments_lexer": "ipython3",
   "version": "3.9.7"
  },
  "orig_nbformat": 4,
  "vscode": {
   "interpreter": {
    "hash": "c34e8390e776d2ee205b71ed5a6130fee3cef8da5e87e926ce18e14f4a070d72"
   }
  }
 },
 "nbformat": 4,
 "nbformat_minor": 2
}
